{
 "cells": [
  {
   "cell_type": "markdown",
   "id": "cadd1352-1b8c-485e-aff2-cda81f1961c3",
   "metadata": {},
   "source": [
    "# Canadian Cheese & Climate Analysis – CSF Internship Assessment"
   ]
  },
  {
   "cell_type": "markdown",
   "id": "c221bd95-74f5-47bd-a1db-39516911e062",
   "metadata": {},
   "source": [
    "## Introduction"
   ]
  },
  {
   "cell_type": "markdown",
   "id": "15e5fe99-f951-4d47-9405-0a5866ac3c0f",
   "metadata": {},
   "source": [
    "This notebook explores the relationship between cheese production in Canadian provinces and their respective climate conditions. Using cheese data and weather information, I aim to discover potential patterns or influences temperature may have on cheese types, textures, or production volume."
   ]
  },
  {
   "cell_type": "markdown",
   "id": "51ca2451-372a-49f6-96ba-a5b20412ce3a",
   "metadata": {},
   "source": [
    "# Objectiive"
   ]
  },
  {
   "cell_type": "markdown",
   "id": "2722076a-5661-4ec7-8ce6-3be595095ecf",
   "metadata": {},
   "source": [
    "The goal of this analysis is to explore the relationship between **climate (temperature)** and **cheese production characteristics** across Canadian provinces. Using datasets from the Canadian Cheese Directory and weather records, I aim to:\n",
    "\n",
    "- Clean and merge cheese and climate data at the province level\n",
    "- Analyze how temperature might influence:\n",
    "  - Cheese moisture content\n",
    "  - Cheese categories (e.g., firm, soft, semi-soft)\n",
    "  - Regional patterns in production\n",
    "- Visualize patterns and draw insights that support data-driven understanding of cheese diversity in Canada"
   ]
  },
  {
   "cell_type": "markdown",
   "id": "2e58fef1-139e-4be2-a33b-82c946bd5c6e",
   "metadata": {},
   "source": [
    "# Exploratory Data Analysis"
   ]
  },
  {
   "cell_type": "code",
   "execution_count": 1,
   "id": "95ac7363-c52a-4f91-a425-b60b9a17cf4a",
   "metadata": {},
   "outputs": [],
   "source": [
    "# Importing the libraries\n",
    "import pandas as pd   \n",
    "import warnings  \n",
    "warnings.filterwarnings('ignore')"
   ]
  },
  {
   "cell_type": "code",
   "execution_count": 2,
   "id": "ffb98e45-3b2b-48b3-bc74-d4a597d14564",
   "metadata": {},
   "outputs": [
    {
     "data": {
      "text/html": [
       "<div>\n",
       "<style scoped>\n",
       "    .dataframe tbody tr th:only-of-type {\n",
       "        vertical-align: middle;\n",
       "    }\n",
       "\n",
       "    .dataframe tbody tr th {\n",
       "        vertical-align: top;\n",
       "    }\n",
       "\n",
       "    .dataframe thead th {\n",
       "        text-align: right;\n",
       "    }\n",
       "</style>\n",
       "<table border=\"1\" class=\"dataframe\">\n",
       "  <thead>\n",
       "    <tr style=\"text-align: right;\">\n",
       "      <th></th>\n",
       "      <th>CheeseId</th>\n",
       "      <th>ManufacturerProvCode</th>\n",
       "      <th>ManufacturingTypeEn</th>\n",
       "      <th>MoisturePercent</th>\n",
       "      <th>FlavourEn</th>\n",
       "      <th>CharacteristicsEn</th>\n",
       "      <th>Organic</th>\n",
       "      <th>CategoryTypeEn</th>\n",
       "      <th>MilkTypeEn</th>\n",
       "      <th>MilkTreatmentTypeEn</th>\n",
       "      <th>RindTypeEn</th>\n",
       "      <th>CheeseName</th>\n",
       "      <th>FatLevel</th>\n",
       "    </tr>\n",
       "  </thead>\n",
       "  <tbody>\n",
       "    <tr>\n",
       "      <th>0</th>\n",
       "      <td>228</td>\n",
       "      <td>NB</td>\n",
       "      <td>Farmstead</td>\n",
       "      <td>47.0</td>\n",
       "      <td>Sharp, lactic</td>\n",
       "      <td>Uncooked</td>\n",
       "      <td>0</td>\n",
       "      <td>Firm Cheese</td>\n",
       "      <td>Ewe</td>\n",
       "      <td>Raw Milk</td>\n",
       "      <td>Washed Rind</td>\n",
       "      <td>Sieur de Duplessis (Le)</td>\n",
       "      <td>lower fat</td>\n",
       "    </tr>\n",
       "    <tr>\n",
       "      <th>1</th>\n",
       "      <td>242</td>\n",
       "      <td>NB</td>\n",
       "      <td>Farmstead</td>\n",
       "      <td>47.9</td>\n",
       "      <td>Sharp, lactic, lightly caramelized</td>\n",
       "      <td>Uncooked</td>\n",
       "      <td>0</td>\n",
       "      <td>Semi-soft Cheese</td>\n",
       "      <td>Cow</td>\n",
       "      <td>Raw Milk</td>\n",
       "      <td>Washed Rind</td>\n",
       "      <td>Tomme Le Champ Doré</td>\n",
       "      <td>lower fat</td>\n",
       "    </tr>\n",
       "    <tr>\n",
       "      <th>2</th>\n",
       "      <td>301</td>\n",
       "      <td>ON</td>\n",
       "      <td>Industrial</td>\n",
       "      <td>54.0</td>\n",
       "      <td>Mild, tangy, and fruity</td>\n",
       "      <td>Pressed and cooked cheese, pasta filata, inter...</td>\n",
       "      <td>0</td>\n",
       "      <td>Firm Cheese</td>\n",
       "      <td>Cow</td>\n",
       "      <td>Pasteurized</td>\n",
       "      <td>NaN</td>\n",
       "      <td>Provolone Sette Fette (Tre-Stelle)</td>\n",
       "      <td>lower fat</td>\n",
       "    </tr>\n",
       "    <tr>\n",
       "      <th>3</th>\n",
       "      <td>303</td>\n",
       "      <td>NB</td>\n",
       "      <td>Farmstead</td>\n",
       "      <td>47.0</td>\n",
       "      <td>Sharp with fruity notes and a hint of wild honey</td>\n",
       "      <td>NaN</td>\n",
       "      <td>0</td>\n",
       "      <td>Veined Cheeses</td>\n",
       "      <td>Cow</td>\n",
       "      <td>Raw Milk</td>\n",
       "      <td>NaN</td>\n",
       "      <td>Geai Bleu (Le)</td>\n",
       "      <td>lower fat</td>\n",
       "    </tr>\n",
       "    <tr>\n",
       "      <th>4</th>\n",
       "      <td>319</td>\n",
       "      <td>NB</td>\n",
       "      <td>Farmstead</td>\n",
       "      <td>49.4</td>\n",
       "      <td>Softer taste</td>\n",
       "      <td>NaN</td>\n",
       "      <td>1</td>\n",
       "      <td>Semi-soft Cheese</td>\n",
       "      <td>Cow</td>\n",
       "      <td>Raw Milk</td>\n",
       "      <td>Washed Rind</td>\n",
       "      <td>Gamin (Le)</td>\n",
       "      <td>lower fat</td>\n",
       "    </tr>\n",
       "  </tbody>\n",
       "</table>\n",
       "</div>"
      ],
      "text/plain": [
       "   CheeseId ManufacturerProvCode ManufacturingTypeEn  MoisturePercent  \\\n",
       "0       228                   NB           Farmstead             47.0   \n",
       "1       242                   NB           Farmstead             47.9   \n",
       "2       301                   ON          Industrial             54.0   \n",
       "3       303                   NB           Farmstead             47.0   \n",
       "4       319                   NB           Farmstead             49.4   \n",
       "\n",
       "                                          FlavourEn  \\\n",
       "0                                     Sharp, lactic   \n",
       "1                Sharp, lactic, lightly caramelized   \n",
       "2                           Mild, tangy, and fruity   \n",
       "3  Sharp with fruity notes and a hint of wild honey   \n",
       "4                                      Softer taste   \n",
       "\n",
       "                                   CharacteristicsEn  Organic  \\\n",
       "0                                           Uncooked        0   \n",
       "1                                           Uncooked        0   \n",
       "2  Pressed and cooked cheese, pasta filata, inter...        0   \n",
       "3                                                NaN        0   \n",
       "4                                                NaN        1   \n",
       "\n",
       "     CategoryTypeEn MilkTypeEn MilkTreatmentTypeEn   RindTypeEn  \\\n",
       "0       Firm Cheese        Ewe            Raw Milk  Washed Rind   \n",
       "1  Semi-soft Cheese        Cow            Raw Milk  Washed Rind   \n",
       "2       Firm Cheese        Cow         Pasteurized          NaN   \n",
       "3    Veined Cheeses        Cow            Raw Milk          NaN   \n",
       "4  Semi-soft Cheese        Cow            Raw Milk  Washed Rind   \n",
       "\n",
       "                           CheeseName   FatLevel  \n",
       "0             Sieur de Duplessis (Le)  lower fat  \n",
       "1                 Tomme Le Champ Doré  lower fat  \n",
       "2  Provolone Sette Fette (Tre-Stelle)  lower fat  \n",
       "3                      Geai Bleu (Le)  lower fat  \n",
       "4                          Gamin (Le)  lower fat  "
      ]
     },
     "execution_count": 2,
     "metadata": {},
     "output_type": "execute_result"
    }
   ],
   "source": [
    "#Load the Cheese datasets\n",
    "cheese_df = pd.read_csv(r'C:\\Users\\Aashi Bansal\\Downloads\\cheese_data.csv')\n",
    "cheese_df.head()"
   ]
  },
  {
   "cell_type": "markdown",
   "id": "1df888ef-1f5f-454e-a65e-7b042ce90b25",
   "metadata": {},
   "source": [
    "Key columns:\n",
    "\n",
    "- ManufacturerProvCode: Province code (e.g., NB, ON)\n",
    "\n",
    "- CategoryTypeEn: Cheese type (Firm, Semi-soft, etc.)\n",
    "\n",
    "- MilkTypeEn, MilkTreatmentTypeEn, FatLevel, etc.\n",
    "\n",
    "- MoisturePercent, FlavourEn, Organic, etc."
   ]
  },
  {
   "cell_type": "code",
   "execution_count": 3,
   "id": "9c862a91-fa90-4e0a-8ae2-b3d2efd6d385",
   "metadata": {},
   "outputs": [
    {
     "data": {
      "text/html": [
       "<div>\n",
       "<style scoped>\n",
       "    .dataframe tbody tr th:only-of-type {\n",
       "        vertical-align: middle;\n",
       "    }\n",
       "\n",
       "    .dataframe tbody tr th {\n",
       "        vertical-align: top;\n",
       "    }\n",
       "\n",
       "    .dataframe thead th {\n",
       "        text-align: right;\n",
       "    }\n",
       "</style>\n",
       "<table border=\"1\" class=\"dataframe\">\n",
       "  <thead>\n",
       "    <tr style=\"text-align: right;\">\n",
       "      <th></th>\n",
       "      <th>Community</th>\n",
       "      <th>Weather station</th>\n",
       "      <th>Location</th>\n",
       "      <th>Elevation</th>\n",
       "      <th>January(Avg. high °C (°F))</th>\n",
       "      <th>January(Avg. low °C (°F))</th>\n",
       "      <th>July(Avg. high °C (°F))</th>\n",
       "      <th>July(Avg. low °C (°F))</th>\n",
       "      <th>Annual(Avg. high °C (°F))</th>\n",
       "      <th>Annual(Avg. low °C (°F))</th>\n",
       "    </tr>\n",
       "  </thead>\n",
       "  <tbody>\n",
       "    <tr>\n",
       "      <th>0</th>\n",
       "      <td>Alberton, PE</td>\n",
       "      <td>NaN</td>\n",
       "      <td>46°51′00″N 064°01′00″W / 46.85000°N 64.01667°W...</td>\n",
       "      <td>3m (9.8ft)</td>\n",
       "      <td>−3.9 (25.0)</td>\n",
       "      <td>−12.5 (9.5)</td>\n",
       "      <td>23.2 (73.8)</td>\n",
       "      <td>14.1 (57.4)</td>\n",
       "      <td>9.6 (49.3)</td>\n",
       "      <td>1.3 (34.3)</td>\n",
       "    </tr>\n",
       "    <tr>\n",
       "      <th>1</th>\n",
       "      <td>Baker Lake, NU</td>\n",
       "      <td>YBK</td>\n",
       "      <td>64°17′56″N 096°04′40″W / 64.29889°N 96.07778°W...</td>\n",
       "      <td>18.6m (61ft)</td>\n",
       "      <td>−27.7 (−17.9)</td>\n",
       "      <td>−34.8 (−30.6)</td>\n",
       "      <td>17.0 (62.6)</td>\n",
       "      <td>6.1 (43.0)</td>\n",
       "      <td>−7.3 (18.9)</td>\n",
       "      <td>−15.2 (4.6)</td>\n",
       "    </tr>\n",
       "    <tr>\n",
       "      <th>2</th>\n",
       "      <td>Baie-Comeau, QC</td>\n",
       "      <td>YBC</td>\n",
       "      <td>49°08′00″N 068°12′00″W / 49.13333°N 68.20000°W...</td>\n",
       "      <td>22m (72ft)</td>\n",
       "      <td>−8.7 (16.3)</td>\n",
       "      <td>−19.9 (−3.8)</td>\n",
       "      <td>20.9 (69.6)</td>\n",
       "      <td>10.3 (50.5)</td>\n",
       "      <td>6.6 (43.9)</td>\n",
       "      <td>−3.3 (26.1)</td>\n",
       "    </tr>\n",
       "    <tr>\n",
       "      <th>3</th>\n",
       "      <td>Calgary, AB</td>\n",
       "      <td>YYC</td>\n",
       "      <td>51°06′50″N 114°01′13″W / 51.11389°N 114.02028°...</td>\n",
       "      <td>1,084m (3,556ft)</td>\n",
       "      <td>−0.9 (30.4)</td>\n",
       "      <td>−13.2 (8.2)</td>\n",
       "      <td>23.2 (73.8)</td>\n",
       "      <td>9.8 (49.6)</td>\n",
       "      <td>10.8 (51.4)</td>\n",
       "      <td>−1.9 (28.6)</td>\n",
       "    </tr>\n",
       "    <tr>\n",
       "      <th>4</th>\n",
       "      <td>Charlottetown, PE</td>\n",
       "      <td>YYG</td>\n",
       "      <td>46°17′19″N 063°07′43″W / 46.28861°N 63.12861°W...</td>\n",
       "      <td>49m (161ft)</td>\n",
       "      <td>−3.4 (25.9)</td>\n",
       "      <td>−12.1 (10.2)</td>\n",
       "      <td>23.3 (73.9)</td>\n",
       "      <td>14.1 (57.4)</td>\n",
       "      <td>9.9 (49.8)</td>\n",
       "      <td>1.3 (34.3)</td>\n",
       "    </tr>\n",
       "  </tbody>\n",
       "</table>\n",
       "</div>"
      ],
      "text/plain": [
       "           Community Weather station  \\\n",
       "0       Alberton, PE             NaN   \n",
       "1     Baker Lake, NU             YBK   \n",
       "2    Baie-Comeau, QC             YBC   \n",
       "3        Calgary, AB             YYC   \n",
       "4  Charlottetown, PE             YYG   \n",
       "\n",
       "                                            Location         Elevation  \\\n",
       "0  46°51′00″N 064°01′00″W / 46.85000°N 64.01667°W...        3m (9.8ft)   \n",
       "1  64°17′56″N 096°04′40″W / 64.29889°N 96.07778°W...      18.6m (61ft)   \n",
       "2  49°08′00″N 068°12′00″W / 49.13333°N 68.20000°W...        22m (72ft)   \n",
       "3  51°06′50″N 114°01′13″W / 51.11389°N 114.02028°...  1,084m (3,556ft)   \n",
       "4  46°17′19″N 063°07′43″W / 46.28861°N 63.12861°W...       49m (161ft)   \n",
       "\n",
       "  January(Avg. high °C (°F)) January(Avg. low °C (°F))  \\\n",
       "0                −3.9 (25.0)               −12.5 (9.5)   \n",
       "1              −27.7 (−17.9)             −34.8 (−30.6)   \n",
       "2                −8.7 (16.3)              −19.9 (−3.8)   \n",
       "3                −0.9 (30.4)               −13.2 (8.2)   \n",
       "4                −3.4 (25.9)              −12.1 (10.2)   \n",
       "\n",
       "  July(Avg. high °C (°F)) July(Avg. low °C (°F)) Annual(Avg. high °C (°F))  \\\n",
       "0             23.2 (73.8)            14.1 (57.4)                9.6 (49.3)   \n",
       "1             17.0 (62.6)             6.1 (43.0)               −7.3 (18.9)   \n",
       "2             20.9 (69.6)            10.3 (50.5)                6.6 (43.9)   \n",
       "3             23.2 (73.8)             9.8 (49.6)               10.8 (51.4)   \n",
       "4             23.3 (73.9)            14.1 (57.4)                9.9 (49.8)   \n",
       "\n",
       "  Annual(Avg. low °C (°F))  \n",
       "0               1.3 (34.3)  \n",
       "1              −15.2 (4.6)  \n",
       "2              −3.3 (26.1)  \n",
       "3              −1.9 (28.6)  \n",
       "4               1.3 (34.3)  "
      ]
     },
     "execution_count": 3,
     "metadata": {},
     "output_type": "execute_result"
    }
   ],
   "source": [
    "weather_df = pd.read_csv(r'C:\\Users\\Aashi Bansal\\Downloads\\canada_weather.csv')\n",
    "weather_df.head()"
   ]
  },
  {
   "cell_type": "markdown",
   "id": "727cbf8e-6a40-4c7a-9b4c-6eee236a04ec",
   "metadata": {},
   "source": [
    "# Data Cleaning"
   ]
  },
  {
   "cell_type": "code",
   "execution_count": 4,
   "id": "09321a8f-d2d9-4477-ae92-a82203ccc2fa",
   "metadata": {},
   "outputs": [
    {
     "name": "stdout",
     "output_type": "stream",
     "text": [
      "<class 'pandas.core.frame.DataFrame'>\n",
      "RangeIndex: 1042 entries, 0 to 1041\n",
      "Data columns (total 13 columns):\n",
      " #   Column                Non-Null Count  Dtype  \n",
      "---  ------                --------------  -----  \n",
      " 0   CheeseId              1042 non-null   int64  \n",
      " 1   ManufacturerProvCode  1042 non-null   object \n",
      " 2   ManufacturingTypeEn   1042 non-null   object \n",
      " 3   MoisturePercent       1028 non-null   float64\n",
      " 4   FlavourEn             801 non-null    object \n",
      " 5   CharacteristicsEn     643 non-null    object \n",
      " 6   Organic               1042 non-null   int64  \n",
      " 7   CategoryTypeEn        1019 non-null   object \n",
      " 8   MilkTypeEn            1041 non-null   object \n",
      " 9   MilkTreatmentTypeEn   977 non-null    object \n",
      " 10  RindTypeEn            721 non-null    object \n",
      " 11  CheeseName            1042 non-null   object \n",
      " 12  FatLevel              1042 non-null   object \n",
      "dtypes: float64(1), int64(2), object(10)\n",
      "memory usage: 106.0+ KB\n"
     ]
    },
    {
     "data": {
      "text/plain": [
       "CheeseId                  0\n",
       "ManufacturerProvCode      0\n",
       "ManufacturingTypeEn       0\n",
       "MoisturePercent          14\n",
       "FlavourEn               241\n",
       "CharacteristicsEn       399\n",
       "Organic                   0\n",
       "CategoryTypeEn           23\n",
       "MilkTypeEn                1\n",
       "MilkTreatmentTypeEn      65\n",
       "RindTypeEn              321\n",
       "CheeseName                0\n",
       "FatLevel                  0\n",
       "dtype: int64"
      ]
     },
     "execution_count": 4,
     "metadata": {},
     "output_type": "execute_result"
    }
   ],
   "source": [
    "# Checking data types and null values\n",
    "cheese_df.info()\n",
    "cheese_df.isnull().sum()"
   ]
  },
  {
   "cell_type": "markdown",
   "id": "94ec086b-d790-4b14-9f78-aa234d2f59af",
   "metadata": {},
   "source": [
    "**Dataset Overview:**\n",
    "The cheese dataset contains 1,042 entries and 13 columns. It includes detailed information on cheese products across various Canadian provinces, such as manufacturing type, fat level, moisture percentage, milk type, and more."
   ]
  },
  {
   "cell_type": "markdown",
   "id": "3bdaedfd-c7f4-4b28-ab25-cef14cd88a53",
   "metadata": {},
   "source": [
    "**Missing Data Insights:**\n",
    "Several columns have missing values:\n",
    "\n",
    "*MoisturePercent:* 14 missing\n",
    "\n",
    "*CategoryTypeEn:* 23 missing\n",
    "\n",
    "*MilkTreatmentTypeEn:* 65 missing\n",
    "\n",
    "*FlavourEn, CharacteristicsEn, and RindTypeEn* have substantial missing data, suggesting they may be less reliable for core analysis."
   ]
  },
  {
   "cell_type": "markdown",
   "id": "133392d3-045f-45bc-9cb1-25ad99602cd1",
   "metadata": {},
   "source": [
    "To analyze the relationship between cheese characteristics and provincial weather, key variables like: ManufacturerProvCode (Province), CategoryTypeEn (Cheese type), MoisturePercent, MilkTypeEn, MilkTreatmentTypeEn, FatLevel were retained for further exploration and analysis. Columns with high null counts or unstructured text data (like FlavourEn) were excluded to maintain data quality and relevance."
   ]
  },
  {
   "cell_type": "code",
   "execution_count": 5,
   "id": "60fb55e5-3018-40b9-829b-7f2ae882ff2e",
   "metadata": {},
   "outputs": [],
   "source": [
    "# Step 1: Select relevant columns for analysis\n",
    "cheese_cleaned = cheese_df[[\n",
    "    'ManufacturerProvCode',      # Province code\n",
    "    'CategoryTypeEn',            # Cheese type\n",
    "    'MoisturePercent',           # Moisture content\n",
    "    'MilkTypeEn',                # Type of milk used\n",
    "    'MilkTreatmentTypeEn',       # Raw or pasteurized\n",
    "    'FatLevel'                   # Fat content label\n",
    "]]"
   ]
  },
  {
   "cell_type": "code",
   "execution_count": 6,
   "id": "687bb2f4-0936-46c6-ad69-eea0c5fff3d5",
   "metadata": {},
   "outputs": [],
   "source": [
    "# Step 2: Dropping rows with missing key fields; ManufacturerProvCode included as a precaution for clean province-level merging\n",
    "cheese_cleaned.dropna(subset=['ManufacturerProvCode', 'CategoryTypeEn', 'MoisturePercent'], inplace=True)"
   ]
  },
  {
   "cell_type": "code",
   "execution_count": 7,
   "id": "8f99f60d-cd84-40b6-9a06-26fb3fad8874",
   "metadata": {},
   "outputs": [],
   "source": [
    "# Step 3: Standardize province codes\n",
    "cheese_cleaned['ManufacturerProvCode'] = cheese_cleaned['ManufacturerProvCode'].str.upper().str.strip()\n",
    "# Step 4: Reset index\n",
    "cheese_cleaned.reset_index(drop=True, inplace=True)"
   ]
  },
  {
   "cell_type": "code",
   "execution_count": 8,
   "id": "67499e77-0876-49bf-adbb-eb9715274859",
   "metadata": {},
   "outputs": [
    {
     "name": "stdout",
     "output_type": "stream",
     "text": [
      "<class 'pandas.core.frame.DataFrame'>\n",
      "RangeIndex: 1005 entries, 0 to 1004\n",
      "Data columns (total 6 columns):\n",
      " #   Column                Non-Null Count  Dtype  \n",
      "---  ------                --------------  -----  \n",
      " 0   ManufacturerProvCode  1005 non-null   object \n",
      " 1   CategoryTypeEn        1005 non-null   object \n",
      " 2   MoisturePercent       1005 non-null   float64\n",
      " 3   MilkTypeEn            1005 non-null   object \n",
      " 4   MilkTreatmentTypeEn   956 non-null    object \n",
      " 5   FatLevel              1005 non-null   object \n",
      "dtypes: float64(1), object(5)\n",
      "memory usage: 47.2+ KB\n"
     ]
    },
    {
     "data": {
      "text/html": [
       "<div>\n",
       "<style scoped>\n",
       "    .dataframe tbody tr th:only-of-type {\n",
       "        vertical-align: middle;\n",
       "    }\n",
       "\n",
       "    .dataframe tbody tr th {\n",
       "        vertical-align: top;\n",
       "    }\n",
       "\n",
       "    .dataframe thead th {\n",
       "        text-align: right;\n",
       "    }\n",
       "</style>\n",
       "<table border=\"1\" class=\"dataframe\">\n",
       "  <thead>\n",
       "    <tr style=\"text-align: right;\">\n",
       "      <th></th>\n",
       "      <th>ManufacturerProvCode</th>\n",
       "      <th>CategoryTypeEn</th>\n",
       "      <th>MoisturePercent</th>\n",
       "      <th>MilkTypeEn</th>\n",
       "      <th>MilkTreatmentTypeEn</th>\n",
       "      <th>FatLevel</th>\n",
       "    </tr>\n",
       "  </thead>\n",
       "  <tbody>\n",
       "    <tr>\n",
       "      <th>0</th>\n",
       "      <td>NB</td>\n",
       "      <td>Firm Cheese</td>\n",
       "      <td>47.0</td>\n",
       "      <td>Ewe</td>\n",
       "      <td>Raw Milk</td>\n",
       "      <td>lower fat</td>\n",
       "    </tr>\n",
       "    <tr>\n",
       "      <th>1</th>\n",
       "      <td>NB</td>\n",
       "      <td>Semi-soft Cheese</td>\n",
       "      <td>47.9</td>\n",
       "      <td>Cow</td>\n",
       "      <td>Raw Milk</td>\n",
       "      <td>lower fat</td>\n",
       "    </tr>\n",
       "    <tr>\n",
       "      <th>2</th>\n",
       "      <td>ON</td>\n",
       "      <td>Firm Cheese</td>\n",
       "      <td>54.0</td>\n",
       "      <td>Cow</td>\n",
       "      <td>Pasteurized</td>\n",
       "      <td>lower fat</td>\n",
       "    </tr>\n",
       "    <tr>\n",
       "      <th>3</th>\n",
       "      <td>NB</td>\n",
       "      <td>Veined Cheeses</td>\n",
       "      <td>47.0</td>\n",
       "      <td>Cow</td>\n",
       "      <td>Raw Milk</td>\n",
       "      <td>lower fat</td>\n",
       "    </tr>\n",
       "    <tr>\n",
       "      <th>4</th>\n",
       "      <td>NB</td>\n",
       "      <td>Semi-soft Cheese</td>\n",
       "      <td>49.4</td>\n",
       "      <td>Cow</td>\n",
       "      <td>Raw Milk</td>\n",
       "      <td>lower fat</td>\n",
       "    </tr>\n",
       "  </tbody>\n",
       "</table>\n",
       "</div>"
      ],
      "text/plain": [
       "  ManufacturerProvCode    CategoryTypeEn  MoisturePercent MilkTypeEn  \\\n",
       "0                   NB       Firm Cheese             47.0        Ewe   \n",
       "1                   NB  Semi-soft Cheese             47.9        Cow   \n",
       "2                   ON       Firm Cheese             54.0        Cow   \n",
       "3                   NB    Veined Cheeses             47.0        Cow   \n",
       "4                   NB  Semi-soft Cheese             49.4        Cow   \n",
       "\n",
       "  MilkTreatmentTypeEn   FatLevel  \n",
       "0            Raw Milk  lower fat  \n",
       "1            Raw Milk  lower fat  \n",
       "2         Pasteurized  lower fat  \n",
       "3            Raw Milk  lower fat  \n",
       "4            Raw Milk  lower fat  "
      ]
     },
     "execution_count": 8,
     "metadata": {},
     "output_type": "execute_result"
    }
   ],
   "source": [
    "# Step 5: Display cleaned data summary\n",
    "cheese_cleaned.info()\n",
    "cheese_cleaned.head()"
   ]
  },
  {
   "cell_type": "markdown",
   "id": "4a9d2cf2-26f4-4e81-800e-b2db8132489e",
   "metadata": {},
   "source": [
    "After selecting the relevant columns and removing rows with missing values in key fields (ManufacturerProvCode, CategoryTypeEn, and MoisturePercent), the cleaned dataset contains 1,005 entries across 6 well-structured columns. These include:\n",
    "\n",
    "- ManufacturerProvCode: Canadian province code\n",
    "\n",
    "- CategoryTypeEn: Type/category of cheese (e.g., Firm, Semi-soft)\n",
    "\n",
    "- MoisturePercent: Percentage of moisture content\n",
    "\n",
    "- MilkTypeEn: Source of milk (e.g., Cow, Ewe)\n",
    "\n",
    "- MilkTreatmentTypeEn: Raw or pasteurized milk\n",
    "\n",
    "- FatLevel: Fat content label (e.g., lower fat, full fat)\n",
    "\n",
    "This cleaned dataset (cheese_cleaned) will be used for further analysis and merged with province-level weather data in the next step.\n",
    "\n"
   ]
  },
  {
   "cell_type": "markdown",
   "id": "f699d667-9740-48a7-a4ec-6c193cd7c1f1",
   "metadata": {},
   "source": [
    "### Weather Dataset Cleaning"
   ]
  },
  {
   "cell_type": "code",
   "execution_count": 9,
   "id": "09f2e29f-8ce7-4d07-9a93-40fc6f1dda35",
   "metadata": {},
   "outputs": [
    {
     "data": {
      "text/html": [
       "<div>\n",
       "<style scoped>\n",
       "    .dataframe tbody tr th:only-of-type {\n",
       "        vertical-align: middle;\n",
       "    }\n",
       "\n",
       "    .dataframe tbody tr th {\n",
       "        vertical-align: top;\n",
       "    }\n",
       "\n",
       "    .dataframe thead th {\n",
       "        text-align: right;\n",
       "    }\n",
       "</style>\n",
       "<table border=\"1\" class=\"dataframe\">\n",
       "  <thead>\n",
       "    <tr style=\"text-align: right;\">\n",
       "      <th></th>\n",
       "      <th>Community</th>\n",
       "      <th>Weather station</th>\n",
       "      <th>Location</th>\n",
       "      <th>Elevation</th>\n",
       "      <th>January(Avg. high °C (°F))</th>\n",
       "      <th>January(Avg. low °C (°F))</th>\n",
       "      <th>July(Avg. high °C (°F))</th>\n",
       "      <th>July(Avg. low °C (°F))</th>\n",
       "      <th>Annual(Avg. high °C (°F))</th>\n",
       "      <th>Annual(Avg. low °C (°F))</th>\n",
       "    </tr>\n",
       "  </thead>\n",
       "  <tbody>\n",
       "    <tr>\n",
       "      <th>0</th>\n",
       "      <td>Alberton, PE</td>\n",
       "      <td>NaN</td>\n",
       "      <td>46°51′00″N 064°01′00″W / 46.85000°N 64.01667°W...</td>\n",
       "      <td>3m (9.8ft)</td>\n",
       "      <td>−3.9 (25.0)</td>\n",
       "      <td>−12.5 (9.5)</td>\n",
       "      <td>23.2 (73.8)</td>\n",
       "      <td>14.1 (57.4)</td>\n",
       "      <td>9.6 (49.3)</td>\n",
       "      <td>1.3 (34.3)</td>\n",
       "    </tr>\n",
       "    <tr>\n",
       "      <th>1</th>\n",
       "      <td>Baker Lake, NU</td>\n",
       "      <td>YBK</td>\n",
       "      <td>64°17′56″N 096°04′40″W / 64.29889°N 96.07778°W...</td>\n",
       "      <td>18.6m (61ft)</td>\n",
       "      <td>−27.7 (−17.9)</td>\n",
       "      <td>−34.8 (−30.6)</td>\n",
       "      <td>17.0 (62.6)</td>\n",
       "      <td>6.1 (43.0)</td>\n",
       "      <td>−7.3 (18.9)</td>\n",
       "      <td>−15.2 (4.6)</td>\n",
       "    </tr>\n",
       "    <tr>\n",
       "      <th>2</th>\n",
       "      <td>Baie-Comeau, QC</td>\n",
       "      <td>YBC</td>\n",
       "      <td>49°08′00″N 068°12′00″W / 49.13333°N 68.20000°W...</td>\n",
       "      <td>22m (72ft)</td>\n",
       "      <td>−8.7 (16.3)</td>\n",
       "      <td>−19.9 (−3.8)</td>\n",
       "      <td>20.9 (69.6)</td>\n",
       "      <td>10.3 (50.5)</td>\n",
       "      <td>6.6 (43.9)</td>\n",
       "      <td>−3.3 (26.1)</td>\n",
       "    </tr>\n",
       "    <tr>\n",
       "      <th>3</th>\n",
       "      <td>Calgary, AB</td>\n",
       "      <td>YYC</td>\n",
       "      <td>51°06′50″N 114°01′13″W / 51.11389°N 114.02028°...</td>\n",
       "      <td>1,084m (3,556ft)</td>\n",
       "      <td>−0.9 (30.4)</td>\n",
       "      <td>−13.2 (8.2)</td>\n",
       "      <td>23.2 (73.8)</td>\n",
       "      <td>9.8 (49.6)</td>\n",
       "      <td>10.8 (51.4)</td>\n",
       "      <td>−1.9 (28.6)</td>\n",
       "    </tr>\n",
       "    <tr>\n",
       "      <th>4</th>\n",
       "      <td>Charlottetown, PE</td>\n",
       "      <td>YYG</td>\n",
       "      <td>46°17′19″N 063°07′43″W / 46.28861°N 63.12861°W...</td>\n",
       "      <td>49m (161ft)</td>\n",
       "      <td>−3.4 (25.9)</td>\n",
       "      <td>−12.1 (10.2)</td>\n",
       "      <td>23.3 (73.9)</td>\n",
       "      <td>14.1 (57.4)</td>\n",
       "      <td>9.9 (49.8)</td>\n",
       "      <td>1.3 (34.3)</td>\n",
       "    </tr>\n",
       "  </tbody>\n",
       "</table>\n",
       "</div>"
      ],
      "text/plain": [
       "           Community Weather station  \\\n",
       "0       Alberton, PE             NaN   \n",
       "1     Baker Lake, NU             YBK   \n",
       "2    Baie-Comeau, QC             YBC   \n",
       "3        Calgary, AB             YYC   \n",
       "4  Charlottetown, PE             YYG   \n",
       "\n",
       "                                            Location         Elevation  \\\n",
       "0  46°51′00″N 064°01′00″W / 46.85000°N 64.01667°W...        3m (9.8ft)   \n",
       "1  64°17′56″N 096°04′40″W / 64.29889°N 96.07778°W...      18.6m (61ft)   \n",
       "2  49°08′00″N 068°12′00″W / 49.13333°N 68.20000°W...        22m (72ft)   \n",
       "3  51°06′50″N 114°01′13″W / 51.11389°N 114.02028°...  1,084m (3,556ft)   \n",
       "4  46°17′19″N 063°07′43″W / 46.28861°N 63.12861°W...       49m (161ft)   \n",
       "\n",
       "  January(Avg. high °C (°F)) January(Avg. low °C (°F))  \\\n",
       "0                −3.9 (25.0)               −12.5 (9.5)   \n",
       "1              −27.7 (−17.9)             −34.8 (−30.6)   \n",
       "2                −8.7 (16.3)              −19.9 (−3.8)   \n",
       "3                −0.9 (30.4)               −13.2 (8.2)   \n",
       "4                −3.4 (25.9)              −12.1 (10.2)   \n",
       "\n",
       "  July(Avg. high °C (°F)) July(Avg. low °C (°F)) Annual(Avg. high °C (°F))  \\\n",
       "0             23.2 (73.8)            14.1 (57.4)                9.6 (49.3)   \n",
       "1             17.0 (62.6)             6.1 (43.0)               −7.3 (18.9)   \n",
       "2             20.9 (69.6)            10.3 (50.5)                6.6 (43.9)   \n",
       "3             23.2 (73.8)             9.8 (49.6)               10.8 (51.4)   \n",
       "4             23.3 (73.9)            14.1 (57.4)                9.9 (49.8)   \n",
       "\n",
       "  Annual(Avg. low °C (°F))  \n",
       "0               1.3 (34.3)  \n",
       "1              −15.2 (4.6)  \n",
       "2              −3.3 (26.1)  \n",
       "3              −1.9 (28.6)  \n",
       "4               1.3 (34.3)  "
      ]
     },
     "execution_count": 9,
     "metadata": {},
     "output_type": "execute_result"
    }
   ],
   "source": [
    "weather_df.head()"
   ]
  },
  {
   "cell_type": "code",
   "execution_count": 10,
   "id": "9db582c6-8d2d-4de0-a2ed-2e0c7d8a2a4d",
   "metadata": {},
   "outputs": [
    {
     "data": {
      "text/plain": [
       "Index(['Community', 'Weather station', 'Location', 'Elevation',\n",
       "       'January(Avg. high °C (°F))', 'January(Avg. low °C (°F))',\n",
       "       'July(Avg. high °C (°F))', 'July(Avg. low °C (°F))',\n",
       "       'Annual(Avg. high °C (°F))', 'Annual(Avg. low °C (°F))'],\n",
       "      dtype='object')"
      ]
     },
     "execution_count": 10,
     "metadata": {},
     "output_type": "execute_result"
    }
   ],
   "source": [
    "weather_df.columns"
   ]
  },
  {
   "cell_type": "code",
   "execution_count": 11,
   "id": "efd40f5b-63da-46bd-97a1-c442f3f1a86f",
   "metadata": {},
   "outputs": [
    {
     "name": "stdout",
     "output_type": "stream",
     "text": [
      "<class 'pandas.core.frame.DataFrame'>\n",
      "RangeIndex: 43 entries, 0 to 42\n",
      "Data columns (total 10 columns):\n",
      " #   Column                      Non-Null Count  Dtype \n",
      "---  ------                      --------------  ----- \n",
      " 0   Community                   43 non-null     object\n",
      " 1   Weather station             40 non-null     object\n",
      " 2   Location                    43 non-null     object\n",
      " 3   Elevation                   43 non-null     object\n",
      " 4   January(Avg. high °C (°F))  43 non-null     object\n",
      " 5   January(Avg. low °C (°F))   43 non-null     object\n",
      " 6   July(Avg. high °C (°F))     43 non-null     object\n",
      " 7   July(Avg. low °C (°F))      43 non-null     object\n",
      " 8   Annual(Avg. high °C (°F))   43 non-null     object\n",
      " 9   Annual(Avg. low °C (°F))    43 non-null     object\n",
      "dtypes: object(10)\n",
      "memory usage: 3.5+ KB\n"
     ]
    },
    {
     "data": {
      "text/plain": [
       "Community                     0\n",
       "Weather station               3\n",
       "Location                      0\n",
       "Elevation                     0\n",
       "January(Avg. high °C (°F))    0\n",
       "January(Avg. low °C (°F))     0\n",
       "July(Avg. high °C (°F))       0\n",
       "July(Avg. low °C (°F))        0\n",
       "Annual(Avg. high °C (°F))     0\n",
       "Annual(Avg. low °C (°F))      0\n",
       "dtype: int64"
      ]
     },
     "execution_count": 11,
     "metadata": {},
     "output_type": "execute_result"
    }
   ],
   "source": [
    "# Step 1: Inspect Data Types & Nulls\n",
    "weather_df.info()\n",
    "weather_df.isnull().sum()"
   ]
  },
  {
   "cell_type": "markdown",
   "id": "f988d4d8-11f6-4aef-9e0c-b5541943bbc8",
   "metadata": {},
   "source": [
    "The weather dataset contains 43 records and 10 columns, including community names, weather station codes, elevation, and average temperature data for January, July, and the full year. All temperature values are stored as strings (e.g., \"9.6 (49.3)\"), so they will need to be cleaned and converted to numeric format.\n",
    "\n",
    "There are no missing values in the temperature columns, which makes the dataset reliable for analysis. However, it lacks a Province column, which is essential for merging with the cheese dataset. To resolve this, a manual city-to-province mapping will be applied.\n",
    "\n",
    "Columns like Weather station, Location, and Elevation are not required for this analysis and can be excluded to keep the dataset focused on climate variables."
   ]
  },
  {
   "cell_type": "code",
   "execution_count": 12,
   "id": "ea891ee9-3b62-4b4e-bcae-62312c5367da",
   "metadata": {},
   "outputs": [
    {
     "data": {
      "text/plain": [
       "array(['Alberton, PE', 'Baker Lake, NU', 'Baie-Comeau, QC', 'Calgary, AB',\n",
       "       'Charlottetown, PE', 'Churchill, MB', 'Corner Brook, NL',\n",
       "       'Dawson City, YT', 'Edmonton, AB', 'Edmundston, NB',\n",
       "       'Fort Nelson, BC', 'Fredericton, NB', 'Halifax, NS',\n",
       "       'High Level, AB', 'Inuvik, NT', 'Iqaluit, NU', 'Kamloops, BC',\n",
       "       'Kugluktuk, NU', 'La Ronge, SK', 'Mayo, YT', 'Moncton, NB',\n",
       "       'Montreal, QC', 'Nain, NL', 'Norman Wells, NT', 'Ottawa, ON',\n",
       "       'Princeton, BC', 'Quebec City, QC', 'Regina, SK', 'Resolute, NU',\n",
       "       'Saskatoon, SK', \"St. John's, NL\", 'Summerside, PE', 'Sydney, NS',\n",
       "       'Thompson, MB', 'Timmins, ON', 'Toronto, ON', 'Vancouver, BC',\n",
       "       'Victoria, BC', 'Whitehorse, YT', 'Windsor, ON', 'Winnipeg, MB',\n",
       "       'Yarmouth, NS', 'Yellowknife, NT'], dtype=object)"
      ]
     },
     "execution_count": 12,
     "metadata": {},
     "output_type": "execute_result"
    }
   ],
   "source": [
    "weather_df['Community'].unique()"
   ]
  },
  {
   "cell_type": "markdown",
   "id": "51df50a3-24bc-458b-bc38-29707d330032",
   "metadata": {},
   "source": [
    "Since the dataset doesn't include a Province column, I’ll extract the province abbreviation directly using string operations."
   ]
  },
  {
   "cell_type": "code",
   "execution_count": 13,
   "id": "e6ec21c5-cb03-413f-ba47-c20d9cc4aa93",
   "metadata": {},
   "outputs": [
    {
     "data": {
      "text/plain": [
       "array(['PE', 'NU', 'QC', 'AB', 'MB', 'NL', 'YT', 'NB', 'BC', 'NS', 'NT',\n",
       "       'SK', 'ON'], dtype=object)"
      ]
     },
     "execution_count": 13,
     "metadata": {},
     "output_type": "execute_result"
    }
   ],
   "source": [
    "# Extract province abbreviation from community string\n",
    "weather_df['Province'] = weather_df['Community'].apply(lambda x: x.split(', ')[-1])\n",
    "weather_df['Province'].unique()"
   ]
  },
  {
   "cell_type": "markdown",
   "id": "24db81f2-52af-4360-af93-71e1f98eb83d",
   "metadata": {},
   "source": [
    "The Community column included both the city name and the province code (e.g., \"Toronto, ON\"). I used this format to extract the province code directly, ensuring a clean and consistent match with the cheese dataset's ManufacturerProvCode column."
   ]
  },
  {
   "cell_type": "markdown",
   "id": "24a5c39b-b4a9-412b-80bb-7b9d8774ad4e",
   "metadata": {},
   "source": [
    "Now, The temperature columns (e.g., 'Annual(Avg. high °C (°F))') are stored as strings like \"9.6 (49.3)\". I'll extract just the Celsius part using a cleaning function."
   ]
  },
  {
   "cell_type": "code",
   "execution_count": 14,
   "id": "c9d73e75-fc65-4cb7-98c1-f8e172126540",
   "metadata": {},
   "outputs": [],
   "source": [
    "# Step 2: Extract Numeric Temperature Values\n",
    "\n",
    "# Defining a function to extract Celsius part from temperature string\n",
    "def extract_celsius(temp_str):\n",
    "    try:\n",
    "        return float(temp_str.split('(')[0].strip().replace('−', '-'))\n",
    "    except:\n",
    "        return None\n",
    "\n",
    "\n",
    "# Applying function to extract annual average high and low temperatures\n",
    "weather_df['AnnualHighC'] = weather_df['Annual(Avg. high °C (°F))'].apply(extract_celsius)\n",
    "weather_df['AnnualLowC'] = weather_df['Annual(Avg. low °C (°F))'].apply(extract_celsius)"
   ]
  },
  {
   "cell_type": "markdown",
   "id": "06260d7f-9273-4cbc-a5e3-1e7a55e5eca9",
   "metadata": {},
   "source": [
    "The temperature columns were originally stored as strings combining Celsius and Fahrenheit. I extracted the Celsius portion using a custom function and created two new numeric columns: AnnualHighC and AnnualLowC."
   ]
  },
  {
   "cell_type": "markdown",
   "id": "c740fce2-8582-4e71-a4b0-0aa21f2310f7",
   "metadata": {},
   "source": [
    "Now, I remove any rows that are missing province information or cleaned temperature values, so that the data is consistent and ready for aggregation."
   ]
  },
  {
   "cell_type": "code",
   "execution_count": 15,
   "id": "da15a5d5-106e-4a08-8a1e-ebe70cd3f1cf",
   "metadata": {},
   "outputs": [],
   "source": [
    "# Step 3: # Dropping rows with missing temperature or province values (in case parsing or string extraction failed)\n",
    "weather_cleaned = weather_df.dropna(subset=['Province', 'AnnualHighC', 'AnnualLowC']).copy()"
   ]
  },
  {
   "cell_type": "markdown",
   "id": "c17f0ed1-7358-41a6-b10c-0b4f02f22b0b",
   "metadata": {},
   "source": [
    "To ensure consistency and accuracy, I dropped rows with missing province codes or temperature values. This leaves us with a clean subset of weather data suitable for province-level aggregation."
   ]
  },
  {
   "cell_type": "markdown",
   "id": "e97c7a5f-5b61-4273-89ea-610c63105586",
   "metadata": {},
   "source": [
    "Now, I’ll group the cleaned dataset by the Province column and calculate the mean of AnnualHighC and AnnualLowC."
   ]
  },
  {
   "cell_type": "code",
   "execution_count": 16,
   "id": "c2ade048-2239-4063-844b-3b38ec529724",
   "metadata": {},
   "outputs": [
    {
     "data": {
      "text/html": [
       "<div>\n",
       "<style scoped>\n",
       "    .dataframe tbody tr th:only-of-type {\n",
       "        vertical-align: middle;\n",
       "    }\n",
       "\n",
       "    .dataframe tbody tr th {\n",
       "        vertical-align: top;\n",
       "    }\n",
       "\n",
       "    .dataframe thead th {\n",
       "        text-align: right;\n",
       "    }\n",
       "</style>\n",
       "<table border=\"1\" class=\"dataframe\">\n",
       "  <thead>\n",
       "    <tr style=\"text-align: right;\">\n",
       "      <th></th>\n",
       "      <th>Province</th>\n",
       "      <th>AnnualHighC</th>\n",
       "      <th>AnnualLowC</th>\n",
       "    </tr>\n",
       "  </thead>\n",
       "  <tbody>\n",
       "    <tr>\n",
       "      <th>0</th>\n",
       "      <td>AB</td>\n",
       "      <td>8.433333</td>\n",
       "      <td>-3.366667</td>\n",
       "    </tr>\n",
       "    <tr>\n",
       "      <th>1</th>\n",
       "      <td>BC</td>\n",
       "      <td>12.240000</td>\n",
       "      <td>2.060000</td>\n",
       "    </tr>\n",
       "    <tr>\n",
       "      <th>2</th>\n",
       "      <td>MB</td>\n",
       "      <td>3.266667</td>\n",
       "      <td>-7.500000</td>\n",
       "    </tr>\n",
       "    <tr>\n",
       "      <th>3</th>\n",
       "      <td>NB</td>\n",
       "      <td>10.533333</td>\n",
       "      <td>-0.800000</td>\n",
       "    </tr>\n",
       "    <tr>\n",
       "      <th>4</th>\n",
       "      <td>NL</td>\n",
       "      <td>6.566667</td>\n",
       "      <td>-1.433333</td>\n",
       "    </tr>\n",
       "    <tr>\n",
       "      <th>5</th>\n",
       "      <td>NS</td>\n",
       "      <td>10.900000</td>\n",
       "      <td>2.166667</td>\n",
       "    </tr>\n",
       "    <tr>\n",
       "      <th>6</th>\n",
       "      <td>NT</td>\n",
       "      <td>-1.300000</td>\n",
       "      <td>-10.466667</td>\n",
       "    </tr>\n",
       "    <tr>\n",
       "      <th>7</th>\n",
       "      <td>NU</td>\n",
       "      <td>-7.925000</td>\n",
       "      <td>-15.325000</td>\n",
       "    </tr>\n",
       "    <tr>\n",
       "      <th>8</th>\n",
       "      <td>ON</td>\n",
       "      <td>11.650000</td>\n",
       "      <td>1.450000</td>\n",
       "    </tr>\n",
       "    <tr>\n",
       "      <th>9</th>\n",
       "      <td>PE</td>\n",
       "      <td>9.800000</td>\n",
       "      <td>1.400000</td>\n",
       "    </tr>\n",
       "    <tr>\n",
       "      <th>10</th>\n",
       "      <td>QC</td>\n",
       "      <td>9.100000</td>\n",
       "      <td>-0.700000</td>\n",
       "    </tr>\n",
       "    <tr>\n",
       "      <th>11</th>\n",
       "      <td>SK</td>\n",
       "      <td>7.933333</td>\n",
       "      <td>-4.066667</td>\n",
       "    </tr>\n",
       "    <tr>\n",
       "      <th>12</th>\n",
       "      <td>YT</td>\n",
       "      <td>3.533333</td>\n",
       "      <td>-7.900000</td>\n",
       "    </tr>\n",
       "  </tbody>\n",
       "</table>\n",
       "</div>"
      ],
      "text/plain": [
       "   Province  AnnualHighC  AnnualLowC\n",
       "0        AB     8.433333   -3.366667\n",
       "1        BC    12.240000    2.060000\n",
       "2        MB     3.266667   -7.500000\n",
       "3        NB    10.533333   -0.800000\n",
       "4        NL     6.566667   -1.433333\n",
       "5        NS    10.900000    2.166667\n",
       "6        NT    -1.300000  -10.466667\n",
       "7        NU    -7.925000  -15.325000\n",
       "8        ON    11.650000    1.450000\n",
       "9        PE     9.800000    1.400000\n",
       "10       QC     9.100000   -0.700000\n",
       "11       SK     7.933333   -4.066667\n",
       "12       YT     3.533333   -7.900000"
      ]
     },
     "execution_count": 16,
     "metadata": {},
     "output_type": "execute_result"
    }
   ],
   "source": [
    "# Step 4: Group by Province and calculate average temperatures\n",
    "province_weather = weather_cleaned.groupby('Province')[['AnnualHighC', 'AnnualLowC']].mean().reset_index()\n",
    "province_weather\n"
   ]
  },
  {
   "cell_type": "markdown",
   "id": "3d53b987-5250-46c2-81e3-0fd4363d2d9f",
   "metadata": {},
   "source": [
    "I grouped the weather data by province and calculated the average annual high and low temperatures for each. This summarized climate data will be used to merge with the cheese dataset for further analysis."
   ]
  },
  {
   "cell_type": "markdown",
   "id": "db601439-80ca-486e-8ea3-95ce19c08105",
   "metadata": {},
   "source": [
    "## Merge Cheese and Weather Data\n",
    "I’ll merge:\n",
    "\n",
    "cheese_cleaned → which uses ManufacturerProvCode\n",
    "\n",
    "province_weather → which uses Province\n",
    "\n",
    "Since both columns contain province codes (e.g., ON, QC, AB), I’ll join them using left join from cheese data to weather data."
   ]
  },
  {
   "cell_type": "code",
   "execution_count": 17,
   "id": "f7d0ba90-af95-4d97-bff8-47b169bc6845",
   "metadata": {},
   "outputs": [
    {
     "data": {
      "text/html": [
       "<div>\n",
       "<style scoped>\n",
       "    .dataframe tbody tr th:only-of-type {\n",
       "        vertical-align: middle;\n",
       "    }\n",
       "\n",
       "    .dataframe tbody tr th {\n",
       "        vertical-align: top;\n",
       "    }\n",
       "\n",
       "    .dataframe thead th {\n",
       "        text-align: right;\n",
       "    }\n",
       "</style>\n",
       "<table border=\"1\" class=\"dataframe\">\n",
       "  <thead>\n",
       "    <tr style=\"text-align: right;\">\n",
       "      <th></th>\n",
       "      <th>ManufacturerProvCode</th>\n",
       "      <th>CategoryTypeEn</th>\n",
       "      <th>MoisturePercent</th>\n",
       "      <th>MilkTypeEn</th>\n",
       "      <th>MilkTreatmentTypeEn</th>\n",
       "      <th>FatLevel</th>\n",
       "      <th>AnnualHighC</th>\n",
       "      <th>AnnualLowC</th>\n",
       "    </tr>\n",
       "  </thead>\n",
       "  <tbody>\n",
       "    <tr>\n",
       "      <th>0</th>\n",
       "      <td>NB</td>\n",
       "      <td>Firm Cheese</td>\n",
       "      <td>47.0</td>\n",
       "      <td>Ewe</td>\n",
       "      <td>Raw Milk</td>\n",
       "      <td>lower fat</td>\n",
       "      <td>10.533333</td>\n",
       "      <td>-0.80</td>\n",
       "    </tr>\n",
       "    <tr>\n",
       "      <th>1</th>\n",
       "      <td>NB</td>\n",
       "      <td>Semi-soft Cheese</td>\n",
       "      <td>47.9</td>\n",
       "      <td>Cow</td>\n",
       "      <td>Raw Milk</td>\n",
       "      <td>lower fat</td>\n",
       "      <td>10.533333</td>\n",
       "      <td>-0.80</td>\n",
       "    </tr>\n",
       "    <tr>\n",
       "      <th>2</th>\n",
       "      <td>ON</td>\n",
       "      <td>Firm Cheese</td>\n",
       "      <td>54.0</td>\n",
       "      <td>Cow</td>\n",
       "      <td>Pasteurized</td>\n",
       "      <td>lower fat</td>\n",
       "      <td>11.650000</td>\n",
       "      <td>1.45</td>\n",
       "    </tr>\n",
       "    <tr>\n",
       "      <th>3</th>\n",
       "      <td>NB</td>\n",
       "      <td>Veined Cheeses</td>\n",
       "      <td>47.0</td>\n",
       "      <td>Cow</td>\n",
       "      <td>Raw Milk</td>\n",
       "      <td>lower fat</td>\n",
       "      <td>10.533333</td>\n",
       "      <td>-0.80</td>\n",
       "    </tr>\n",
       "    <tr>\n",
       "      <th>4</th>\n",
       "      <td>NB</td>\n",
       "      <td>Semi-soft Cheese</td>\n",
       "      <td>49.4</td>\n",
       "      <td>Cow</td>\n",
       "      <td>Raw Milk</td>\n",
       "      <td>lower fat</td>\n",
       "      <td>10.533333</td>\n",
       "      <td>-0.80</td>\n",
       "    </tr>\n",
       "  </tbody>\n",
       "</table>\n",
       "</div>"
      ],
      "text/plain": [
       "  ManufacturerProvCode    CategoryTypeEn  MoisturePercent MilkTypeEn  \\\n",
       "0                   NB       Firm Cheese             47.0        Ewe   \n",
       "1                   NB  Semi-soft Cheese             47.9        Cow   \n",
       "2                   ON       Firm Cheese             54.0        Cow   \n",
       "3                   NB    Veined Cheeses             47.0        Cow   \n",
       "4                   NB  Semi-soft Cheese             49.4        Cow   \n",
       "\n",
       "  MilkTreatmentTypeEn   FatLevel  AnnualHighC  AnnualLowC  \n",
       "0            Raw Milk  lower fat    10.533333       -0.80  \n",
       "1            Raw Milk  lower fat    10.533333       -0.80  \n",
       "2         Pasteurized  lower fat    11.650000        1.45  \n",
       "3            Raw Milk  lower fat    10.533333       -0.80  \n",
       "4            Raw Milk  lower fat    10.533333       -0.80  "
      ]
     },
     "execution_count": 17,
     "metadata": {},
     "output_type": "execute_result"
    }
   ],
   "source": [
    "# Merging cheese and weather data on province code\n",
    "merged_df = pd.merge(\n",
    "    cheese_cleaned,\n",
    "    province_weather,\n",
    "    left_on='ManufacturerProvCode',\n",
    "    right_on='Province',\n",
    "    how='left'\n",
    ")\n",
    "\n",
    "# Drop duplicate 'Province' column since it's the same as ManufacturerProvCode\n",
    "merged_df.drop(columns='Province', inplace=True)\n",
    "\n",
    "# Preview the merged dataset\n",
    "merged_df.head()"
   ]
  },
  {
   "cell_type": "markdown",
   "id": "d973778d-efe0-46c3-b266-d102475cf035",
   "metadata": {},
   "source": [
    "After cleaning and preparing both datasets, we merged the cheese dataset with the provincial climate dataset using the shared province code. The resulting dataset combines cheese characteristics with corresponding average annual high and low temperatures for each province. This merged data enables us to explore potential relationships between cheese types and climatic conditions across Canada."
   ]
  },
  {
   "cell_type": "markdown",
   "id": "f67aa208-ed16-4a79-8815-c8d30aef9257",
   "metadata": {},
   "source": [
    "# Data Analysis"
   ]
  },
  {
   "cell_type": "markdown",
   "id": "ce3c9811-f07d-4bc2-af46-be56ccea3ba0",
   "metadata": {},
   "source": [
    "Now, I’ll explore:\n",
    "\n",
    "1. Average moisture and fat level by province\n",
    "\n",
    "2. Most common cheese types overall\n",
    "\n",
    "3. Cheese category distribution by province\n",
    "\n",
    "4. Does temperature vary by cheese type?"
   ]
  },
  {
   "cell_type": "markdown",
   "id": "6b51352b-75e6-4f71-abf4-2421fe5133dc",
   "metadata": {},
   "source": [
    "## 1. Average Moisture and Fat Level by Province"
   ]
  },
  {
   "cell_type": "markdown",
   "id": "e795284c-d8c6-4df6-b704-efc07b15c298",
   "metadata": {},
   "source": [
    "I started by looking at the average moisture content of cheeses by province. I also examined how fat levels (e.g., lower fat, full fat) are distributed across different provinces. These features may be influenced by climate or regional preferences."
   ]
  },
  {
   "cell_type": "code",
   "execution_count": 18,
   "id": "ac0c6243-523c-487f-b081-1be61f5f2b19",
   "metadata": {},
   "outputs": [
    {
     "name": "stdout",
     "output_type": "stream",
     "text": [
      "Average Moisture % by Province:\n",
      "ManufacturerProvCode\n",
      "NB    49.60\n",
      "QC    47.78\n",
      "ON    47.47\n",
      "MB    41.50\n",
      "BC    41.49\n",
      "NS    41.44\n",
      "AB    41.15\n",
      "PE    39.50\n",
      "NL    39.00\n",
      "SK    17.00\n",
      "Name: MoisturePercent, dtype: float64\n",
      "\n",
      "Fat Level Distribution by Province:\n",
      "FatLevel              higher fat  lower fat\n",
      "ManufacturerProvCode                       \n",
      "AB                             5          5\n",
      "BC                            40         21\n",
      "MB                             1          9\n",
      "NB                             0         27\n",
      "NL                             1          0\n",
      "NS                             5          4\n",
      "ON                            33         71\n",
      "PE                             1          1\n",
      "QC                           262        518\n",
      "SK                             1          0\n"
     ]
    }
   ],
   "source": [
    "# Average moisture % by province\n",
    "avg_moisture = merged_df.groupby('ManufacturerProvCode')['MoisturePercent'].mean().round(2).sort_values(ascending=False)\n",
    "print(\"Average Moisture % by Province:\")\n",
    "print(avg_moisture)\n",
    "\n",
    "# Count of fat levels by province\n",
    "fat_dist = merged_df.groupby(['ManufacturerProvCode', 'FatLevel']).size().unstack(fill_value=0)\n",
    "print(\"\\nFat Level Distribution by Province:\")\n",
    "print(fat_dist)\n"
   ]
  },
  {
   "cell_type": "markdown",
   "id": "9b59b33a-f43b-4808-a6e4-253ab9f1f2a6",
   "metadata": {},
   "source": [
    "The average moisture content of cheeses varies significantly across provinces. New Brunswick (NB), Quebec (QC), and Ontario (ON) have the highest average moisture percentages, all above 47%. On the other hand, provinces like Newfoundland (NL) and Saskatchewan (SK) show lower averages, with SK reporting the lowest at 17%.\n",
    "\n",
    "In terms of fat content, Quebec dominates both categories with 262 higher fat and 518 lower fat cheeses, reflecting its strong presence in cheese production. Most other provinces show a higher count of lower fat cheeses, with a few exceptions like British Columbia (BC), which has a notable number of higher fat cheeses (40). Some provinces such as NB produce only lower fat cheese, based on the data available.\n",
    "\n"
   ]
  },
  {
   "cell_type": "markdown",
   "id": "0225c786-6be3-4873-ad7f-c56951eaedbf",
   "metadata": {},
   "source": [
    "## 2. Cheese Category Distribution"
   ]
  },
  {
   "cell_type": "markdown",
   "id": "150c4b97-969b-498a-923e-c6d3b80663dc",
   "metadata": {},
   "source": [
    "Goal:\n",
    "\n",
    "1. Which cheese types are most common overall\n",
    "\n",
    "2. Which types dominate in each province"
   ]
  },
  {
   "cell_type": "code",
   "execution_count": 19,
   "id": "5d7f7928-a5e6-4ca6-8258-c01a001ec9ac",
   "metadata": {},
   "outputs": [
    {
     "name": "stdout",
     "output_type": "stream",
     "text": [
      "Cheese Types (Overall):\n",
      "CategoryTypeEn\n",
      "Firm Cheese         344\n",
      "Soft Cheese         263\n",
      "Semi-soft Cheese    226\n",
      "Fresh Cheese        116\n",
      "Hard Cheese          31\n",
      "Veined Cheeses       25\n",
      "Name: count, dtype: int64\n",
      "\n",
      "Cheese Types by Province:\n",
      "CategoryTypeEn        Firm Cheese  Fresh Cheese  Hard Cheese  \\\n",
      "ManufacturerProvCode                                           \n",
      "AB                              5             3            0   \n",
      "BC                             26             2            7   \n",
      "MB                              7             0            0   \n",
      "NB                              3             6            0   \n",
      "NL                              1             0            0   \n",
      "NS                              2             0            1   \n",
      "ON                             26            21           13   \n",
      "PE                              2             0            0   \n",
      "QC                            272            84           10   \n",
      "SK                              0             0            0   \n",
      "\n",
      "CategoryTypeEn        Semi-soft Cheese  Soft Cheese  Veined Cheeses  \n",
      "ManufacturerProvCode                                                 \n",
      "AB                                   2            0               0  \n",
      "BC                                   7           14               5  \n",
      "MB                                   3            0               0  \n",
      "NB                                   7           10               1  \n",
      "NL                                   0            0               0  \n",
      "NS                                   4            1               1  \n",
      "ON                                  27           15               2  \n",
      "PE                                   0            0               0  \n",
      "QC                                 176          222              16  \n",
      "SK                                   0            1               0  \n"
     ]
    }
   ],
   "source": [
    "# Count of cheese categories overall\n",
    "cheese_type_counts = merged_df['CategoryTypeEn'].value_counts()\n",
    "print(\"Cheese Types (Overall):\")\n",
    "print(cheese_type_counts)\n",
    "\n",
    "# Cheese types per province\n",
    "cheese_types_by_province = merged_df.groupby(['ManufacturerProvCode', 'CategoryTypeEn']).size().unstack(fill_value=0)\n",
    "print(\"\\nCheese Types by Province:\")\n",
    "print(cheese_types_by_province)\n"
   ]
  },
  {
   "cell_type": "markdown",
   "id": "e756bbd2-2dd0-4718-ae88-a144bfdd5861",
   "metadata": {},
   "source": [
    "Firm Cheese is the most common category overall, followed by Soft Cheese and Semi-soft Cheese. Fresh Cheese and Veined Cheeses are less common, possibly due to more specialized production methods.\n",
    "\n",
    "Among provinces, Quebec (QC) dominates in both volume and variety — producing all cheese types in significant numbers. Ontario (ON) also shows strong diversity, with a balanced mix of Firm, Soft, Semi-soft, and even Hard Cheeses.\n",
    "\n",
    "Provinces like PE, NL, and SK have limited entries and show fewer cheese types, which could reflect smaller-scale production or limited reporting in the dataset."
   ]
  },
  {
   "cell_type": "markdown",
   "id": "fd7834cd-a10d-404d-bce1-578cceaff2c6",
   "metadata": {},
   "source": [
    "## 4. Does temperature vary by cheese type?"
   ]
  },
  {
   "cell_type": "code",
   "execution_count": 20,
   "id": "5d1a551a-9696-48a0-a373-bddb71604300",
   "metadata": {},
   "outputs": [
    {
     "data": {
      "text/html": [
       "<div>\n",
       "<style scoped>\n",
       "    .dataframe tbody tr th:only-of-type {\n",
       "        vertical-align: middle;\n",
       "    }\n",
       "\n",
       "    .dataframe tbody tr th {\n",
       "        vertical-align: top;\n",
       "    }\n",
       "\n",
       "    .dataframe thead th {\n",
       "        text-align: right;\n",
       "    }\n",
       "</style>\n",
       "<table border=\"1\" class=\"dataframe\">\n",
       "  <thead>\n",
       "    <tr style=\"text-align: right;\">\n",
       "      <th></th>\n",
       "      <th>AnnualHighC</th>\n",
       "      <th>AnnualLowC</th>\n",
       "    </tr>\n",
       "    <tr>\n",
       "      <th>CategoryTypeEn</th>\n",
       "      <th></th>\n",
       "      <th></th>\n",
       "    </tr>\n",
       "  </thead>\n",
       "  <tbody>\n",
       "    <tr>\n",
       "      <th>Hard Cheese</th>\n",
       "      <td>10.936452</td>\n",
       "      <td>0.917312</td>\n",
       "    </tr>\n",
       "    <tr>\n",
       "      <th>Veined Cheeses</th>\n",
       "      <td>10.061333</td>\n",
       "      <td>0.134667</td>\n",
       "    </tr>\n",
       "    <tr>\n",
       "      <th>Fresh Cheese</th>\n",
       "      <td>9.672672</td>\n",
       "      <td>-0.337328</td>\n",
       "    </tr>\n",
       "    <tr>\n",
       "      <th>Semi-soft Cheese</th>\n",
       "      <td>9.494823</td>\n",
       "      <td>-0.423879</td>\n",
       "    </tr>\n",
       "    <tr>\n",
       "      <th>Soft Cheese</th>\n",
       "      <td>9.469493</td>\n",
       "      <td>-0.436160</td>\n",
       "    </tr>\n",
       "    <tr>\n",
       "      <th>Firm Cheese</th>\n",
       "      <td>9.421337</td>\n",
       "      <td>-0.480155</td>\n",
       "    </tr>\n",
       "  </tbody>\n",
       "</table>\n",
       "</div>"
      ],
      "text/plain": [
       "                  AnnualHighC  AnnualLowC\n",
       "CategoryTypeEn                           \n",
       "Hard Cheese         10.936452    0.917312\n",
       "Veined Cheeses      10.061333    0.134667\n",
       "Fresh Cheese         9.672672   -0.337328\n",
       "Semi-soft Cheese     9.494823   -0.423879\n",
       "Soft Cheese          9.469493   -0.436160\n",
       "Firm Cheese          9.421337   -0.480155"
      ]
     },
     "execution_count": 20,
     "metadata": {},
     "output_type": "execute_result"
    }
   ],
   "source": [
    "# Average annual temperature by cheese type\n",
    "temp_by_cheese_type = merged_df.groupby('CategoryTypeEn')[['AnnualHighC', 'AnnualLowC']].mean().sort_values(by='AnnualHighC', ascending=False)\n",
    "temp_by_cheese_type\n"
   ]
  },
  {
   "cell_type": "markdown",
   "id": "1a27b497-9f4a-40ba-bd70-4aaaac7398f6",
   "metadata": {},
   "source": [
    "The table shows the average annual temperatures (high and low) associated with each cheese category. Interestingly, Hard Cheese and Veined Cheeses are linked with higher average temperatures, whereas Soft Cheese and Semi-soft Cheese tend to be produced in slightly cooler regions on average.\n",
    "\n",
    "This may suggest that harder cheeses are more common in provinces with warmer climates — potentially due to preservation needs, production conditions, or regional preferences. Conversely, soft cheeses may require cooler environments or more controlled storage, aligning with provinces that experience lower temperatures."
   ]
  },
  {
   "cell_type": "markdown",
   "id": "a946c31f-4a8c-49ef-9505-8ea49f6f1894",
   "metadata": {},
   "source": [
    "# Data Visualization"
   ]
  },
  {
   "cell_type": "markdown",
   "id": "8fa03e90-490e-4d92-bdff-0e7dad116b1f",
   "metadata": {},
   "source": [
    "To better understand the patterns uncovered in the exploratory data analysis (EDA), this section presents visualizations that highlight relationships between cheese characteristics and provincial climate conditions.\n",
    "\n",
    "The following visualizations aim to answer:\n",
    "\n",
    "1. Is there a relationship between average cheese moisture content and temperature across provinces?\n",
    "2. Do certain cheese types tend to appear more in warmer or cooler provinces?\n",
    "3. How is cheese type distributed across provinces — do some provinces produce more variety than others?\n",
    "\n",
    "These visualizations help bring clarity and insight to how environmental factors may influence cheese production in Canada."
   ]
  },
  {
   "cell_type": "markdown",
   "id": "64226b5a-b7c1-4397-847e-30c5cec10f73",
   "metadata": {},
   "source": [
    "## 1. Average Moisture% vs. Annual High Temperature (by Province)"
   ]
  },
  {
   "cell_type": "markdown",
   "id": "9665bf9d-034e-4a0a-8eb9-1c868c4d4777",
   "metadata": {},
   "source": [
    "This will help visually explore whether hotter provinces produce moister cheese on average."
   ]
  },
  {
   "cell_type": "code",
   "execution_count": 21,
   "id": "875e188a-5bbb-4c26-8641-2f867938584d",
   "metadata": {},
   "outputs": [
    {
     "data": {
      "image/png": "[encoded data removed]",
      "text/plain": [
       "<Figure size 1000x600 with 1 Axes>"
      ]
     },
     "metadata": {},
     "output_type": "display_data"
    }
   ],
   "source": [
    "import matplotlib.pyplot as plt\n",
    "import seaborn as sns\n",
    "\n",
    "# Calculate average moisture and temp by province\n",
    "moisture_temp = merged_df.groupby('ManufacturerProvCode')[['MoisturePercent', 'AnnualHighC']].mean().reset_index()\n",
    "\n",
    "# Create bar plot\n",
    "plt.figure(figsize=(10, 6))\n",
    "sns.barplot(data=moisture_temp, x='ManufacturerProvCode', y='MoisturePercent', hue='AnnualHighC')\n",
    "plt.title('Average Cheese Moisture % vs. Annual High Temperature by Province')\n",
    "plt.xlabel('Province')\n",
    "plt.ylabel('Average Moisture %')\n",
    "plt.legend(title='Annual High °C')\n",
    "plt.tight_layout()\n",
    "plt.show()"
   ]
  },
  {
   "cell_type": "markdown",
   "id": "779d2fea-c453-4575-b9ab-1db817e1cb76",
   "metadata": {},
   "source": [
    "This visualization highlights how cheese moisture content varies across provinces with differing climates. Notably, New Brunswick (NB) and Ontario (ON) show both higher moisture percentages and warmer temperatures. Meanwhile, Saskatchewan (SK), which is cooler and drier, has cheeses with lower moisture content.\n",
    "\n",
    "This suggests a potential relationship between climate and cheese characteristics — possibly due to production methods, preservation needs, or regional preferences."
   ]
  },
  {
   "cell_type": "markdown",
   "id": "98696285-1aff-4555-89ff-c78da1580029",
   "metadata": {},
   "source": [
    "## 2. Average Annual High Temperature by Cheese Type"
   ]
  },
  {
   "cell_type": "markdown",
   "id": "705c90c6-2f10-4481-89ee-515a40b0daae",
   "metadata": {},
   "source": [
    "This will help visualize if certain cheese types are more common in warmer vs. cooler provinces."
   ]
  },
  {
   "cell_type": "code",
   "execution_count": 22,
   "id": "72e2295a-9848-430f-a229-96026dd566dc",
   "metadata": {},
   "outputs": [
    {
     "data": {
      "image/png": "[encoded data removed]",
      "text/plain": [
       "<Figure size 1000x600 with 1 Axes>"
      ]
     },
     "metadata": {},
     "output_type": "display_data"
    }
   ],
   "source": [
    "import numpy as np\n",
    "\n",
    "plt.figure(figsize=(10, 6))\n",
    "sns.barplot(\n",
    "    data=merged_df,\n",
    "    x='CategoryTypeEn',\n",
    "    y='AnnualHighC',\n",
    "    estimator=np.mean,\n",
    "    ci=None,\n",
    "    palette='coolwarm'\n",
    ")\n",
    "plt.title('Average Annual High Temperature by Cheese Type')\n",
    "plt.xlabel('Cheese Type')\n",
    "plt.ylabel('Avg Annual High Temp (°C)')\n",
    "plt.xticks(rotation=30)\n",
    "plt.tight_layout()\n",
    "plt.show()"
   ]
  },
  {
   "cell_type": "markdown",
   "id": "f10c1b2e-f159-4adb-b4d7-a3d754d85d7a",
   "metadata": {},
   "source": [
    "This bar chart shows that Hard Cheeses and Veined Cheeses tend to be produced in provinces with higher average annual temperatures, while Firm, Soft, and Semi-soft Cheeses are slightly more common in cooler regions.\n",
    "\n",
    "These patterns suggest a potential influence of climate on cheese type — likely due to factors such as aging requirements, moisture content, and shelf stability in warmer environments."
   ]
  },
  {
   "cell_type": "markdown",
   "id": "b265b6e9-5937-450c-9ebf-e6045e9f5af6",
   "metadata": {},
   "source": [
    "## 3. Cheese Category Distribution by Province (Stacked Bar)"
   ]
  },
  {
   "cell_type": "markdown",
   "id": "735f4696-4841-4252-baba-09f3d9306229",
   "metadata": {},
   "source": [
    "This chart will help show which types of cheese are most common in each province — a great way to tie geography to cheese diversity."
   ]
  },
  {
   "cell_type": "code",
   "execution_count": 23,
   "id": "0d10bedf-b357-4763-9b66-e6226c939af6",
   "metadata": {},
   "outputs": [
    {
     "data": {
      "image/png": "[encoded data removed]",
      "text/plain": [
       "<Figure size 1200x600 with 1 Axes>"
      ]
     },
     "metadata": {},
     "output_type": "display_data"
    }
   ],
   "source": [
    "# Prepare the data\n",
    "cheese_counts = merged_df.groupby(['ManufacturerProvCode', 'CategoryTypeEn']).size().unstack(fill_value=0)\n",
    "\n",
    "# Plot stacked bar chart\n",
    "cheese_counts.plot(kind='bar', stacked=True, figsize=(12, 6), colormap='tab20')\n",
    "plt.title('Cheese Category Distribution by Province')\n",
    "plt.xlabel('Province')\n",
    "plt.ylabel('Number of Cheeses')\n",
    "plt.legend(title='Cheese Type', bbox_to_anchor=(1.05, 1), loc='upper left')\n",
    "plt.tight_layout()\n",
    "plt.show()"
   ]
  },
  {
   "cell_type": "markdown",
   "id": "6ee7c5fd-9bb9-43ff-83bb-cf1caf3822a8",
   "metadata": {},
   "source": [
    "This stacked bar chart highlights how different cheese types are distributed across Canadian provinces. Quebec (QC) overwhelmingly dominates cheese production, with contributions across all major categories — especially Firm, Soft, and Semi-soft Cheeses.\n",
    "\n",
    "Ontario (ON) and British Columbia (BC) also produce a moderate variety of cheese types, though in smaller quantities.\n",
    "Provinces like NL, PE, and SK show minimal cheese diversity or production volume in the dataset, which may reflect regional focus, population size, or data availability."
   ]
  },
  {
   "cell_type": "markdown",
   "id": "36c8cb15-2398-4d4e-9a72-b780eca28681",
   "metadata": {},
   "source": [
    "# Final Summary & Key Insights"
   ]
  },
  {
   "cell_type": "markdown",
   "id": "331c95c2-11de-4a13-80b2-a7d3419e1bf5",
   "metadata": {},
   "source": [
    "This analysis explored the relationship between cheese production characteristics and climate across Canadian provinces by merging two datasets: the Canadian Cheese Directory and provincial temperature data.\n",
    "\n",
    "Key Findings:\n",
    "\n",
    "- Provinces with warmer climates (e.g., AB, ON, QC) tend to produce cheeses with higher moisture content.\n",
    "\n",
    "- Hard and Veined Cheeses are more common in warmer provinces, while Soft and Semi-soft Cheeses are associated with cooler regions.\n",
    "\n",
    "- Quebec leads significantly in cheese production volume and variety, followed by Ontario and British Columbia.\n",
    "\n",
    "- Temperature and regional preferences appear to influence both the type and fat/moisture content of cheeses produced.\n",
    "\n",
    "The project demonstrates how environmental factors like temperature may inform agricultural and food product trends."
   ]
  },
  {
   "cell_type": "markdown",
   "id": "afc6a1c0-30ad-4b04-be47-b7d6accca2c5",
   "metadata": {},
   "source": [
    "# Discussion\n",
    "\n",
    "The analysis reveals several meaningful relationships between cheese production and provincial climate in Canada. Warmer provinces, such as Alberta and Ontario, tend to produce cheeses with higher moisture content on average. This may be due to production methods better suited to or influenced by environmental conditions, such as humidity and aging practices.\n",
    "\n",
    "Cheese categories also show climate-based trends. Hard and veined cheeses are more prevalent in warmer regions, likely because of their lower moisture and longer shelf life, making them suitable for warmer environments. In contrast, soft and semi-soft cheeses are more common in cooler provinces, which may offer better natural conditions for storing and preserving high-moisture products.\n",
    "\n",
    "Quebec stands out as the most diverse and productive cheese-producing province, with a wide variety of cheese types represented. This could be due to a combination of cultural influence, industry presence, and climate versatility.\n",
    "\n",
    "Overall, the visual and statistical analysis supports the idea that regional climate influences not just **how much** cheese is made, but also **what kind** of cheese is most viable or traditional in different parts of the country.\n"
   ]
  }
 ],
 "metadata": {
  "kernelspec": {
   "display_name": "Python 3 (ipykernel)",
   "language": "python",
   "name": "python3"
  },
  "language_info": {
   "codemirror_mode": {
    "name": "ipython",
    "version": 3
   },
   "file_extension": ".py",
   "mimetype": "text/x-python",
   "name": "python",
   "nbconvert_exporter": "python",
   "pygments_lexer": "ipython3",
   "version": "3.12.4"
  }
 },
 "nbformat": 4,
 "nbformat_minor": 5
}

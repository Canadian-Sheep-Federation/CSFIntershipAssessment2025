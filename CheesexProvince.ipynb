{
 "cells": [
  {
   "cell_type": "code",
   "execution_count": 57,
   "id": "095ef4b0",
   "metadata": {},
   "outputs": [
    {
     "name": "stdout",
     "output_type": "stream",
     "text": [
      "Defaulting to user installation because normal site-packages is not writeable\n",
      "Requirement already satisfied: numpy in c:\\users\\somto\\appdata\\local\\packages\\pythonsoftwarefoundation.python.3.13_qbz5n2kfra8p0\\localcache\\local-packages\\python313\\site-packages (2.2.6)\n",
      "Note: you may need to restart the kernel to use updated packages.\n",
      "Defaulting to user installation because normal site-packages is not writeable\n",
      "Requirement already satisfied: pandas in c:\\users\\somto\\appdata\\local\\packages\\pythonsoftwarefoundation.python.3.13_qbz5n2kfra8p0\\localcache\\local-packages\\python313\\site-packages (2.2.3)\n",
      "Requirement already satisfied: numpy>=1.26.0 in c:\\users\\somto\\appdata\\local\\packages\\pythonsoftwarefoundation.python.3.13_qbz5n2kfra8p0\\localcache\\local-packages\\python313\\site-packages (from pandas) (2.2.6)\n",
      "Requirement already satisfied: python-dateutil>=2.8.2 in c:\\users\\somto\\appdata\\local\\packages\\pythonsoftwarefoundation.python.3.13_qbz5n2kfra8p0\\localcache\\local-packages\\python313\\site-packages (from pandas) (2.9.0.post0)\n",
      "Requirement already satisfied: pytz>=2020.1 in c:\\users\\somto\\appdata\\local\\packages\\pythonsoftwarefoundation.python.3.13_qbz5n2kfra8p0\\localcache\\local-packages\\python313\\site-packages (from pandas) (2025.2)\n",
      "Requirement already satisfied: tzdata>=2022.7 in c:\\users\\somto\\appdata\\local\\packages\\pythonsoftwarefoundation.python.3.13_qbz5n2kfra8p0\\localcache\\local-packages\\python313\\site-packages (from pandas) (2025.2)\n",
      "Requirement already satisfied: six>=1.5 in c:\\users\\somto\\appdata\\local\\packages\\pythonsoftwarefoundation.python.3.13_qbz5n2kfra8p0\\localcache\\local-packages\\python313\\site-packages (from python-dateutil>=2.8.2->pandas) (1.17.0)\n",
      "Note: you may need to restart the kernel to use updated packages.\n",
      "Defaulting to user installation because normal site-packages is not writeable\n",
      "Requirement already satisfied: seaborn in c:\\users\\somto\\appdata\\local\\packages\\pythonsoftwarefoundation.python.3.13_qbz5n2kfra8p0\\localcache\\local-packages\\python313\\site-packages (0.13.2)\n",
      "Requirement already satisfied: numpy!=1.24.0,>=1.20 in c:\\users\\somto\\appdata\\local\\packages\\pythonsoftwarefoundation.python.3.13_qbz5n2kfra8p0\\localcache\\local-packages\\python313\\site-packages (from seaborn) (2.2.6)\n",
      "Requirement already satisfied: pandas>=1.2 in c:\\users\\somto\\appdata\\local\\packages\\pythonsoftwarefoundation.python.3.13_qbz5n2kfra8p0\\localcache\\local-packages\\python313\\site-packages (from seaborn) (2.2.3)\n",
      "Requirement already satisfied: matplotlib!=3.6.1,>=3.4 in c:\\users\\somto\\appdata\\local\\packages\\pythonsoftwarefoundation.python.3.13_qbz5n2kfra8p0\\localcache\\local-packages\\python313\\site-packages (from seaborn) (3.10.3)\n",
      "Requirement already satisfied: contourpy>=1.0.1 in c:\\users\\somto\\appdata\\local\\packages\\pythonsoftwarefoundation.python.3.13_qbz5n2kfra8p0\\localcache\\local-packages\\python313\\site-packages (from matplotlib!=3.6.1,>=3.4->seaborn) (1.3.2)\n",
      "Requirement already satisfied: cycler>=0.10 in c:\\users\\somto\\appdata\\local\\packages\\pythonsoftwarefoundation.python.3.13_qbz5n2kfra8p0\\localcache\\local-packages\\python313\\site-packages (from matplotlib!=3.6.1,>=3.4->seaborn) (0.12.1)\n",
      "Requirement already satisfied: fonttools>=4.22.0 in c:\\users\\somto\\appdata\\local\\packages\\pythonsoftwarefoundation.python.3.13_qbz5n2kfra8p0\\localcache\\local-packages\\python313\\site-packages (from matplotlib!=3.6.1,>=3.4->seaborn) (4.58.2)\n",
      "Requirement already satisfied: kiwisolver>=1.3.1 in c:\\users\\somto\\appdata\\local\\packages\\pythonsoftwarefoundation.python.3.13_qbz5n2kfra8p0\\localcache\\local-packages\\python313\\site-packages (from matplotlib!=3.6.1,>=3.4->seaborn) (1.4.8)\n",
      "Requirement already satisfied: packaging>=20.0 in c:\\users\\somto\\appdata\\local\\packages\\pythonsoftwarefoundation.python.3.13_qbz5n2kfra8p0\\localcache\\local-packages\\python313\\site-packages (from matplotlib!=3.6.1,>=3.4->seaborn) (24.2)\n",
      "Requirement already satisfied: pillow>=8 in c:\\users\\somto\\appdata\\local\\packages\\pythonsoftwarefoundation.python.3.13_qbz5n2kfra8p0\\localcache\\local-packages\\python313\\site-packages (from matplotlib!=3.6.1,>=3.4->seaborn) (11.2.1)\n",
      "Requirement already satisfied: pyparsing>=2.3.1 in c:\\users\\somto\\appdata\\local\\packages\\pythonsoftwarefoundation.python.3.13_qbz5n2kfra8p0\\localcache\\local-packages\\python313\\site-packages (from matplotlib!=3.6.1,>=3.4->seaborn) (3.2.3)\n",
      "Requirement already satisfied: python-dateutil>=2.7 in c:\\users\\somto\\appdata\\local\\packages\\pythonsoftwarefoundation.python.3.13_qbz5n2kfra8p0\\localcache\\local-packages\\python313\\site-packages (from matplotlib!=3.6.1,>=3.4->seaborn) (2.9.0.post0)\n",
      "Requirement already satisfied: pytz>=2020.1 in c:\\users\\somto\\appdata\\local\\packages\\pythonsoftwarefoundation.python.3.13_qbz5n2kfra8p0\\localcache\\local-packages\\python313\\site-packages (from pandas>=1.2->seaborn) (2025.2)\n",
      "Requirement already satisfied: tzdata>=2022.7 in c:\\users\\somto\\appdata\\local\\packages\\pythonsoftwarefoundation.python.3.13_qbz5n2kfra8p0\\localcache\\local-packages\\python313\\site-packages (from pandas>=1.2->seaborn) (2025.2)\n",
      "Requirement already satisfied: six>=1.5 in c:\\users\\somto\\appdata\\local\\packages\\pythonsoftwarefoundation.python.3.13_qbz5n2kfra8p0\\localcache\\local-packages\\python313\\site-packages (from python-dateutil>=2.7->matplotlib!=3.6.1,>=3.4->seaborn) (1.17.0)\n",
      "Note: you may need to restart the kernel to use updated packages.\n",
      "Defaulting to user installation because normal site-packages is not writeable\n",
      "Requirement already satisfied: matplotlib in c:\\users\\somto\\appdata\\local\\packages\\pythonsoftwarefoundation.python.3.13_qbz5n2kfra8p0\\localcache\\local-packages\\python313\\site-packages (3.10.3)\n",
      "Requirement already satisfied: contourpy>=1.0.1 in c:\\users\\somto\\appdata\\local\\packages\\pythonsoftwarefoundation.python.3.13_qbz5n2kfra8p0\\localcache\\local-packages\\python313\\site-packages (from matplotlib) (1.3.2)\n",
      "Requirement already satisfied: cycler>=0.10 in c:\\users\\somto\\appdata\\local\\packages\\pythonsoftwarefoundation.python.3.13_qbz5n2kfra8p0\\localcache\\local-packages\\python313\\site-packages (from matplotlib) (0.12.1)\n",
      "Requirement already satisfied: fonttools>=4.22.0 in c:\\users\\somto\\appdata\\local\\packages\\pythonsoftwarefoundation.python.3.13_qbz5n2kfra8p0\\localcache\\local-packages\\python313\\site-packages (from matplotlib) (4.58.2)\n",
      "Requirement already satisfied: kiwisolver>=1.3.1 in c:\\users\\somto\\appdata\\local\\packages\\pythonsoftwarefoundation.python.3.13_qbz5n2kfra8p0\\localcache\\local-packages\\python313\\site-packages (from matplotlib) (1.4.8)\n",
      "Requirement already satisfied: numpy>=1.23 in c:\\users\\somto\\appdata\\local\\packages\\pythonsoftwarefoundation.python.3.13_qbz5n2kfra8p0\\localcache\\local-packages\\python313\\site-packages (from matplotlib) (2.2.6)\n",
      "Requirement already satisfied: packaging>=20.0 in c:\\users\\somto\\appdata\\local\\packages\\pythonsoftwarefoundation.python.3.13_qbz5n2kfra8p0\\localcache\\local-packages\\python313\\site-packages (from matplotlib) (24.2)\n",
      "Requirement already satisfied: pillow>=8 in c:\\users\\somto\\appdata\\local\\packages\\pythonsoftwarefoundation.python.3.13_qbz5n2kfra8p0\\localcache\\local-packages\\python313\\site-packages (from matplotlib) (11.2.1)\n",
      "Requirement already satisfied: pyparsing>=2.3.1 in c:\\users\\somto\\appdata\\local\\packages\\pythonsoftwarefoundation.python.3.13_qbz5n2kfra8p0\\localcache\\local-packages\\python313\\site-packages (from matplotlib) (3.2.3)\n",
      "Requirement already satisfied: python-dateutil>=2.7 in c:\\users\\somto\\appdata\\local\\packages\\pythonsoftwarefoundation.python.3.13_qbz5n2kfra8p0\\localcache\\local-packages\\python313\\site-packages (from matplotlib) (2.9.0.post0)\n",
      "Requirement already satisfied: six>=1.5 in c:\\users\\somto\\appdata\\local\\packages\\pythonsoftwarefoundation.python.3.13_qbz5n2kfra8p0\\localcache\\local-packages\\python313\\site-packages (from python-dateutil>=2.7->matplotlib) (1.17.0)\n",
      "Note: you may need to restart the kernel to use updated packages.\n",
      "Defaulting to user installation because normal site-packages is not writeable\n",
      "Requirement already satisfied: kagglehub[pandas-datasets] in c:\\users\\somto\\appdata\\local\\packages\\pythonsoftwarefoundation.python.3.13_qbz5n2kfra8p0\\localcache\\local-packages\\python313\\site-packages (0.3.12)\n",
      "Requirement already satisfied: packaging in c:\\users\\somto\\appdata\\local\\packages\\pythonsoftwarefoundation.python.3.13_qbz5n2kfra8p0\\localcache\\local-packages\\python313\\site-packages (from kagglehub[pandas-datasets]) (24.2)\n",
      "Requirement already satisfied: pyyaml in c:\\users\\somto\\appdata\\local\\packages\\pythonsoftwarefoundation.python.3.13_qbz5n2kfra8p0\\localcache\\local-packages\\python313\\site-packages (from kagglehub[pandas-datasets]) (6.0.2)\n",
      "Requirement already satisfied: requests in c:\\users\\somto\\appdata\\local\\packages\\pythonsoftwarefoundation.python.3.13_qbz5n2kfra8p0\\localcache\\local-packages\\python313\\site-packages (from kagglehub[pandas-datasets]) (2.32.3)\n",
      "Requirement already satisfied: tqdm in c:\\users\\somto\\appdata\\local\\packages\\pythonsoftwarefoundation.python.3.13_qbz5n2kfra8p0\\localcache\\local-packages\\python313\\site-packages (from kagglehub[pandas-datasets]) (4.67.1)\n",
      "Requirement already satisfied: pandas in c:\\users\\somto\\appdata\\local\\packages\\pythonsoftwarefoundation.python.3.13_qbz5n2kfra8p0\\localcache\\local-packages\\python313\\site-packages (from kagglehub[pandas-datasets]) (2.2.3)\n",
      "Requirement already satisfied: numpy>=1.26.0 in c:\\users\\somto\\appdata\\local\\packages\\pythonsoftwarefoundation.python.3.13_qbz5n2kfra8p0\\localcache\\local-packages\\python313\\site-packages (from pandas->kagglehub[pandas-datasets]) (2.2.6)\n",
      "Requirement already satisfied: python-dateutil>=2.8.2 in c:\\users\\somto\\appdata\\local\\packages\\pythonsoftwarefoundation.python.3.13_qbz5n2kfra8p0\\localcache\\local-packages\\python313\\site-packages (from pandas->kagglehub[pandas-datasets]) (2.9.0.post0)\n",
      "Requirement already satisfied: pytz>=2020.1 in c:\\users\\somto\\appdata\\local\\packages\\pythonsoftwarefoundation.python.3.13_qbz5n2kfra8p0\\localcache\\local-packages\\python313\\site-packages (from pandas->kagglehub[pandas-datasets]) (2025.2)\n",
      "Requirement already satisfied: tzdata>=2022.7 in c:\\users\\somto\\appdata\\local\\packages\\pythonsoftwarefoundation.python.3.13_qbz5n2kfra8p0\\localcache\\local-packages\\python313\\site-packages (from pandas->kagglehub[pandas-datasets]) (2025.2)\n",
      "Requirement already satisfied: six>=1.5 in c:\\users\\somto\\appdata\\local\\packages\\pythonsoftwarefoundation.python.3.13_qbz5n2kfra8p0\\localcache\\local-packages\\python313\\site-packages (from python-dateutil>=2.8.2->pandas->kagglehub[pandas-datasets]) (1.17.0)\n",
      "Requirement already satisfied: charset-normalizer<4,>=2 in c:\\users\\somto\\appdata\\local\\packages\\pythonsoftwarefoundation.python.3.13_qbz5n2kfra8p0\\localcache\\local-packages\\python313\\site-packages (from requests->kagglehub[pandas-datasets]) (3.4.2)\n",
      "Requirement already satisfied: idna<4,>=2.5 in c:\\users\\somto\\appdata\\local\\packages\\pythonsoftwarefoundation.python.3.13_qbz5n2kfra8p0\\localcache\\local-packages\\python313\\site-packages (from requests->kagglehub[pandas-datasets]) (3.10)\n",
      "Requirement already satisfied: urllib3<3,>=1.21.1 in c:\\users\\somto\\appdata\\local\\packages\\pythonsoftwarefoundation.python.3.13_qbz5n2kfra8p0\\localcache\\local-packages\\python313\\site-packages (from requests->kagglehub[pandas-datasets]) (2.4.0)\n",
      "Requirement already satisfied: certifi>=2017.4.17 in c:\\users\\somto\\appdata\\local\\packages\\pythonsoftwarefoundation.python.3.13_qbz5n2kfra8p0\\localcache\\local-packages\\python313\\site-packages (from requests->kagglehub[pandas-datasets]) (2025.4.26)\n",
      "Requirement already satisfied: colorama in c:\\users\\somto\\appdata\\local\\packages\\pythonsoftwarefoundation.python.3.13_qbz5n2kfra8p0\\localcache\\local-packages\\python313\\site-packages (from tqdm->kagglehub[pandas-datasets]) (0.4.6)\n",
      "Note: you may need to restart the kernel to use updated packages.\n"
     ]
    }
   ],
   "source": [
    "%pip install numpy\n",
    "%pip install pandas\n",
    "%pip install seaborn\n",
    "%pip install matplotlib\n",
    "%pip install kagglehub[pandas-datasets]"
   ]
  },
  {
   "cell_type": "code",
   "execution_count": 58,
   "id": "fc46f515",
   "metadata": {},
   "outputs": [],
   "source": [
    "import pandas as pd\n",
    "import numpy as np\n",
    "import seaborn as sns\n",
    "import matplotlib.pyplot as plt\n",
    "import sqlite3"
   ]
  },
  {
   "cell_type": "code",
   "execution_count": 59,
   "id": "8e3ffec4",
   "metadata": {},
   "outputs": [
    {
     "name": "stderr",
     "output_type": "stream",
     "text": [
      "C:\\Users\\somto\\AppData\\Local\\Temp\\ipykernel_38504\\94478273.py:7: DeprecationWarning: load_dataset is deprecated and will be removed in a future version.\n",
      "  CheeseDatadf = kagglehub.load_dataset(\n"
     ]
    },
    {
     "name": "stdout",
     "output_type": "stream",
     "text": [
      "First 5 records:    CheeseId ManufacturerProvCode ManufacturingTypeEn  MoisturePercent  \\\n",
      "0       228                   NB           Farmstead             47.0   \n",
      "1       242                   NB           Farmstead             47.9   \n",
      "2       301                   ON          Industrial             54.0   \n",
      "3       303                   NB           Farmstead             47.0   \n",
      "4       319                   NB           Farmstead             49.4   \n",
      "\n",
      "                                          FlavourEn  \\\n",
      "0                                     Sharp, lactic   \n",
      "1                Sharp, lactic, lightly caramelized   \n",
      "2                           Mild, tangy, and fruity   \n",
      "3  Sharp with fruity notes and a hint of wild honey   \n",
      "4                                      Softer taste   \n",
      "\n",
      "                                   CharacteristicsEn  Organic  \\\n",
      "0                                           Uncooked        0   \n",
      "1                                           Uncooked        0   \n",
      "2  Pressed and cooked cheese, pasta filata, inter...        0   \n",
      "3                                                NaN        0   \n",
      "4                                                NaN        1   \n",
      "\n",
      "     CategoryTypeEn MilkTypeEn MilkTreatmentTypeEn   RindTypeEn  \\\n",
      "0       Firm Cheese        Ewe            Raw Milk  Washed Rind   \n",
      "1  Semi-soft Cheese        Cow            Raw Milk  Washed Rind   \n",
      "2       Firm Cheese        Cow         Pasteurized          NaN   \n",
      "3    Veined Cheeses        Cow            Raw Milk          NaN   \n",
      "4  Semi-soft Cheese        Cow            Raw Milk  Washed Rind   \n",
      "\n",
      "                           CheeseName   FatLevel  \n",
      "0             Sieur de Duplessis (Le)  lower fat  \n",
      "1                 Tomme Le Champ Doré  lower fat  \n",
      "2  Provolone Sette Fette (Tre-Stelle)  lower fat  \n",
      "3                      Geai Bleu (Le)  lower fat  \n",
      "4                          Gamin (Le)  lower fat  \n"
     ]
    }
   ],
   "source": [
    "#Get the Cheese data from Kagglehub\n",
    "import kagglehub\n",
    "from kagglehub import KaggleDatasetAdapter\n",
    "\n",
    "file_path = \"cheese_data.csv\"\n",
    "\n",
    "CheeseDatadf = kagglehub.load_dataset(\n",
    "  KaggleDatasetAdapter.PANDAS,\n",
    "  \"noahjanes/canadian-cheese-directory\",\n",
    "  file_path,\n",
    ")\n",
    "\n",
    "print(\"First 5 records:\", CheeseDatadf.head())"
   ]
  },
  {
   "cell_type": "code",
   "execution_count": 60,
   "id": "d96ff213",
   "metadata": {},
   "outputs": [],
   "source": [
    "#Remove every column except 'CheeseId', 'ManufacturerProvCode', 'MoisturePercent', 'Organic', 'CategoryTypeEn', 'FatLevel'\n",
    "CheeseDatadf = CheeseDatadf[['CheeseId', 'ManufacturerProvCode', 'MoisturePercent', 'Organic', 'CategoryTypeEn', 'FatLevel']]"
   ]
  },
  {
   "cell_type": "code",
   "execution_count": 61,
   "id": "c94f6a2b",
   "metadata": {},
   "outputs": [
    {
     "name": "stdout",
     "output_type": "stream",
     "text": [
      "<class 'pandas.core.frame.DataFrame'>\n",
      "RangeIndex: 1042 entries, 0 to 1041\n",
      "Data columns (total 6 columns):\n",
      " #   Column                Non-Null Count  Dtype  \n",
      "---  ------                --------------  -----  \n",
      " 0   CheeseId              1042 non-null   int64  \n",
      " 1   ManufacturerProvCode  1042 non-null   object \n",
      " 2   MoisturePercent       1028 non-null   float64\n",
      " 3   Organic               1042 non-null   int64  \n",
      " 4   CategoryTypeEn        1019 non-null   object \n",
      " 5   FatLevel              1042 non-null   object \n",
      "dtypes: float64(1), int64(2), object(3)\n",
      "memory usage: 49.0+ KB\n",
      "Cheese Data Columns info: None\n"
     ]
    }
   ],
   "source": [
    "print(\"Cheese Data Columns info:\", CheeseDatadf.info())"
   ]
  },
  {
   "cell_type": "code",
   "execution_count": 62,
   "id": "374f651e",
   "metadata": {},
   "outputs": [
    {
     "name": "stdout",
     "output_type": "stream",
     "text": [
      "   CheeseId ManufacturerProvCode  MoisturePercent  Organic    CategoryTypeEn  \\\n",
      "0       228                   NB             47.0        0       Firm Cheese   \n",
      "1       242                   NB             47.9        0  Semi-soft Cheese   \n",
      "2       301                   ON             54.0        0       Firm Cheese   \n",
      "3       303                   NB             47.0        0    Veined Cheeses   \n",
      "4       319                   NB             49.4        1  Semi-soft Cheese   \n",
      "\n",
      "    FatLevel  \n",
      "0  lower fat  \n",
      "1  lower fat  \n",
      "2  lower fat  \n",
      "3  lower fat  \n",
      "4  lower fat  \n"
     ]
    },
    {
     "name": "stderr",
     "output_type": "stream",
     "text": [
      "C:\\Users\\somto\\AppData\\Local\\Temp\\ipykernel_38504\\17002324.py:2: FutureWarning: A value is trying to be set on a copy of a DataFrame or Series through chained assignment using an inplace method.\n",
      "The behavior will change in pandas 3.0. This inplace method will never work because the intermediate object on which we are setting values always behaves as a copy.\n",
      "\n",
      "For example, when doing 'df[col].method(value, inplace=True)', try using 'df.method({col: value}, inplace=True)' or df[col] = df[col].method(value) instead, to perform the operation inplace on the original object.\n",
      "\n",
      "\n",
      "  CheeseDatadf['MoisturePercent'].fillna(CheeseDatadf['MoisturePercent'].mean(), inplace=True)\n",
      "C:\\Users\\somto\\AppData\\Local\\Temp\\ipykernel_38504\\17002324.py:5: FutureWarning: A value is trying to be set on a copy of a DataFrame or Series through chained assignment using an inplace method.\n",
      "The behavior will change in pandas 3.0. This inplace method will never work because the intermediate object on which we are setting values always behaves as a copy.\n",
      "\n",
      "For example, when doing 'df[col].method(value, inplace=True)', try using 'df.method({col: value}, inplace=True)' or df[col] = df[col].method(value) instead, to perform the operation inplace on the original object.\n",
      "\n",
      "\n",
      "  CheeseDatadf['Organic'].fillna('Unknown', inplace=True)\n"
     ]
    }
   ],
   "source": [
    "# Fill missing values in 'MoisturePercent' with the mean of the column\n",
    "CheeseDatadf['MoisturePercent'].fillna(CheeseDatadf['MoisturePercent'].mean(), inplace=True)\n",
    "\n",
    "# Fill missing values in 'Organic' with 'Unknown'\n",
    "CheeseDatadf['Organic'].fillna('Unknown', inplace=True)\n",
    "\n",
    "# Check the result\n",
    "print(CheeseDatadf.head())"
   ]
  },
  {
   "cell_type": "code",
   "execution_count": 63,
   "id": "76bdd494",
   "metadata": {},
   "outputs": [
    {
     "name": "stderr",
     "output_type": "stream",
     "text": [
      "C:\\Users\\somto\\AppData\\Local\\Temp\\ipykernel_38504\\1396991041.py:10: DeprecationWarning: load_dataset is deprecated and will be removed in a future version.\n",
      "  CanadaWeatherdf = kagglehub.load_dataset(\n"
     ]
    }
   ],
   "source": [
    "# Install dependencies as needed:\n",
    "# pip install kagglehub[pandas-datasets]\n",
    "import kagglehub\n",
    "from kagglehub import KaggleDatasetAdapter\n",
    "\n",
    "# Set the path to the file you'd like to load\n",
    "file_path = \"canada_weather.csv\"\n",
    "\n",
    "# Load the latest version\n",
    "CanadaWeatherdf = kagglehub.load_dataset(\n",
    "  KaggleDatasetAdapter.PANDAS,\n",
    "  \"hemil26/canada-weather\",\n",
    "  file_path,\n",
    "  pandas_kwargs={\"encoding\": \"utf-8\"},\n",
    ")"
   ]
  },
  {
   "cell_type": "code",
   "execution_count": 64,
   "id": "7b7ebc9e",
   "metadata": {},
   "outputs": [
    {
     "name": "stdout",
     "output_type": "stream",
     "text": [
      "Missing values in Canada weather data: Community                     0\n",
      "Weather station               3\n",
      "Location                      0\n",
      "Elevation                     0\n",
      "January(Avg. high °C (°F))    0\n",
      "January(Avg. low °C (°F))     0\n",
      "July(Avg. high °C (°F))       0\n",
      "July(Avg. low °C (°F))        0\n",
      "Annual(Avg. high °C (°F))     0\n",
      "Annual(Avg. low °C (°F))      0\n",
      "dtype: int64\n"
     ]
    }
   ],
   "source": [
    "# Check for missing values\n",
    "print(\"Missing values in Canada weather data:\", CanadaWeatherdf.isnull().sum())"
   ]
  },
  {
   "cell_type": "code",
   "execution_count": 65,
   "id": "9b66dffe",
   "metadata": {},
   "outputs": [
    {
     "data": {
      "text/html": [
       "<div>\n",
       "<style scoped>\n",
       "    .dataframe tbody tr th:only-of-type {\n",
       "        vertical-align: middle;\n",
       "    }\n",
       "\n",
       "    .dataframe tbody tr th {\n",
       "        vertical-align: top;\n",
       "    }\n",
       "\n",
       "    .dataframe thead th {\n",
       "        text-align: right;\n",
       "    }\n",
       "</style>\n",
       "<table border=\"1\" class=\"dataframe\">\n",
       "  <thead>\n",
       "    <tr style=\"text-align: right;\">\n",
       "      <th></th>\n",
       "      <th>Community</th>\n",
       "      <th>Weather station</th>\n",
       "      <th>January(Avg. high °C (°F))</th>\n",
       "      <th>January(Avg. low °C (°F))</th>\n",
       "      <th>July(Avg. high °C (°F))</th>\n",
       "      <th>July(Avg. low °C (°F))</th>\n",
       "      <th>Annual(Avg. high °C (°F))</th>\n",
       "      <th>Annual(Avg. low °C (°F))</th>\n",
       "      <th>Province</th>\n",
       "    </tr>\n",
       "  </thead>\n",
       "  <tbody>\n",
       "    <tr>\n",
       "      <th>0</th>\n",
       "      <td>Alberton, PE</td>\n",
       "      <td>NaN</td>\n",
       "      <td>−3.9</td>\n",
       "      <td>−12.5</td>\n",
       "      <td>23.2</td>\n",
       "      <td>14.1</td>\n",
       "      <td>9.6</td>\n",
       "      <td>1.3</td>\n",
       "      <td>PE</td>\n",
       "    </tr>\n",
       "    <tr>\n",
       "      <th>1</th>\n",
       "      <td>Baker Lake, NU</td>\n",
       "      <td>YBK</td>\n",
       "      <td>−27.7</td>\n",
       "      <td>−34.8</td>\n",
       "      <td>17.0</td>\n",
       "      <td>6.1</td>\n",
       "      <td>−7.3</td>\n",
       "      <td>−15.2</td>\n",
       "      <td>NU</td>\n",
       "    </tr>\n",
       "    <tr>\n",
       "      <th>2</th>\n",
       "      <td>Baie-Comeau, QC</td>\n",
       "      <td>YBC</td>\n",
       "      <td>−8.7</td>\n",
       "      <td>−19.9</td>\n",
       "      <td>20.9</td>\n",
       "      <td>10.3</td>\n",
       "      <td>6.6</td>\n",
       "      <td>−3.3</td>\n",
       "      <td>QC</td>\n",
       "    </tr>\n",
       "    <tr>\n",
       "      <th>3</th>\n",
       "      <td>Calgary, AB</td>\n",
       "      <td>YYC</td>\n",
       "      <td>−0.9</td>\n",
       "      <td>−13.2</td>\n",
       "      <td>23.2</td>\n",
       "      <td>9.8</td>\n",
       "      <td>10.8</td>\n",
       "      <td>−1.9</td>\n",
       "      <td>AB</td>\n",
       "    </tr>\n",
       "    <tr>\n",
       "      <th>4</th>\n",
       "      <td>Charlottetown, PE</td>\n",
       "      <td>YYG</td>\n",
       "      <td>−3.4</td>\n",
       "      <td>−12.1</td>\n",
       "      <td>23.3</td>\n",
       "      <td>14.1</td>\n",
       "      <td>9.9</td>\n",
       "      <td>1.3</td>\n",
       "      <td>PE</td>\n",
       "    </tr>\n",
       "  </tbody>\n",
       "</table>\n",
       "</div>"
      ],
      "text/plain": [
       "           Community Weather station January(Avg. high °C (°F))  \\\n",
       "0       Alberton, PE             NaN                       −3.9   \n",
       "1     Baker Lake, NU             YBK                      −27.7   \n",
       "2    Baie-Comeau, QC             YBC                       −8.7   \n",
       "3        Calgary, AB             YYC                       −0.9   \n",
       "4  Charlottetown, PE             YYG                       −3.4   \n",
       "\n",
       "  January(Avg. low °C (°F)) July(Avg. high °C (°F)) July(Avg. low °C (°F))  \\\n",
       "0                     −12.5                    23.2                   14.1   \n",
       "1                     −34.8                    17.0                    6.1   \n",
       "2                     −19.9                    20.9                   10.3   \n",
       "3                     −13.2                    23.2                    9.8   \n",
       "4                     −12.1                    23.3                   14.1   \n",
       "\n",
       "  Annual(Avg. high °C (°F)) Annual(Avg. low °C (°F)) Province  \n",
       "0                       9.6                      1.3       PE  \n",
       "1                      −7.3                    −15.2       NU  \n",
       "2                       6.6                     −3.3       QC  \n",
       "3                      10.8                     −1.9       AB  \n",
       "4                       9.9                      1.3       PE  "
      ]
     },
     "execution_count": 65,
     "metadata": {},
     "output_type": "execute_result"
    }
   ],
   "source": [
    "#Drop 'Location' column\n",
    "CanadaWeatherdf = CanadaWeatherdf.drop(columns=['Location', 'Elevation'])\n",
    "\n",
    "# Extract the province from the 'Community' column\n",
    "CanadaWeatherdf['Province'] = CanadaWeatherdf['Community'].str[-2:]\n",
    "\n",
    "import re\n",
    "\n",
    "# Remove everything inside brackets (and the brackets themselves) from all string columns in CanadaWeatherdf\n",
    "\n",
    "def strip_brackets(s):\n",
    "    if isinstance(s, str):\n",
    "        return re.sub(r'\\s*\\(.*?\\)', '', s)\n",
    "    return s\n",
    "\n",
    "for col in CanadaWeatherdf.select_dtypes(include='object').columns:\n",
    "    CanadaWeatherdf[col] = CanadaWeatherdf[col].apply(strip_brackets)\n",
    "\n",
    "CanadaWeatherdf.head()\n",
    "\n",
    "CanadaWeatherdf.head()"
   ]
  },
  {
   "cell_type": "code",
   "execution_count": 66,
   "id": "677e6f28",
   "metadata": {},
   "outputs": [
    {
     "name": "stdout",
     "output_type": "stream",
     "text": [
      "  ManufacturerProvCode  CheeseCount Province  Annual(Avg. high °C (°F))  \\\n",
      "0                   AB           13       AB                   8.433333   \n",
      "1                   BC           65       BC                  12.240000   \n",
      "2                   MB           11       MB                   6.050000   \n",
      "3                   NB           27       NB                  10.533333   \n",
      "4                   NL            2       NL                   6.566667   \n",
      "5                   NS           10       NS                  10.900000   \n",
      "6                   ON          115       ON                  11.650000   \n",
      "7                   PE            2       PE                   9.800000   \n",
      "8                   QC          796       QC                   9.100000   \n",
      "9                   SK            1       SK                   7.933333   \n",
      "\n",
      "   Annual(Avg. low °C (°F))  \n",
      "0                       NaN  \n",
      "1                  4.075000  \n",
      "2                       NaN  \n",
      "3                  0.100000  \n",
      "4                  1.150000  \n",
      "5                  2.166667  \n",
      "6                  3.366667  \n",
      "7                  1.400000  \n",
      "8                  2.000000  \n",
      "9                       NaN  \n"
     ]
    }
   ],
   "source": [
    "# Group CheeseDatadf by province and calculate the count of cheeses per province\n",
    "cheese_by_province = CheeseDatadf.groupby('ManufacturerProvCode').size().reset_index(name='CheeseCount')\n",
    "\n",
    "# Prepare CanadaWeatherdf: convert temperature columns to numeric (handle possible non-numeric values)\n",
    "for col in ['Annual(Avg. high °C (°F))', 'Annual(Avg. low °C (°F))']:\n",
    "    CanadaWeatherdf[col] = pd.to_numeric(CanadaWeatherdf[col], errors='coerce')\n",
    "\n",
    "# Calculate average annual high and low temperature per province\n",
    "weather_by_province = CanadaWeatherdf.groupby('Province').agg({\n",
    "    'Annual(Avg. high °C (°F))': 'mean',\n",
    "    'Annual(Avg. low °C (°F))': 'mean'\n",
    "}).reset_index()\n",
    "\n",
    "# Merge cheese and weather data on province code\n",
    "province_comparison = pd.merge(\n",
    "    cheese_by_province,\n",
    "    weather_by_province,\n",
    "    left_on='ManufacturerProvCode',\n",
    "    right_on='Province',\n",
    "    how='inner'\n",
    ")\n",
    "\n",
    "print(province_comparison)"
   ]
  },
  {
   "cell_type": "code",
   "execution_count": 67,
   "id": "0ef5018b",
   "metadata": {},
   "outputs": [
    {
     "data": {
      "image/png": "[encoded data removed]",
      "text/plain": [
       "<Figure size 1000x600 with 1 Axes>"
      ]
     },
     "metadata": {},
     "output_type": "display_data"
    }
   ],
   "source": [
    "# Plot the relationship between cheese count and temperature\n",
    "plt.figure(figsize=(10, 6))\n",
    "sns.scatterplot(data=province_comparison, x='Annual(Avg. high °C (°F))', y='CheeseCount')\n",
    "plt.title('Cheese Count vs Annual Average High Temperature')\n",
    "plt.xlabel('Annual Average High Temperature (°C)')\n",
    "plt.ylabel('Cheese Count')\n",
    "plt.show()"
   ]
  },
  {
   "cell_type": "markdown",
   "id": "1307043f",
   "metadata": {},
   "source": [
    "# Cheese Count vs Annual Average High Temperature Analysis\n",
    "\n",
    "This plot suggests that provinces with higher average temperatures tend to produce slightly more cheese varieties. Notably, there is a significant peak in cheese count around the 9°C mark. Additionally, provinces with average high temperatures near 12°C show a modest increase in cheese production compared to those with lower temperatures. Overall, while temperature appears to have some influence, other factors may also contribute to the distribution of cheese production across provinces."
   ]
  },
  {
   "cell_type": "code",
   "execution_count": 68,
   "id": "3ce195c9",
   "metadata": {},
   "outputs": [
    {
     "data": {
      "text/plain": [
       "<Figure size 1200x600 with 0 Axes>"
      ]
     },
     "metadata": {},
     "output_type": "display_data"
    },
    {
     "data": {
      "image/png": "[encoded data removed]",
      "text/plain": [
       "<Figure size 511.111x500 with 1 Axes>"
      ]
     },
     "metadata": {},
     "output_type": "display_data"
    }
   ],
   "source": [
    "#Plot the relationship between province and moisture percentage\n",
    "plt.figure(figsize=(12, 6))\n",
    "sns.catplot(data=CheeseDatadf, x='ManufacturerProvCode', y='MoisturePercent')\n",
    "plt.title('Moisture Percentage by Province')\n",
    "plt.xlabel('Province')\n",
    "plt.ylabel('Moisture Percentage')\n",
    "plt.show()"
   ]
  },
  {
   "cell_type": "markdown",
   "id": "b935e08d",
   "metadata": {},
   "source": [
    "# Moisture Percentage by Province Analysis\n",
    "\n",
    "These results indicate that Quebec, Ontario, and British Columbia (BC) not only produce a greater variety of cheeses but also offer a wider range of moisture percentages. This suggests that the climates in these provinces are particularly favorable for cheese production. In contrast, provinces such as Saskatchewan and Newfoundland have the lowest cheese output. BC and Ontario tend to produce cheeses with moisture levels between 30% and 55%, while Quebec’s production spans a broader range from 25% to 80%. New Brunswick primarily produces cheeses with moisture content around 50%."
   ]
  }
 ],
 "metadata": {
  "kernelspec": {
   "display_name": "Python 3",
   "language": "python",
   "name": "python3"
  },
  "language_info": {
   "codemirror_mode": {
    "name": "ipython",
    "version": 3
   },
   "file_extension": ".py",
   "mimetype": "text/x-python",
   "name": "python",
   "nbconvert_exporter": "python",
   "pygments_lexer": "ipython3",
   "version": "3.13.3"
  }
 },
 "nbformat": 4,
 "nbformat_minor": 5
}

{
 "cells": [
  {
   "cell_type": "code",
   "execution_count": 1,
   "id": "6f861b7e",
   "metadata": {},
   "outputs": [
    {
     "name": "stdout",
     "output_type": "stream",
     "text": [
      "Starting video stream. Press 'q' to quit.\n"
     ]
    }
   ],
   "source": [
    "import cv2\n",
    "import time\n",
    "import random\n",
    "\n",
    "def detect_carrots(frame):\n",
    "    # Simulates a 10% chance of carrot detection per frame\n",
    "    return random.random() < 0.1\n",
    "\n",
    "cpt = cv2.VideoCapture(\"sample.mp4\")\n",
    "\n",
    "print(\"Starting video stream. Press 'q' to quit.\")\n",
    "while cpt.isOpened():\n",
    "    ret, frame = cpt.read()\n",
    "    if not ret:\n",
    "        break\n",
    "\n",
    "    if detect_carrots(frame):\n",
    "        print(f\" Carrot detected at {time.strftime('%H:%M:%S')}\")\n",
    "\n",
    "    # Display the video feed\n",
    "    cv2.imshow('Carrot Detector', frame)\n",
    "\n",
    "    if cv2.waitKey(1) & 0xFF == ord('q'):\n",
    "        break\n",
    "\n",
    "cpt.release()\n",
    "cv2.destroyAllWindows()\n"
   ]
  },
  {
   "cell_type": "code",
   "execution_count": null,
   "id": "436e2eb3-6ad4-445d-a2bc-174aeb740af7",
   "metadata": {},
   "outputs": [],
   "source": []
  }
 ],
 "metadata": {
  "kernelspec": {
   "display_name": "Python 3 (ipykernel)",
   "language": "python",
   "name": "python3"
  },
  "language_info": {
   "codemirror_mode": {
    "name": "ipython",
    "version": 3
   },
   "file_extension": ".py",
   "mimetype": "text/x-python",
   "name": "python",
   "nbconvert_exporter": "python",
   "pygments_lexer": "ipython3",
   "version": "3.12.3"
  }
 },
 "nbformat": 4,
 "nbformat_minor": 5
}

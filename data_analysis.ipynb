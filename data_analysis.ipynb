{
 "cells": [
  {
   "cell_type": "code",
   "execution_count": 5,
   "id": "b2e2c197",
   "metadata": {},
   "outputs": [],
   "source": [
    "# Canadian Cheese & Climate Analysis  \n",
    "# Objective:** Explore how province‐level temperature relates to cheese production and diversity using Kaggle’s Cheese Directory and Weather datasets."
   ]
  },
  {
   "cell_type": "code",
   "execution_count": 20,
   "id": "12199555",
   "metadata": {},
   "outputs": [],
   "source": [
    "# Fix for pandasgui.show() in recent IPython versions\n",
    "import IPython\n",
    "ip = IPython.get_ipython()\n",
    "if ip is not None and not hasattr(ip, \"magic\"):\n",
    "    # alias .magic() to .run_line_magic() so pandasgui can call it\n",
    "    ip.magic = ip.run_line_magic\n",
    "\n",
    "# Turn on the Qt5 event loop for PandasGUI\n",
    "ip.run_line_magic(\"gui\", \"qt5\")\n"
   ]
  },
  {
   "cell_type": "code",
   "execution_count": 6,
   "id": "7209bfde",
   "metadata": {},
   "outputs": [],
   "source": [
    "# Importing neccessary libraries\n",
    "import webbrowser\n",
    "import pandas as pd\n",
    "from IPython.display import display\n",
    "import plotly.express as px\n",
    "\n",
    "# # Fallback for pandasgui.show if it isn't installed\n",
    "# try:\n",
    "#     from pandasgui import show\n",
    "# except ImportError:\n",
    "#     def show(df):\n",
    "#         print(df.head())"
   ]
  },
  {
   "cell_type": "code",
   "execution_count": 7,
   "id": "bebe15c5",
   "metadata": {},
   "outputs": [],
   "source": [
    "# Loading the CSV's and creating dataframes\n",
    "df = pd.read_csv(\"cheese_data.csv\")\n",
    "new_df = pd.read_csv(\"canada_weather.csv\")"
   ]
  },
  {
   "cell_type": "code",
   "execution_count": 8,
   "id": "85292e40",
   "metadata": {},
   "outputs": [],
   "source": [
    "# Cleaning and extracting the relevant information\n",
    "df_rows = []\n",
    "for _, row in df.iterrows():\n",
    "    province = str(row.iloc[1]).strip()\n",
    "    moisture_percent = float(row.iloc[3])\n",
    "    organic = float(row.iloc[6])\n",
    "    category_type = str(row.iloc[7]).strip()\n",
    "    df_rows.append({\n",
    "        \"Province\": province,\n",
    "        \"Moisture Percent\": moisture_percent,\n",
    "        \"Organic\": organic,\n",
    "        \"Type of Cheese\": category_type\n",
    "    })\n",
    "cheese_df = pd.DataFrame(df_rows)"
   ]
  },
  {
   "cell_type": "code",
   "execution_count": 9,
   "id": "2f250e43",
   "metadata": {},
   "outputs": [],
   "source": [
    "# Aggregating the cheese statistics\n",
    "agg_df = cheese_df.groupby('Province').agg({\n",
    "    \n",
    "    'Moisture Percent': 'mean',\n",
    "    'Organic': 'sum'\n",
    "})\n",
    "cheese_counts = pd.crosstab(cheese_df['Province'], cheese_df['Type of Cheese'])\n",
    "final_df = pd.concat([agg_df, cheese_counts], axis=1)\n",
    "final_df = final_df.rename(columns={final_df.columns[-1]: 'Other'})\n",
    "cheese_cols = final_df.columns.difference(['Moisture Percent', 'Organic'])\n",
    "final_df['Num_Cheese_Types'] = final_df[cheese_cols].gt(0).sum(axis=1)\n",
    "final_df['Total_Cheese_Produced'] = final_df[cheese_cols].sum(axis=1)"
   ]
  },
  {
   "cell_type": "code",
   "execution_count": 10,
   "id": "8b72c8de",
   "metadata": {},
   "outputs": [],
   "source": [
    "# Creating a function to clean filter out unicode characters in the weather data\n",
    "def clean_number(s):\n",
    "    return float(str(s).strip()\n",
    "                   .replace('−', '-')\n",
    "                   .replace('–', '-')\n",
    "                   .replace(',', '.'))\n",
    "\n",
    "# Organizing the information and loading it to a new dataframe\n",
    "rows = []\n",
    "for _, row in new_df.iterrows():\n",
    "    high_stat_str = str(row.iloc[8])\n",
    "    low_stat_str = str(row.iloc[9])\n",
    "    province = row['Community'].split(',')[-1].strip()\n",
    "\n",
    "    high_c = clean_number(high_stat_str.split('(')[0])\n",
    "    high_f = clean_number(high_stat_str.split('(')[-1].rstrip(')'))\n",
    "    low_c  = clean_number(low_stat_str.split('(')[0])\n",
    "    low_f  = clean_number(low_stat_str.split('(')[-1].rstrip(')'))\n",
    "\n",
    "    rows.append({\n",
    "        \"Province\": province,\n",
    "        \"High_Celsius\": high_c,\n",
    "        \"High_Farenheit\": high_f,\n",
    "        \"Low_Celsius\": low_c,\n",
    "        \"Low_Farenheit\": low_f\n",
    "    })\n",
    "\n",
    "temp_df = pd.DataFrame(rows)"
   ]
  },
  {
   "cell_type": "code",
   "execution_count": 11,
   "id": "2c06fb7c",
   "metadata": {},
   "outputs": [],
   "source": [
    "# Calculating the average temperatures\n",
    "avg_by_province = temp_df.groupby('Province').mean(numeric_only=True)\n",
    "avg_by_province['Avg Celsius'] = (avg_by_province['High_Celsius'] + avg_by_province['Low_Celsius']) / 2\n",
    "avg_by_province['Avg Farenheit'] = (avg_by_province['High_Farenheit'] + avg_by_province['Low_Farenheit']) / 2"
   ]
  },
  {
   "cell_type": "code",
   "execution_count": 12,
   "id": "a60ea760",
   "metadata": {},
   "outputs": [],
   "source": [
    "# Merging the cheese and weather dataframe by matching it with the province\n",
    "combined_df = pd.merge(\n",
    "    final_df.reset_index(), \n",
    "    avg_by_province.reset_index(), \n",
    "    on='Province', \n",
    "    how='inner'\n",
    ")\n",
    "combined_df.head()\n",
    "\n",
    "# Checking if there are any missing columns\n",
    "na_counts = combined_df.isna().sum()\n",
    "missing = na_counts[na_counts > 0]\n",
    "\n",
    "if not missing.empty:\n",
    "    print(\"Missing values detected:\")\n",
    "    display(missing)\n",
    "else:\n",
    "    pass"
   ]
  },
  {
   "cell_type": "code",
   "execution_count": null,
   "id": "43e39f65",
   "metadata": {},
   "outputs": [],
   "source": [
    "## Visualization 1: Avg Temperature vs. Cheese Production\n",
    "\n",
    "#This scatterplot shows average temperature per province vs total cheese production.  \n",
    "# - **X-axis**: Average Temperature (°C)  \n",
    "# - **Y-axis**: Total Cheese Produced  \n",
    "# - **Bubble Size**: Number of unique types of cheese  \n",
    "# - **Color**: Average moisture percent  \n",
    "\n",
    "# We use this chart to assess temperature's effect on the quantity and variety of cheese produced."
   ]
  },
  {
   "cell_type": "code",
   "execution_count": 13,
   "id": "f047945b",
   "metadata": {},
   "outputs": [
    {
     "data": {
      "application/vnd.plotly.v1+json": {
       "config": {
        "plotlyServerURL": "https://plot.ly"
       },
       "data": [
        {
         "hovertemplate": "<b>%{hovertext}</b><br><br>Average Temperature (°C)=%{x}<br>Total Cheese Produced=%{y}<br># of Cheese Types=%{marker.size}<br>Avg Moisture %=%{marker.color}<extra></extra>",
         "hovertext": [
          "AB",
          "BC",
          "MB",
          "NB",
          "NL",
          "NS",
          "ON",
          "PE",
          "QC",
          "SK"
         ],
         "legendgroup": "",
         "marker": {
          "color": {
           "bdata": "xU7sxE4sRUAJBRqxvb5EQEYXXXTRxURA1PC3KUbNSEAAAAAAAMBDQGZmZmZmpkRAygKvLPCKR0AAAAAAAMBDQGm45ZGG20dAAAAAAAAAMUA=",
           "dtype": "f8"
          },
          "coloraxis": "coloraxis",
          "size": {
           "bdata": "BAYDBQIGBwEHAQ==",
           "dtype": "i1"
          },
          "sizemode": "area",
          "sizeref": 0.0175,
          "symbol": "circle"
         },
         "mode": "markers",
         "name": "",
         "orientation": "v",
         "showlegend": false,
         "type": "scatter",
         "x": {
          "bdata": "REREREREBECamZmZmZkcQPDu7u7u7gDAd3d3d3d3E0CIiIiIiIgEQCIiIiIiIhpANDMzMzMzGkBmZmZmZmYWQM3MzMzMzBBA8O7u7u7u/j8=",
          "dtype": "f8"
         },
         "xaxis": "x",
         "y": {
          "bdata": "DQBBAAsAGwACAAoAcwACABwDAQA=",
          "dtype": "i2"
         },
         "yaxis": "y"
        }
       ],
       "layout": {
        "coloraxis": {
         "colorbar": {
          "title": {
           "text": "Avg Moisture %"
          }
         },
         "colorscale": [
          [
           0,
           "#0d0887"
          ],
          [
           0.1111111111111111,
           "#46039f"
          ],
          [
           0.2222222222222222,
           "#7201a8"
          ],
          [
           0.3333333333333333,
           "#9c179e"
          ],
          [
           0.4444444444444444,
           "#bd3786"
          ],
          [
           0.5555555555555556,
           "#d8576b"
          ],
          [
           0.6666666666666666,
           "#ed7953"
          ],
          [
           0.7777777777777778,
           "#fb9f3a"
          ],
          [
           0.8888888888888888,
           "#fdca26"
          ],
          [
           1,
           "#f0f921"
          ]
         ]
        },
        "legend": {
         "itemsizing": "constant",
         "tracegroupgap": 0
        },
        "template": {
         "data": {
          "bar": [
           {
            "error_x": {
             "color": "#2a3f5f"
            },
            "error_y": {
             "color": "#2a3f5f"
            },
            "marker": {
             "line": {
              "color": "#E5ECF6",
              "width": 0.5
             },
             "pattern": {
              "fillmode": "overlay",
              "size": 10,
              "solidity": 0.2
             }
            },
            "type": "bar"
           }
          ],
          "barpolar": [
           {
            "marker": {
             "line": {
              "color": "#E5ECF6",
              "width": 0.5
             },
             "pattern": {
              "fillmode": "overlay",
              "size": 10,
              "solidity": 0.2
             }
            },
            "type": "barpolar"
           }
          ],
          "carpet": [
           {
            "aaxis": {
             "endlinecolor": "#2a3f5f",
             "gridcolor": "white",
             "linecolor": "white",
             "minorgridcolor": "white",
             "startlinecolor": "#2a3f5f"
            },
            "baxis": {
             "endlinecolor": "#2a3f5f",
             "gridcolor": "white",
             "linecolor": "white",
             "minorgridcolor": "white",
             "startlinecolor": "#2a3f5f"
            },
            "type": "carpet"
           }
          ],
          "choropleth": [
           {
            "colorbar": {
             "outlinewidth": 0,
             "ticks": ""
            },
            "type": "choropleth"
           }
          ],
          "contour": [
           {
            "colorbar": {
             "outlinewidth": 0,
             "ticks": ""
            },
            "colorscale": [
             [
              0,
              "#0d0887"
             ],
             [
              0.1111111111111111,
              "#46039f"
             ],
             [
              0.2222222222222222,
              "#7201a8"
             ],
             [
              0.3333333333333333,
              "#9c179e"
             ],
             [
              0.4444444444444444,
              "#bd3786"
             ],
             [
              0.5555555555555556,
              "#d8576b"
             ],
             [
              0.6666666666666666,
              "#ed7953"
             ],
             [
              0.7777777777777778,
              "#fb9f3a"
             ],
             [
              0.8888888888888888,
              "#fdca26"
             ],
             [
              1,
              "#f0f921"
             ]
            ],
            "type": "contour"
           }
          ],
          "contourcarpet": [
           {
            "colorbar": {
             "outlinewidth": 0,
             "ticks": ""
            },
            "type": "contourcarpet"
           }
          ],
          "heatmap": [
           {
            "colorbar": {
             "outlinewidth": 0,
             "ticks": ""
            },
            "colorscale": [
             [
              0,
              "#0d0887"
             ],
             [
              0.1111111111111111,
              "#46039f"
             ],
             [
              0.2222222222222222,
              "#7201a8"
             ],
             [
              0.3333333333333333,
              "#9c179e"
             ],
             [
              0.4444444444444444,
              "#bd3786"
             ],
             [
              0.5555555555555556,
              "#d8576b"
             ],
             [
              0.6666666666666666,
              "#ed7953"
             ],
             [
              0.7777777777777778,
              "#fb9f3a"
             ],
             [
              0.8888888888888888,
              "#fdca26"
             ],
             [
              1,
              "#f0f921"
             ]
            ],
            "type": "heatmap"
           }
          ],
          "histogram": [
           {
            "marker": {
             "pattern": {
              "fillmode": "overlay",
              "size": 10,
              "solidity": 0.2
             }
            },
            "type": "histogram"
           }
          ],
          "histogram2d": [
           {
            "colorbar": {
             "outlinewidth": 0,
             "ticks": ""
            },
            "colorscale": [
             [
              0,
              "#0d0887"
             ],
             [
              0.1111111111111111,
              "#46039f"
             ],
             [
              0.2222222222222222,
              "#7201a8"
             ],
             [
              0.3333333333333333,
              "#9c179e"
             ],
             [
              0.4444444444444444,
              "#bd3786"
             ],
             [
              0.5555555555555556,
              "#d8576b"
             ],
             [
              0.6666666666666666,
              "#ed7953"
             ],
             [
              0.7777777777777778,
              "#fb9f3a"
             ],
             [
              0.8888888888888888,
              "#fdca26"
             ],
             [
              1,
              "#f0f921"
             ]
            ],
            "type": "histogram2d"
           }
          ],
          "histogram2dcontour": [
           {
            "colorbar": {
             "outlinewidth": 0,
             "ticks": ""
            },
            "colorscale": [
             [
              0,
              "#0d0887"
             ],
             [
              0.1111111111111111,
              "#46039f"
             ],
             [
              0.2222222222222222,
              "#7201a8"
             ],
             [
              0.3333333333333333,
              "#9c179e"
             ],
             [
              0.4444444444444444,
              "#bd3786"
             ],
             [
              0.5555555555555556,
              "#d8576b"
             ],
             [
              0.6666666666666666,
              "#ed7953"
             ],
             [
              0.7777777777777778,
              "#fb9f3a"
             ],
             [
              0.8888888888888888,
              "#fdca26"
             ],
             [
              1,
              "#f0f921"
             ]
            ],
            "type": "histogram2dcontour"
           }
          ],
          "mesh3d": [
           {
            "colorbar": {
             "outlinewidth": 0,
             "ticks": ""
            },
            "type": "mesh3d"
           }
          ],
          "parcoords": [
           {
            "line": {
             "colorbar": {
              "outlinewidth": 0,
              "ticks": ""
             }
            },
            "type": "parcoords"
           }
          ],
          "pie": [
           {
            "automargin": true,
            "type": "pie"
           }
          ],
          "scatter": [
           {
            "fillpattern": {
             "fillmode": "overlay",
             "size": 10,
             "solidity": 0.2
            },
            "type": "scatter"
           }
          ],
          "scatter3d": [
           {
            "line": {
             "colorbar": {
              "outlinewidth": 0,
              "ticks": ""
             }
            },
            "marker": {
             "colorbar": {
              "outlinewidth": 0,
              "ticks": ""
             }
            },
            "type": "scatter3d"
           }
          ],
          "scattercarpet": [
           {
            "marker": {
             "colorbar": {
              "outlinewidth": 0,
              "ticks": ""
             }
            },
            "type": "scattercarpet"
           }
          ],
          "scattergeo": [
           {
            "marker": {
             "colorbar": {
              "outlinewidth": 0,
              "ticks": ""
             }
            },
            "type": "scattergeo"
           }
          ],
          "scattergl": [
           {
            "marker": {
             "colorbar": {
              "outlinewidth": 0,
              "ticks": ""
             }
            },
            "type": "scattergl"
           }
          ],
          "scattermap": [
           {
            "marker": {
             "colorbar": {
              "outlinewidth": 0,
              "ticks": ""
             }
            },
            "type": "scattermap"
           }
          ],
          "scattermapbox": [
           {
            "marker": {
             "colorbar": {
              "outlinewidth": 0,
              "ticks": ""
             }
            },
            "type": "scattermapbox"
           }
          ],
          "scatterpolar": [
           {
            "marker": {
             "colorbar": {
              "outlinewidth": 0,
              "ticks": ""
             }
            },
            "type": "scatterpolar"
           }
          ],
          "scatterpolargl": [
           {
            "marker": {
             "colorbar": {
              "outlinewidth": 0,
              "ticks": ""
             }
            },
            "type": "scatterpolargl"
           }
          ],
          "scatterternary": [
           {
            "marker": {
             "colorbar": {
              "outlinewidth": 0,
              "ticks": ""
             }
            },
            "type": "scatterternary"
           }
          ],
          "surface": [
           {
            "colorbar": {
             "outlinewidth": 0,
             "ticks": ""
            },
            "colorscale": [
             [
              0,
              "#0d0887"
             ],
             [
              0.1111111111111111,
              "#46039f"
             ],
             [
              0.2222222222222222,
              "#7201a8"
             ],
             [
              0.3333333333333333,
              "#9c179e"
             ],
             [
              0.4444444444444444,
              "#bd3786"
             ],
             [
              0.5555555555555556,
              "#d8576b"
             ],
             [
              0.6666666666666666,
              "#ed7953"
             ],
             [
              0.7777777777777778,
              "#fb9f3a"
             ],
             [
              0.8888888888888888,
              "#fdca26"
             ],
             [
              1,
              "#f0f921"
             ]
            ],
            "type": "surface"
           }
          ],
          "table": [
           {
            "cells": {
             "fill": {
              "color": "#EBF0F8"
             },
             "line": {
              "color": "white"
             }
            },
            "header": {
             "fill": {
              "color": "#C8D4E3"
             },
             "line": {
              "color": "white"
             }
            },
            "type": "table"
           }
          ]
         },
         "layout": {
          "annotationdefaults": {
           "arrowcolor": "#2a3f5f",
           "arrowhead": 0,
           "arrowwidth": 1
          },
          "autotypenumbers": "strict",
          "coloraxis": {
           "colorbar": {
            "outlinewidth": 0,
            "ticks": ""
           }
          },
          "colorscale": {
           "diverging": [
            [
             0,
             "#8e0152"
            ],
            [
             0.1,
             "#c51b7d"
            ],
            [
             0.2,
             "#de77ae"
            ],
            [
             0.3,
             "#f1b6da"
            ],
            [
             0.4,
             "#fde0ef"
            ],
            [
             0.5,
             "#f7f7f7"
            ],
            [
             0.6,
             "#e6f5d0"
            ],
            [
             0.7,
             "#b8e186"
            ],
            [
             0.8,
             "#7fbc41"
            ],
            [
             0.9,
             "#4d9221"
            ],
            [
             1,
             "#276419"
            ]
           ],
           "sequential": [
            [
             0,
             "#0d0887"
            ],
            [
             0.1111111111111111,
             "#46039f"
            ],
            [
             0.2222222222222222,
             "#7201a8"
            ],
            [
             0.3333333333333333,
             "#9c179e"
            ],
            [
             0.4444444444444444,
             "#bd3786"
            ],
            [
             0.5555555555555556,
             "#d8576b"
            ],
            [
             0.6666666666666666,
             "#ed7953"
            ],
            [
             0.7777777777777778,
             "#fb9f3a"
            ],
            [
             0.8888888888888888,
             "#fdca26"
            ],
            [
             1,
             "#f0f921"
            ]
           ],
           "sequentialminus": [
            [
             0,
             "#0d0887"
            ],
            [
             0.1111111111111111,
             "#46039f"
            ],
            [
             0.2222222222222222,
             "#7201a8"
            ],
            [
             0.3333333333333333,
             "#9c179e"
            ],
            [
             0.4444444444444444,
             "#bd3786"
            ],
            [
             0.5555555555555556,
             "#d8576b"
            ],
            [
             0.6666666666666666,
             "#ed7953"
            ],
            [
             0.7777777777777778,
             "#fb9f3a"
            ],
            [
             0.8888888888888888,
             "#fdca26"
            ],
            [
             1,
             "#f0f921"
            ]
           ]
          },
          "colorway": [
           "#636efa",
           "#EF553B",
           "#00cc96",
           "#ab63fa",
           "#FFA15A",
           "#19d3f3",
           "#FF6692",
           "#B6E880",
           "#FF97FF",
           "#FECB52"
          ],
          "font": {
           "color": "#2a3f5f"
          },
          "geo": {
           "bgcolor": "white",
           "lakecolor": "white",
           "landcolor": "#E5ECF6",
           "showlakes": true,
           "showland": true,
           "subunitcolor": "white"
          },
          "hoverlabel": {
           "align": "left"
          },
          "hovermode": "closest",
          "mapbox": {
           "style": "light"
          },
          "paper_bgcolor": "white",
          "plot_bgcolor": "#E5ECF6",
          "polar": {
           "angularaxis": {
            "gridcolor": "white",
            "linecolor": "white",
            "ticks": ""
           },
           "bgcolor": "#E5ECF6",
           "radialaxis": {
            "gridcolor": "white",
            "linecolor": "white",
            "ticks": ""
           }
          },
          "scene": {
           "xaxis": {
            "backgroundcolor": "#E5ECF6",
            "gridcolor": "white",
            "gridwidth": 2,
            "linecolor": "white",
            "showbackground": true,
            "ticks": "",
            "zerolinecolor": "white"
           },
           "yaxis": {
            "backgroundcolor": "#E5ECF6",
            "gridcolor": "white",
            "gridwidth": 2,
            "linecolor": "white",
            "showbackground": true,
            "ticks": "",
            "zerolinecolor": "white"
           },
           "zaxis": {
            "backgroundcolor": "#E5ECF6",
            "gridcolor": "white",
            "gridwidth": 2,
            "linecolor": "white",
            "showbackground": true,
            "ticks": "",
            "zerolinecolor": "white"
           }
          },
          "shapedefaults": {
           "line": {
            "color": "#2a3f5f"
           }
          },
          "ternary": {
           "aaxis": {
            "gridcolor": "white",
            "linecolor": "white",
            "ticks": ""
           },
           "baxis": {
            "gridcolor": "white",
            "linecolor": "white",
            "ticks": ""
           },
           "bgcolor": "#E5ECF6",
           "caxis": {
            "gridcolor": "white",
            "linecolor": "white",
            "ticks": ""
           }
          },
          "title": {
           "x": 0.05
          },
          "xaxis": {
           "automargin": true,
           "gridcolor": "white",
           "linecolor": "white",
           "ticks": "",
           "title": {
            "standoff": 15
           },
           "zerolinecolor": "white",
           "zerolinewidth": 2
          },
          "yaxis": {
           "automargin": true,
           "gridcolor": "white",
           "linecolor": "white",
           "ticks": "",
           "title": {
            "standoff": 15
           },
           "zerolinecolor": "white",
           "zerolinewidth": 2
          }
         }
        },
        "title": {
         "text": "Avg Temperature vs. Total Cheese Produced\n(Bubble size = # of Types, Color = Moisture %)"
        },
        "xaxis": {
         "anchor": "y",
         "domain": [
          0,
          1
         ],
         "title": {
          "text": "Average Temperature (°C)"
         }
        },
        "yaxis": {
         "anchor": "x",
         "domain": [
          0,
          1
         ],
         "title": {
          "text": "Total Cheese Produced"
         }
        }
       }
      }
     },
     "metadata": {},
     "output_type": "display_data"
    }
   ],
   "source": [
    "# Creating the first visualization: Scatter Plot\n",
    "\n",
    "fig1 = px.scatter(\n",
    "    combined_df,\n",
    "    x='Avg Celsius',\n",
    "    y='Total_Cheese_Produced',\n",
    "    size='Num_Cheese_Types',\n",
    "    color='Moisture Percent',\n",
    "    hover_name='Province',\n",
    "    title='Avg Temperature vs. Total Cheese Produced\\n(Bubble size = # of Types, Color = Moisture %)',\n",
    "    labels={\n",
    "        'Avg Celsius': 'Average Temperature (°C)',\n",
    "        'Total_Cheese_Produced': 'Total Cheese Produced',\n",
    "        'Num_Cheese_Types': '# of Cheese Types',\n",
    "        'Moisture Percent': 'Avg Moisture %'\n",
    "    }\n",
    ")\n",
    "fig1.show()"
   ]
  },
  {
   "cell_type": "code",
   "execution_count": null,
   "id": "44edcd9b",
   "metadata": {},
   "outputs": [],
   "source": [
    "## Visualization 2: Cheese Category Distribution by Province\n",
    "\n",
    "#This stacked bar chart analyzes the distribution of the different cheese categories across the Provinces.  \n",
    "#The provinces are sorted by the total cheese production volume.  \n",
    "\n",
    "#This allows for assessing if any provinces are specialized in certain cheese types or produce a wider variety."
   ]
  },
  {
   "cell_type": "code",
   "execution_count": 14,
   "id": "e3e4edeb",
   "metadata": {},
   "outputs": [
    {
     "data": {
      "application/vnd.plotly.v1+json": {
       "config": {
        "plotlyServerURL": "https://plot.ly"
       },
       "data": [
        {
         "hovertemplate": "Cheese Category=Firm Cheese<br>Province=%{x}<br>Count of Cheeses=%{y}<extra></extra>",
         "legendgroup": "Firm Cheese",
         "marker": {
          "color": "#636efa",
          "pattern": {
           "shape": ""
          }
         },
         "name": "Firm Cheese",
         "orientation": "v",
         "showlegend": true,
         "textposition": "auto",
         "type": "bar",
         "x": [
          "AB",
          "BC",
          "MB",
          "NB",
          "NL",
          "NS",
          "ON",
          "PE",
          "QC",
          "SK"
         ],
         "xaxis": "x",
         "y": {
          "bdata": "BQAcAAcAAwABAAIAGwACABIBAAA=",
          "dtype": "i2"
         },
         "yaxis": "y"
        },
        {
         "hovertemplate": "Cheese Category=Fresh Cheese<br>Province=%{x}<br>Count of Cheeses=%{y}<extra></extra>",
         "legendgroup": "Fresh Cheese",
         "marker": {
          "color": "#EF553B",
          "pattern": {
           "shape": ""
          }
         },
         "name": "Fresh Cheese",
         "orientation": "v",
         "showlegend": true,
         "textposition": "auto",
         "type": "bar",
         "x": [
          "AB",
          "BC",
          "MB",
          "NB",
          "NL",
          "NS",
          "ON",
          "PE",
          "QC",
          "SK"
         ],
         "xaxis": "x",
         "y": {
          "bdata": "AwIABgAAFwBVAA==",
          "dtype": "i1"
         },
         "yaxis": "y"
        },
        {
         "hovertemplate": "Cheese Category=Hard Cheese<br>Province=%{x}<br>Count of Cheeses=%{y}<extra></extra>",
         "legendgroup": "Hard Cheese",
         "marker": {
          "color": "#00cc96",
          "pattern": {
           "shape": ""
          }
         },
         "name": "Hard Cheese",
         "orientation": "v",
         "showlegend": true,
         "textposition": "auto",
         "type": "bar",
         "x": [
          "AB",
          "BC",
          "MB",
          "NB",
          "NL",
          "NS",
          "ON",
          "PE",
          "QC",
          "SK"
         ],
         "xaxis": "x",
         "y": {
          "bdata": "AAgAAAABDQAKAA==",
          "dtype": "i1"
         },
         "yaxis": "y"
        },
        {
         "hovertemplate": "Cheese Category=Semi-soft Cheese<br>Province=%{x}<br>Count of Cheeses=%{y}<extra></extra>",
         "legendgroup": "Semi-soft Cheese",
         "marker": {
          "color": "#ab63fa",
          "pattern": {
           "shape": ""
          }
         },
         "name": "Semi-soft Cheese",
         "orientation": "v",
         "showlegend": true,
         "textposition": "auto",
         "type": "bar",
         "x": [
          "AB",
          "BC",
          "MB",
          "NB",
          "NL",
          "NS",
          "ON",
          "PE",
          "QC",
          "SK"
         ],
         "xaxis": "x",
         "y": {
          "bdata": "AgAHAAMABwAAAAQAHAAAALAAAAA=",
          "dtype": "i2"
         },
         "yaxis": "y"
        },
        {
         "hovertemplate": "Cheese Category=Soft Cheese<br>Province=%{x}<br>Count of Cheeses=%{y}<extra></extra>",
         "legendgroup": "Soft Cheese",
         "marker": {
          "color": "#FFA15A",
          "pattern": {
           "shape": ""
          }
         },
         "name": "Soft Cheese",
         "orientation": "v",
         "showlegend": true,
         "textposition": "auto",
         "type": "bar",
         "x": [
          "AB",
          "BC",
          "MB",
          "NB",
          "NL",
          "NS",
          "ON",
          "PE",
          "QC",
          "SK"
         ],
         "xaxis": "x",
         "y": {
          "bdata": "AAAPAAAACgAAAAEAEAAAAOAAAQA=",
          "dtype": "i2"
         },
         "yaxis": "y"
        },
        {
         "hovertemplate": "Cheese Category=Veined Cheeses<br>Province=%{x}<br>Count of Cheeses=%{y}<extra></extra>",
         "legendgroup": "Veined Cheeses",
         "marker": {
          "color": "#19d3f3",
          "pattern": {
           "shape": ""
          }
         },
         "name": "Veined Cheeses",
         "orientation": "v",
         "showlegend": true,
         "textposition": "auto",
         "type": "bar",
         "x": [
          "AB",
          "BC",
          "MB",
          "NB",
          "NL",
          "NS",
          "ON",
          "PE",
          "QC",
          "SK"
         ],
         "xaxis": "x",
         "y": {
          "bdata": "AAUAAQABAgAQAA==",
          "dtype": "i1"
         },
         "yaxis": "y"
        },
        {
         "hovertemplate": "Cheese Category=Other<br>Province=%{x}<br>Count of Cheeses=%{y}<extra></extra>",
         "legendgroup": "Other",
         "marker": {
          "color": "#FF6692",
          "pattern": {
           "shape": ""
          }
         },
         "name": "Other",
         "orientation": "v",
         "showlegend": true,
         "textposition": "auto",
         "type": "bar",
         "x": [
          "AB",
          "BC",
          "MB",
          "NB",
          "NL",
          "NS",
          "ON",
          "PE",
          "QC",
          "SK"
         ],
         "xaxis": "x",
         "y": {
          "bdata": "AwABAAEBBgALAA==",
          "dtype": "i1"
         },
         "yaxis": "y"
        }
       ],
       "layout": {
        "barmode": "stack",
        "legend": {
         "title": {
          "text": "Cheese Category"
         },
         "tracegroupgap": 0
        },
        "template": {
         "data": {
          "bar": [
           {
            "error_x": {
             "color": "#2a3f5f"
            },
            "error_y": {
             "color": "#2a3f5f"
            },
            "marker": {
             "line": {
              "color": "#E5ECF6",
              "width": 0.5
             },
             "pattern": {
              "fillmode": "overlay",
              "size": 10,
              "solidity": 0.2
             }
            },
            "type": "bar"
           }
          ],
          "barpolar": [
           {
            "marker": {
             "line": {
              "color": "#E5ECF6",
              "width": 0.5
             },
             "pattern": {
              "fillmode": "overlay",
              "size": 10,
              "solidity": 0.2
             }
            },
            "type": "barpolar"
           }
          ],
          "carpet": [
           {
            "aaxis": {
             "endlinecolor": "#2a3f5f",
             "gridcolor": "white",
             "linecolor": "white",
             "minorgridcolor": "white",
             "startlinecolor": "#2a3f5f"
            },
            "baxis": {
             "endlinecolor": "#2a3f5f",
             "gridcolor": "white",
             "linecolor": "white",
             "minorgridcolor": "white",
             "startlinecolor": "#2a3f5f"
            },
            "type": "carpet"
           }
          ],
          "choropleth": [
           {
            "colorbar": {
             "outlinewidth": 0,
             "ticks": ""
            },
            "type": "choropleth"
           }
          ],
          "contour": [
           {
            "colorbar": {
             "outlinewidth": 0,
             "ticks": ""
            },
            "colorscale": [
             [
              0,
              "#0d0887"
             ],
             [
              0.1111111111111111,
              "#46039f"
             ],
             [
              0.2222222222222222,
              "#7201a8"
             ],
             [
              0.3333333333333333,
              "#9c179e"
             ],
             [
              0.4444444444444444,
              "#bd3786"
             ],
             [
              0.5555555555555556,
              "#d8576b"
             ],
             [
              0.6666666666666666,
              "#ed7953"
             ],
             [
              0.7777777777777778,
              "#fb9f3a"
             ],
             [
              0.8888888888888888,
              "#fdca26"
             ],
             [
              1,
              "#f0f921"
             ]
            ],
            "type": "contour"
           }
          ],
          "contourcarpet": [
           {
            "colorbar": {
             "outlinewidth": 0,
             "ticks": ""
            },
            "type": "contourcarpet"
           }
          ],
          "heatmap": [
           {
            "colorbar": {
             "outlinewidth": 0,
             "ticks": ""
            },
            "colorscale": [
             [
              0,
              "#0d0887"
             ],
             [
              0.1111111111111111,
              "#46039f"
             ],
             [
              0.2222222222222222,
              "#7201a8"
             ],
             [
              0.3333333333333333,
              "#9c179e"
             ],
             [
              0.4444444444444444,
              "#bd3786"
             ],
             [
              0.5555555555555556,
              "#d8576b"
             ],
             [
              0.6666666666666666,
              "#ed7953"
             ],
             [
              0.7777777777777778,
              "#fb9f3a"
             ],
             [
              0.8888888888888888,
              "#fdca26"
             ],
             [
              1,
              "#f0f921"
             ]
            ],
            "type": "heatmap"
           }
          ],
          "histogram": [
           {
            "marker": {
             "pattern": {
              "fillmode": "overlay",
              "size": 10,
              "solidity": 0.2
             }
            },
            "type": "histogram"
           }
          ],
          "histogram2d": [
           {
            "colorbar": {
             "outlinewidth": 0,
             "ticks": ""
            },
            "colorscale": [
             [
              0,
              "#0d0887"
             ],
             [
              0.1111111111111111,
              "#46039f"
             ],
             [
              0.2222222222222222,
              "#7201a8"
             ],
             [
              0.3333333333333333,
              "#9c179e"
             ],
             [
              0.4444444444444444,
              "#bd3786"
             ],
             [
              0.5555555555555556,
              "#d8576b"
             ],
             [
              0.6666666666666666,
              "#ed7953"
             ],
             [
              0.7777777777777778,
              "#fb9f3a"
             ],
             [
              0.8888888888888888,
              "#fdca26"
             ],
             [
              1,
              "#f0f921"
             ]
            ],
            "type": "histogram2d"
           }
          ],
          "histogram2dcontour": [
           {
            "colorbar": {
             "outlinewidth": 0,
             "ticks": ""
            },
            "colorscale": [
             [
              0,
              "#0d0887"
             ],
             [
              0.1111111111111111,
              "#46039f"
             ],
             [
              0.2222222222222222,
              "#7201a8"
             ],
             [
              0.3333333333333333,
              "#9c179e"
             ],
             [
              0.4444444444444444,
              "#bd3786"
             ],
             [
              0.5555555555555556,
              "#d8576b"
             ],
             [
              0.6666666666666666,
              "#ed7953"
             ],
             [
              0.7777777777777778,
              "#fb9f3a"
             ],
             [
              0.8888888888888888,
              "#fdca26"
             ],
             [
              1,
              "#f0f921"
             ]
            ],
            "type": "histogram2dcontour"
           }
          ],
          "mesh3d": [
           {
            "colorbar": {
             "outlinewidth": 0,
             "ticks": ""
            },
            "type": "mesh3d"
           }
          ],
          "parcoords": [
           {
            "line": {
             "colorbar": {
              "outlinewidth": 0,
              "ticks": ""
             }
            },
            "type": "parcoords"
           }
          ],
          "pie": [
           {
            "automargin": true,
            "type": "pie"
           }
          ],
          "scatter": [
           {
            "fillpattern": {
             "fillmode": "overlay",
             "size": 10,
             "solidity": 0.2
            },
            "type": "scatter"
           }
          ],
          "scatter3d": [
           {
            "line": {
             "colorbar": {
              "outlinewidth": 0,
              "ticks": ""
             }
            },
            "marker": {
             "colorbar": {
              "outlinewidth": 0,
              "ticks": ""
             }
            },
            "type": "scatter3d"
           }
          ],
          "scattercarpet": [
           {
            "marker": {
             "colorbar": {
              "outlinewidth": 0,
              "ticks": ""
             }
            },
            "type": "scattercarpet"
           }
          ],
          "scattergeo": [
           {
            "marker": {
             "colorbar": {
              "outlinewidth": 0,
              "ticks": ""
             }
            },
            "type": "scattergeo"
           }
          ],
          "scattergl": [
           {
            "marker": {
             "colorbar": {
              "outlinewidth": 0,
              "ticks": ""
             }
            },
            "type": "scattergl"
           }
          ],
          "scattermap": [
           {
            "marker": {
             "colorbar": {
              "outlinewidth": 0,
              "ticks": ""
             }
            },
            "type": "scattermap"
           }
          ],
          "scattermapbox": [
           {
            "marker": {
             "colorbar": {
              "outlinewidth": 0,
              "ticks": ""
             }
            },
            "type": "scattermapbox"
           }
          ],
          "scatterpolar": [
           {
            "marker": {
             "colorbar": {
              "outlinewidth": 0,
              "ticks": ""
             }
            },
            "type": "scatterpolar"
           }
          ],
          "scatterpolargl": [
           {
            "marker": {
             "colorbar": {
              "outlinewidth": 0,
              "ticks": ""
             }
            },
            "type": "scatterpolargl"
           }
          ],
          "scatterternary": [
           {
            "marker": {
             "colorbar": {
              "outlinewidth": 0,
              "ticks": ""
             }
            },
            "type": "scatterternary"
           }
          ],
          "surface": [
           {
            "colorbar": {
             "outlinewidth": 0,
             "ticks": ""
            },
            "colorscale": [
             [
              0,
              "#0d0887"
             ],
             [
              0.1111111111111111,
              "#46039f"
             ],
             [
              0.2222222222222222,
              "#7201a8"
             ],
             [
              0.3333333333333333,
              "#9c179e"
             ],
             [
              0.4444444444444444,
              "#bd3786"
             ],
             [
              0.5555555555555556,
              "#d8576b"
             ],
             [
              0.6666666666666666,
              "#ed7953"
             ],
             [
              0.7777777777777778,
              "#fb9f3a"
             ],
             [
              0.8888888888888888,
              "#fdca26"
             ],
             [
              1,
              "#f0f921"
             ]
            ],
            "type": "surface"
           }
          ],
          "table": [
           {
            "cells": {
             "fill": {
              "color": "#EBF0F8"
             },
             "line": {
              "color": "white"
             }
            },
            "header": {
             "fill": {
              "color": "#C8D4E3"
             },
             "line": {
              "color": "white"
             }
            },
            "type": "table"
           }
          ]
         },
         "layout": {
          "annotationdefaults": {
           "arrowcolor": "#2a3f5f",
           "arrowhead": 0,
           "arrowwidth": 1
          },
          "autotypenumbers": "strict",
          "coloraxis": {
           "colorbar": {
            "outlinewidth": 0,
            "ticks": ""
           }
          },
          "colorscale": {
           "diverging": [
            [
             0,
             "#8e0152"
            ],
            [
             0.1,
             "#c51b7d"
            ],
            [
             0.2,
             "#de77ae"
            ],
            [
             0.3,
             "#f1b6da"
            ],
            [
             0.4,
             "#fde0ef"
            ],
            [
             0.5,
             "#f7f7f7"
            ],
            [
             0.6,
             "#e6f5d0"
            ],
            [
             0.7,
             "#b8e186"
            ],
            [
             0.8,
             "#7fbc41"
            ],
            [
             0.9,
             "#4d9221"
            ],
            [
             1,
             "#276419"
            ]
           ],
           "sequential": [
            [
             0,
             "#0d0887"
            ],
            [
             0.1111111111111111,
             "#46039f"
            ],
            [
             0.2222222222222222,
             "#7201a8"
            ],
            [
             0.3333333333333333,
             "#9c179e"
            ],
            [
             0.4444444444444444,
             "#bd3786"
            ],
            [
             0.5555555555555556,
             "#d8576b"
            ],
            [
             0.6666666666666666,
             "#ed7953"
            ],
            [
             0.7777777777777778,
             "#fb9f3a"
            ],
            [
             0.8888888888888888,
             "#fdca26"
            ],
            [
             1,
             "#f0f921"
            ]
           ],
           "sequentialminus": [
            [
             0,
             "#0d0887"
            ],
            [
             0.1111111111111111,
             "#46039f"
            ],
            [
             0.2222222222222222,
             "#7201a8"
            ],
            [
             0.3333333333333333,
             "#9c179e"
            ],
            [
             0.4444444444444444,
             "#bd3786"
            ],
            [
             0.5555555555555556,
             "#d8576b"
            ],
            [
             0.6666666666666666,
             "#ed7953"
            ],
            [
             0.7777777777777778,
             "#fb9f3a"
            ],
            [
             0.8888888888888888,
             "#fdca26"
            ],
            [
             1,
             "#f0f921"
            ]
           ]
          },
          "colorway": [
           "#636efa",
           "#EF553B",
           "#00cc96",
           "#ab63fa",
           "#FFA15A",
           "#19d3f3",
           "#FF6692",
           "#B6E880",
           "#FF97FF",
           "#FECB52"
          ],
          "font": {
           "color": "#2a3f5f"
          },
          "geo": {
           "bgcolor": "white",
           "lakecolor": "white",
           "landcolor": "#E5ECF6",
           "showlakes": true,
           "showland": true,
           "subunitcolor": "white"
          },
          "hoverlabel": {
           "align": "left"
          },
          "hovermode": "closest",
          "mapbox": {
           "style": "light"
          },
          "paper_bgcolor": "white",
          "plot_bgcolor": "#E5ECF6",
          "polar": {
           "angularaxis": {
            "gridcolor": "white",
            "linecolor": "white",
            "ticks": ""
           },
           "bgcolor": "#E5ECF6",
           "radialaxis": {
            "gridcolor": "white",
            "linecolor": "white",
            "ticks": ""
           }
          },
          "scene": {
           "xaxis": {
            "backgroundcolor": "#E5ECF6",
            "gridcolor": "white",
            "gridwidth": 2,
            "linecolor": "white",
            "showbackground": true,
            "ticks": "",
            "zerolinecolor": "white"
           },
           "yaxis": {
            "backgroundcolor": "#E5ECF6",
            "gridcolor": "white",
            "gridwidth": 2,
            "linecolor": "white",
            "showbackground": true,
            "ticks": "",
            "zerolinecolor": "white"
           },
           "zaxis": {
            "backgroundcolor": "#E5ECF6",
            "gridcolor": "white",
            "gridwidth": 2,
            "linecolor": "white",
            "showbackground": true,
            "ticks": "",
            "zerolinecolor": "white"
           }
          },
          "shapedefaults": {
           "line": {
            "color": "#2a3f5f"
           }
          },
          "ternary": {
           "aaxis": {
            "gridcolor": "white",
            "linecolor": "white",
            "ticks": ""
           },
           "baxis": {
            "gridcolor": "white",
            "linecolor": "white",
            "ticks": ""
           },
           "bgcolor": "#E5ECF6",
           "caxis": {
            "gridcolor": "white",
            "linecolor": "white",
            "ticks": ""
           }
          },
          "title": {
           "x": 0.05
          },
          "xaxis": {
           "automargin": true,
           "gridcolor": "white",
           "linecolor": "white",
           "ticks": "",
           "title": {
            "standoff": 15
           },
           "zerolinecolor": "white",
           "zerolinewidth": 2
          },
          "yaxis": {
           "automargin": true,
           "gridcolor": "white",
           "linecolor": "white",
           "ticks": "",
           "title": {
            "standoff": 15
           },
           "zerolinecolor": "white",
           "zerolinewidth": 2
          }
         }
        },
        "title": {
         "text": "Cheese Category Composition by Province"
        },
        "xaxis": {
         "anchor": "y",
         "categoryarray": [
          "QC",
          "ON",
          "BC",
          "NB",
          "AB",
          "MB",
          "NS",
          "NL",
          "PE",
          "SK"
         ],
         "categoryorder": "array",
         "domain": [
          0,
          1
         ],
         "title": {
          "text": "Province"
         }
        },
        "yaxis": {
         "anchor": "x",
         "domain": [
          0,
          1
         ],
         "title": {
          "text": "Count of Cheeses"
         }
        }
       }
      }
     },
     "metadata": {},
     "output_type": "display_data"
    }
   ],
   "source": [
    "# Creating the second visualization: Stacked Bar Graph\n",
    "type_cols = [c for c in combined_df.columns \n",
    "             if c not in [\n",
    "                 'Province','Moisture Percent','Organic',\n",
    "                 'Num_Cheese_Types','Total_Cheese_Produced',\n",
    "                 'High_Celsius','High_Farenheit','Low_Celsius',\n",
    "                 'Low_Farenheit','Avg Celsius','Avg Farenheit'\n",
    "             ]]\n",
    "\n",
    "fig2 = px.bar(\n",
    "    combined_df,\n",
    "    x='Province',\n",
    "    y=type_cols,\n",
    "    title='Cheese Category Composition by Province',\n",
    "    labels={'value':'Count of Cheeses', 'variable':'Cheese Category'},\n",
    "    barmode='stack'\n",
    ")\n",
    "fig2.update_layout(\n",
    "    xaxis={'categoryorder':'array',\n",
    "           'categoryarray': combined_df\n",
    "               .sort_values('Total_Cheese_Produced', ascending=False)\n",
    "               ['Province'].tolist()}\n",
    ")\n",
    "fig2.show()"
   ]
  },
  {
   "cell_type": "code",
   "execution_count": null,
   "id": "d59f20d8",
   "metadata": {},
   "outputs": [],
   "source": [
    "# Key Inferences: \n",
    "\n",
    "# 1. Temperate Provinces Achieve High Output and Diversity**  \n",
    "#    The scatter plot indicates that provinces with **moderate average temperatures (4–7°C)**, like **Quebec** and **Ontario**, not only exhibit both **high total cheese production** and **a wide range and diversity of cheese types.** They are not just producing volume, they are also producing a mash-up of all the types such as soft cheese, semi-soft cheese, and firm cheese, etc.   \n",
    "#    ➤ *This indicates, or at least implies, that temperate climates can provide the most complete year round building blocks for the dairy farm/ operation with a value add of cheese as the final concept.*  \n",
    "\n",
    "# 2. Cheese Diversity Grows with Total Output**  \n",
    "#    The bubble chart indicates that the provinces producing more cheese will offer a **greater deal of a diversity of unique categories.** The example of Quebec producing totals of over 700 total entries, with this aggregate number higher than the next two provinces combined in both uniqueness and completely organic paradigm.  \n",
    "#    ➤ *This suggests that once you have built the base production systems as a province, you could pivot or linear expand into other artisanal or specialty niches from a foundational production infrastructure.*  \n",
    "\n",
    "# 3. Clear Regional Strengths in Cheese Profiles**  \n",
    "#    The stacked bar chart can show the **unique cheese profiles by province.** Quebec shows a charm of balanced production of soft, semi-soft, and firm cheese. Ontario is building strength especially in firmness and fresh cheese. One outlier would be British Columbia who has a strong showing of soft cheese.  \n",
    "#    ➤ *This heterogeneity indicates that demands of climate, customers, and tradition defined unique cheese selections by region.*\n",
    "\n",
    "# 3. Clear Regional Strengths in Cheese Profiles**  \n",
    "#    The stacked bar chart illustrates **patterns of cheese profile uniqueness by province**. Quebec produces a balanced proportion of soft, semi-soft, and hard. Ontario shows strength in firm and fresh cheeses, while BC also capitalizes on having one of the highest amounts of soft cheeses.  \n",
    "#    ➤ *This variation across regions indicates that climate, consumer environmental demand, and traditions act in synergy to develop cheese specialization.*\n",
    "\n",
    "# 4. Moisture Content Is Style-Driven Not Climate-Driven**  \n",
    "#    While we are dealing with significantly different climates there is not a direct relationship between the average monthly temperature and **cheese moisture percent**. For example, the average moisture percent in New Brunswick was quite similar to the moisture percent in Ontario which was at extreme opposite environments.  \n",
    "#    ➤ *This demonstrates that moisture is influenced more by cheese-making process (i.e., fresh vs aged cheese) than ambient weather conditions.*\n",
    "\n",
    "# 5. Quebec Leads in Organic Production — A model for Scaled Artisanal Output**  \n",
    "#    Quebec claimed **over 70% of all organic cheeses**, proving that even province with strong market share of cheese can develop environmental sustainable practices at scale. This Leadership reinforces the province's overall market share and overwhelming variety of cheeses.  \n",
    "#    ➤ *This implies the potentially critical role of public supportive regional political initiatives, consumer environmental cognizance, and the establishment of market places to develop organic ecological systems.*\n",
    "\n",
    "### Summary of Key Relationships\n",
    "\n",
    "# | Insight                            | Evidence from Visualizations                                |\n",
    "# |------------------------------------|--------------------------------------------------------------|\n",
    "# | Moderate temps → high output       | Bubble chart shows Quebec/ON with high output at 4–7°C       |\n",
    "# | High output → more categories      | Bubble size and stacked bars correlate production & variety  |\n",
    "# | Cheese style ≠ climate             | Moisture levels consistent across diverse climates           |\n",
    "# | Quebec = organic & diverse leader | Stacked bars + category counts confirm breadth + organic     |"
   ]
  },
  {
   "cell_type": "code",
   "execution_count": 18,
   "id": "bad895f1",
   "metadata": {},
   "outputs": [],
   "source": [
    "# Exporting the final csv for the cheese + weather stats\n",
    "combined_df.to_csv(\"cleaned_cheese_weather_data.csv\", index=False)"
   ]
  }
 ],
 "metadata": {
  "kernelspec": {
   "display_name": "Python 3",
   "language": "python",
   "name": "python3"
  },
  "language_info": {
   "codemirror_mode": {
    "name": "ipython",
    "version": 3
   },
   "file_extension": ".py",
   "mimetype": "text/x-python",
   "name": "python",
   "nbconvert_exporter": "python",
   "pygments_lexer": "ipython3",
   "version": "3.13.1"
  }
 },
 "nbformat": 4,
 "nbformat_minor": 5
}

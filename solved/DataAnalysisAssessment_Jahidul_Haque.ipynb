{
 "cells": [
  {
   "cell_type": "markdown",
   "metadata": {
    "id": "Dh48H1oiHtUJ"
   },
   "source": [
    "**My Task** is to Create a jupyter notebook which will **analyzes the Canadian Cheese directory data set** cross referenced with temperature in the provinces.\n",
    "\n",
    "Furthermore, I have to answer:\n",
    "1. Whether there are any inferences I can make about the relationship between the weather in a province and the cheese produced or not.\n",
    "2. I have to Create two different data visualizations. These can be charts or whatever I would like.\n",
    "3. For Bonus points, I can provide demonstration of any sort of data pipeline or cleaning skills."
   ]
  },
  {
   "cell_type": "markdown",
   "metadata": {
    "id": "EuoOOAhdKjMe"
   },
   "source": [
    "# **Notebook Header & Introduction**"
   ]
  },
  {
   "cell_type": "code",
   "execution_count": 1,
   "metadata": {
    "id": "bSlCbnyzHfJf"
   },
   "outputs": [],
   "source": [
    "# Canadian Sheep Federation Internship Assessment – Data Analyst Role\n",
    "# Data Analysis: Canadian Cheese Directory vs. Provincial Weather\n",
    "# Author: B.M Jahidul Haque\n",
    "# Date: 7th June 2025\n",
    "# Tools: Python, Pandas, Matplotlib, Seaborn, Plotly\n",
    "#\n",
    "# Notebook Goals:\n",
    "# - Investigate the relationship between temperature and cheese production across Canadian provinces.\n",
    "# - Apply professional data analysis and visualization practices.\n",
    "# - Showcase skills in data cleaning, exploration, visualization, and inference.\n",
    "#\n",
    "# Data Sources:\n",
    "# - https://www.kaggle.com/datasets/noahjanes/canadian-cheese-directory\n",
    "# - https://www.kaggle.com/datasets/hemil26/canada-weather\n"
   ]
  },
  {
   "cell_type": "markdown",
   "metadata": {
    "id": "2TXENzq6Kuf6"
   },
   "source": [
    "# **Install & Import Essentials**"
   ]
  },
  {
   "cell_type": "code",
   "execution_count": 2,
   "metadata": {
    "id": "2_HFeHMeKmFo"
   },
   "outputs": [],
   "source": [
    "# Install visualization packages\n",
    "!pip install plotly --quiet\n",
    "\n",
    "# Core libraries\n",
    "import pandas as pd\n",
    "import numpy as np\n",
    "\n",
    "# Visualization\n",
    "import matplotlib.pyplot as plt\n",
    "import seaborn as sns\n",
    "import plotly.express as px\n",
    "\n",
    "# Configs\n",
    "sns.set(style=\"whitegrid\")\n",
    "plt.rcParams['figure.figsize'] = (12, 6)\n",
    "\n",
    "# General display settings\n",
    "pd.set_option('display.max_columns', None)\n",
    "pd.set_option('display.max_rows', 100)\n"
   ]
  },
  {
   "cell_type": "markdown",
   "metadata": {
    "id": "EJjMixX-K8Pj"
   },
   "source": [
    "# **Upload and Load Data**"
   ]
  },
  {
   "cell_type": "code",
   "execution_count": 3,
   "metadata": {
    "colab": {
     "base_uri": "https://localhost:8080/",
     "height": 108
    },
    "id": "FS6NA7c6KmCU",
    "outputId": "095de24b-08d5-44d1-d034-bb703228fec0"
   },
   "outputs": [
    {
     "ename": "ModuleNotFoundError",
     "evalue": "No module named 'google.colab'",
     "output_type": "error",
     "traceback": [
      "\u001b[1;31m---------------------------------------------------------------------------\u001b[0m",
      "\u001b[1;31mModuleNotFoundError\u001b[0m                       Traceback (most recent call last)",
      "Cell \u001b[1;32mIn[3], line 1\u001b[0m\n\u001b[1;32m----> 1\u001b[0m \u001b[38;5;28;01mfrom\u001b[39;00m \u001b[38;5;21;01mgoogle\u001b[39;00m\u001b[38;5;21;01m.\u001b[39;00m\u001b[38;5;21;01mcolab\u001b[39;00m \u001b[38;5;28;01mimport\u001b[39;00m files\n\u001b[0;32m      2\u001b[0m uploaded \u001b[38;5;241m=\u001b[39m files\u001b[38;5;241m.\u001b[39mupload()\n",
      "\u001b[1;31mModuleNotFoundError\u001b[0m: No module named 'google.colab'"
     ]
    }
   ],
   "source": [
    "from google.colab import files\n",
    "uploaded = files.upload()  # This allows multiple files as I have to upload multiple files"
   ]
  },
  {
   "cell_type": "code",
   "execution_count": null,
   "metadata": {
    "colab": {
     "base_uri": "https://localhost:8080/"
    },
    "id": "kkcySeIOKl_v",
    "outputId": "9c62b5ae-d5be-430b-c2a9-860f96fbb214"
   },
   "outputs": [],
   "source": [
    "# Load Cheese Data\n",
    "try:\n",
    "    cheese_df = pd.read_csv(\"cheese_data.csv\")\n",
    "    print(f\"Cheese dataset loaded: {cheese_df.shape[0]} rows, {cheese_df.shape[1]} columns.\")\n",
    "except Exception as e:\n",
    "    print(\"Error loading cheese dataset:\", e)\n",
    "\n",
    "# Load Weather Data\n",
    "try:\n",
    "    weather_df = pd.read_csv(\"canada_weather.csv\")\n",
    "    print(f\"Weather dataset loaded: {weather_df.shape[0]} rows, {weather_df.shape[1]} columns.\")\n",
    "except Exception as e:\n",
    "    print(\"Error loading weather dataset:\", e)\n"
   ]
  },
  {
   "cell_type": "markdown",
   "metadata": {
    "id": "1tcDuBloNM4H"
   },
   "source": [
    "# **Data Inspection & Cleaning**"
   ]
  },
  {
   "cell_type": "code",
   "execution_count": null,
   "metadata": {
    "colab": {
     "base_uri": "https://localhost:8080/",
     "height": 1000
    },
    "id": "255GmeQGKl9W",
    "outputId": "43eabb47-0211-401c-acd3-74f3e032a7db"
   },
   "outputs": [],
   "source": [
    "# Cheese Dataset Overview\n",
    "print(\"Cheese Dataset Preview:\")\n",
    "display(cheese_df.head())\n",
    "\n",
    "print(\"\\n Basic Info:\")\n",
    "cheese_df.info()\n",
    "\n",
    "print(\"\\n Missing Values:\")\n",
    "print(cheese_df.isnull().sum())\n",
    "\n",
    "print(\"\\n Unique values per column:\")\n",
    "print(cheese_df.nunique())\n"
   ]
  },
  {
   "cell_type": "code",
   "execution_count": null,
   "metadata": {
    "colab": {
     "base_uri": "https://localhost:8080/",
     "height": 1000
    },
    "id": "XGX2HV0kKl6x",
    "outputId": "36600e6f-d15d-452f-9c79-8743d4351108"
   },
   "outputs": [],
   "source": [
    "# Weather Dataset Overview\n",
    "print(\"Weather Dataset Preview:\")\n",
    "display(weather_df.head())\n",
    "\n",
    "print(\"\\n Basic Info:\")\n",
    "weather_df.info()\n",
    "\n",
    "print(\"\\n Missing Values:\")\n",
    "print(weather_df.isnull().sum())\n",
    "\n",
    "print(\"\\n Unique values per column:\")\n",
    "print(weather_df.nunique())\n"
   ]
  },
  {
   "cell_type": "markdown",
   "metadata": {
    "id": "RseWc8IqOAh_"
   },
   "source": [
    "# **Data Cleaning & Preparation**"
   ]
  },
  {
   "cell_type": "code",
   "execution_count": null,
   "metadata": {
    "id": "DSQdPB7tKl4V"
   },
   "outputs": [],
   "source": [
    "# I’ll focus on:\n",
    "# Renaming inconsistent columns\n",
    "# Dropping irrelevant data\n",
    "# Ensuring province names match\n",
    "# Handling missing values\n",
    "# Creating a clean, ready-to-analyze dataframe"
   ]
  },
  {
   "cell_type": "code",
   "execution_count": null,
   "metadata": {
    "colab": {
     "base_uri": "https://localhost:8080/"
    },
    "id": "pwzdlHOaPv4O",
    "outputId": "fa6b0af2-7e29-4945-aa7a-184c2c36cd42"
   },
   "outputs": [],
   "source": [
    "print(\" Current cheese_df columns:\")\n",
    "print(cheese_df.columns.tolist())\n"
   ]
  },
  {
   "cell_type": "code",
   "execution_count": null,
   "metadata": {
    "colab": {
     "base_uri": "https://localhost:8080/",
     "height": 345
    },
    "id": "uW9jzaM8Kl1g",
    "outputId": "0da8f894-aa54-4012-f03e-cb2431978088"
   },
   "outputs": [],
   "source": [
    "# Dynamic Renaming\n",
    "rename_map = {\n",
    "    'manufacturerprovcode': 'province',\n",
    "    'moisturepercent': 'moisture_percent',\n",
    "    'fatlevel': 'fat_level',\n",
    "    'categorytypeen': 'category_type',\n",
    "    'milktypeen': 'milk_type',\n",
    "    'flavouren': 'flavour',\n",
    "    'rindtypeen': 'rind_type',\n",
    "    'cheesename': 'cheese_name',\n",
    "    'characteristicsen': 'characteristics',\n",
    "    'milktreatmenttypeen': 'milk_treatment',\n",
    "    'manufacturingtypeen': 'manufacturing_type'\n",
    "}\n",
    "\n",
    "valid_renames = {k: v for k, v in rename_map.items() if k in cheese_df.columns}\n",
    "cheese_df.rename(columns=valid_renames, inplace=True)\n",
    "\n",
    "# Drop columns with >30% missing\n",
    "missing_ratio = cheese_df.isnull().mean()\n",
    "high_missing_cols = missing_ratio[missing_ratio > 0.3].index.tolist()\n",
    "cheese_df.drop(columns=high_missing_cols, inplace=True, errors='ignore')\n",
    "\n",
    "# Drop rows with nulls in important fields (if present)\n",
    "required_cols = ['moisture_percent', 'category_type', 'milk_type']\n",
    "valid_required_cols = [col for col in required_cols if col in cheese_df.columns]\n",
    "cheese_df.dropna(subset=valid_required_cols, inplace=True)\n",
    "\n",
    "# Normalize text values safely\n",
    "for text_col in ['fat_level', 'province']:\n",
    "    if text_col in cheese_df.columns:\n",
    "        if text_col == 'fat_level':\n",
    "            cheese_df[text_col] = cheese_df[text_col].astype(str).str.strip().str.lower()\n",
    "        else:\n",
    "            cheese_df[text_col] = cheese_df[text_col].astype(str).str.strip().str.title()\n",
    "\n",
    "# Summary\n",
    "print(\"Final Cheese Dataset Columns (after cleaning):\")\n",
    "print(cheese_df.columns.tolist())\n",
    "print(f\"Final shape: {cheese_df.shape}\")\n",
    "cheese_df.head()\n"
   ]
  },
  {
   "cell_type": "markdown",
   "metadata": {
    "id": "VOq93cAERaz9"
   },
   "source": [
    "# **weather dataset cleaning:**\n",
    "\n",
    "Has temperature in \"value (°F)\" format, e.g., \"10.8 (51.4)\"\n",
    "\n",
    "Has no separate province column, only Community names like \"Charlottetown, PE\""
   ]
  },
  {
   "cell_type": "code",
   "execution_count": null,
   "metadata": {
    "colab": {
     "base_uri": "https://localhost:8080/",
     "height": 474
    },
    "id": "BRgYigtuKlzO",
    "outputId": "f673f2e0-f146-4ae3-afe5-cdc05a7c0ca2"
   },
   "outputs": [],
   "source": [
    "import re\n",
    "\n",
    "#  Extract Province Code\n",
    "weather_df['province'] = weather_df['Community'].apply(lambda x: x.split(',')[-1].strip())\n",
    "\n",
    "#  Extract only Celsius from values like '−7.3 (18.9)' and handle Unicode minus\n",
    "def extract_celsius(temp_str):\n",
    "    if not isinstance(temp_str, str):\n",
    "        return None\n",
    "    # Replace Unicode minus with standard minus\n",
    "    clean_str = temp_str.replace('−', '-').strip()\n",
    "    match = re.match(r\"(-?\\d+\\.?\\d*)\", clean_str)\n",
    "    return float(match.group(1)) if match else None\n",
    "\n",
    "# Apply to high and low temp columns\n",
    "weather_df['annual_high_c'] = weather_df['Annual(Avg. high °C (°F))'].apply(extract_celsius)\n",
    "weather_df['annual_low_c'] = weather_df['Annual(Avg. low °C (°F))'].apply(extract_celsius)\n",
    "\n",
    "#  Calculate average annual temp\n",
    "weather_df['avg_annual_temp'] = weather_df[['annual_high_c', 'annual_low_c']].mean(axis=1)\n",
    "\n",
    "#  Get average by province\n",
    "weather_summary = weather_df.groupby('province')['avg_annual_temp'].mean().reset_index()\n",
    "weather_summary.columns = ['province', 'avg_temperature_c']\n",
    "\n",
    "print(\" Clean Weather Summary by Province:\")\n",
    "display(weather_summary)\n"
   ]
  },
  {
   "cell_type": "markdown",
   "metadata": {
    "id": "65F2unC9Sdo8"
   },
   "source": [
    "# **Merge Cheese & Weather Datasets**"
   ]
  },
  {
   "cell_type": "code",
   "execution_count": null,
   "metadata": {
    "colab": {
     "base_uri": "https://localhost:8080/"
    },
    "id": "GhdaaM8fC6Fp",
    "outputId": "7d961c76-a668-42fe-f32b-6544f8eb768f"
   },
   "outputs": [],
   "source": [
    "# At first lets check column names in both df\n",
    "print(\"Cheese DataFrame columns:\")\n",
    "print(cheese_df.columns.tolist())\n",
    "\n",
    "print(\"\\n Weather Summary DataFrame columns:\")\n",
    "print(weather_summary.columns.tolist())\n"
   ]
  },
  {
   "cell_type": "code",
   "execution_count": null,
   "metadata": {
    "id": "wCS_szmPDCoF"
   },
   "outputs": [],
   "source": [
    "# Force-rename cheese columns to lowercase for merging and analysis\n",
    "cheese_df.rename(columns={\n",
    "    'ManufacturerProvCode': 'province',\n",
    "    'MoisturePercent': 'moisture_percent',\n",
    "    'FatLevel': 'fat_level',\n",
    "    'CategoryTypeEn': 'category_type',\n",
    "    'MilkTypeEn': 'milk_type',\n",
    "    'FlavourEn': 'flavour',\n",
    "    'CheeseName': 'cheese_name',\n",
    "}, inplace=True)\n",
    "\n",
    "# Standardize province column casing in both DataFrames\n",
    "cheese_df['province'] = cheese_df['province'].str.strip().str.title()\n",
    "weather_summary['province'] = weather_summary['province'].str.strip().str.title()\n"
   ]
  },
  {
   "cell_type": "code",
   "execution_count": null,
   "metadata": {
    "colab": {
     "base_uri": "https://localhost:8080/",
     "height": 362
    },
    "id": "uCdVqbIUKlwo",
    "outputId": "ea2802aa-d762-4a7b-f037-7c631f3c8a9b"
   },
   "outputs": [],
   "source": [
    "# Merge cheese and weather data on province code\n",
    "merged_df = pd.merge(cheese_df, weather_summary, on='province', how='inner')\n",
    "\n",
    "print(f\" Merged dataset shape: {merged_df.shape}\")\n",
    "display(merged_df.head())\n"
   ]
  },
  {
   "cell_type": "markdown",
   "metadata": {
    "id": "5Lz4LIsXq2rf"
   },
   "source": [
    "# **Verify Merge Quality**"
   ]
  },
  {
   "cell_type": "code",
   "execution_count": null,
   "metadata": {
    "colab": {
     "base_uri": "https://localhost:8080/"
    },
    "id": "Y6x1PUpiKlsT",
    "outputId": "4f8ba74a-8351-463f-dd5c-25e322ff9dd5"
   },
   "outputs": [],
   "source": [
    "print(\"Unique provinces in merged data:\")\n",
    "print(merged_df['province'].unique())\n",
    "\n",
    "print(\"\\n Preview of average temperature distribution:\")\n",
    "print(merged_df['avg_temperature_c'].describe())\n"
   ]
  },
  {
   "cell_type": "code",
   "execution_count": null,
   "metadata": {
    "id": "HgAodIDOKlWb"
   },
   "outputs": [],
   "source": []
  },
  {
   "cell_type": "code",
   "execution_count": null,
   "metadata": {
    "id": "bS00MYawEMC-"
   },
   "outputs": [],
   "source": []
  },
  {
   "cell_type": "markdown",
   "metadata": {
    "id": "LiUUxm_jEMox"
   },
   "source": [
    "# **Visualizations + Analytical Insight**"
   ]
  },
  {
   "cell_type": "code",
   "execution_count": null,
   "metadata": {
    "colab": {
     "base_uri": "https://localhost:8080/",
     "height": 1000
    },
    "id": "srtMKfeLEPd9",
    "outputId": "5ccf8a80-a6d0-4c42-fa27-352e375d4cfa"
   },
   "outputs": [],
   "source": [
    "import seaborn as sns\n",
    "import matplotlib.pyplot as plt\n",
    "import plotly.express as px\n",
    "\n",
    "# === 1. Cheese Category vs Avg Temp (Box Plot) ===\n",
    "plt.figure(figsize=(12, 6))\n",
    "sns.boxplot(data=merged_df, x='category_type', y='avg_temperature_c', palette='viridis')\n",
    "plt.title('Cheese Category vs. Average Provincial Temperature', fontsize=14)\n",
    "plt.xlabel('Cheese Category')\n",
    "plt.ylabel('Avg Temperature (°C)')\n",
    "plt.xticks(rotation=30)\n",
    "plt.grid(axis='y', linestyle='--', alpha=0.5)\n",
    "plt.tight_layout()\n",
    "plt.show()\n",
    "\n",
    "# === 2. Fat & Moisture vs Temperature (Scatter Plot) ===\n",
    "plt.figure(figsize=(14, 6))\n",
    "\n",
    "# Fat content\n",
    "plt.subplot(1, 2, 1)\n",
    "sns.scatterplot(data=merged_df, x='avg_temperature_c', y='fat_level', alpha=0.7)\n",
    "plt.title('Fat Level vs. Average Temperature')\n",
    "plt.xlabel('Avg Temperature (°C)')\n",
    "plt.ylabel('Fat Level')\n",
    "\n",
    "# Moisture\n",
    "plt.subplot(1, 2, 2)\n",
    "sns.scatterplot(data=merged_df, x='avg_temperature_c', y='moisture_percent', color='teal', alpha=0.7)\n",
    "plt.title('Moisture % vs. Average Temperature')\n",
    "plt.xlabel('Avg Temperature (°C)')\n",
    "plt.ylabel('Moisture (%)')\n",
    "\n",
    "plt.tight_layout()\n",
    "plt.show()\n"
   ]
  },
  {
   "cell_type": "markdown",
   "metadata": {
    "id": "ElzGn7DTE6KX"
   },
   "source": [
    "##  Final Insights & Reflection\n",
    "\n",
    "###  Cheese Category vs Temperature\n",
    "- **Warmer climates** (avg 6–7°C) favor **Hard** and **Veined cheeses**, which typically require more aging — potentially due to favorable humidity and temperature control.\n",
    "- **Cooler regions** produce more **Fresh, Soft, and Semi-soft cheeses**, likely due to simpler processing and preservation needs in those climates.\n",
    "- This aligns with production logic: softer cheeses require less maturation and may better fit shorter warm seasons or refrigeration-heavy environments.\n",
    "\n",
    "###  Fat and Moisture vs Climate\n",
    "- **Fat content** did not show any noticeable correlation with temperature. However, a more detailed breakdown by fat percentage may uncover hidden trends.\n",
    "- **Moisture levels** showed a wider distribution in warmer regions — possibly due to diverse production styles or aging methods.\n",
    "- There is **no strong linear correlation**, but **temperature may indirectly influence texture and shelf life preferences**.\n",
    "\n",
    "###  Takeaway\n",
    "This analysis highlights subtle yet meaningful links between **climate and cheese characteristics** in Canada. With more granular data (e.g., exact production volume, humidity), predictive models could help optimize cheese production by region.\n",
    "\n"
   ]
  },
  {
   "cell_type": "markdown",
   "metadata": {
    "id": "OwgVjx9MFRx3"
   },
   "source": [
    "# **Interactive Visualization (Plotly)**"
   ]
  },
  {
   "cell_type": "code",
   "execution_count": null,
   "metadata": {
    "colab": {
     "base_uri": "https://localhost:8080/",
     "height": 542
    },
    "id": "srFNwYAnE9_D",
    "outputId": "2f9d51d6-1605-4ad7-abc2-75586c3399d4"
   },
   "outputs": [],
   "source": [
    "import plotly.express as px\n",
    "\n",
    "fig = px.box(\n",
    "    merged_df,\n",
    "    x=\"category_type\",\n",
    "    y=\"avg_temperature_c\",\n",
    "    color=\"category_type\",\n",
    "    title=\"Interactive: Cheese Category vs Avg Provincial Temperature\",\n",
    "    labels={\"avg_temperature_c\": \"Avg Temp (°C)\", \"category_type\": \"Cheese Category\"},\n",
    "    template=\"plotly_white\"\n",
    ")\n",
    "fig.update_layout(showlegend=False)\n",
    "fig.show()\n"
   ]
  },
  {
   "cell_type": "markdown",
   "metadata": {
    "id": "GXIMNxbvFWMk"
   },
   "source": [
    "# **Correlation Heatmap**"
   ]
  },
  {
   "cell_type": "code",
   "execution_count": null,
   "metadata": {
    "colab": {
     "base_uri": "https://localhost:8080/",
     "height": 682
    },
    "id": "SVps9W1SFZXW",
    "outputId": "8adf00a5-d436-41a5-a9d7-d4f6a01f8267"
   },
   "outputs": [],
   "source": [
    "import seaborn as sns\n",
    "import matplotlib.pyplot as plt\n",
    "\n",
    "# Encode fat level numerically (optional: for richer analysis)\n",
    "if 'fat_level' in merged_df.columns:\n",
    "    merged_df['fat_level_encoded'] = merged_df['fat_level'].map({'lower fat': 0, 'higher fat': 1})\n",
    "\n",
    "# Select only numeric columns for correlation\n",
    "numeric_cols = merged_df.select_dtypes(include=['float64', 'int64']).copy()\n",
    "correlation_matrix = numeric_cols.corr()\n",
    "\n",
    "# Plot heatmap\n",
    "plt.figure(figsize=(8, 6))\n",
    "sns.heatmap(correlation_matrix, annot=True, cmap='coolwarm', linewidths=0.5)\n",
    "plt.title(\"Correlation Heatmap: Numeric Cheese Features\")\n",
    "plt.show()\n"
   ]
  },
  {
   "cell_type": "code",
   "execution_count": null,
   "metadata": {
    "id": "Yh7RzwB1GLWi"
   },
   "outputs": [],
   "source": []
  },
  {
   "cell_type": "code",
   "execution_count": null,
   "metadata": {
    "id": "JPAELjmPGLDy"
   },
   "outputs": [],
   "source": []
  },
  {
   "cell_type": "markdown",
   "metadata": {
    "id": "Kn_rv3n7GL0-"
   },
   "source": [
    "# **Additional Visualizations**"
   ]
  },
  {
   "cell_type": "code",
   "execution_count": null,
   "metadata": {
    "colab": {
     "base_uri": "https://localhost:8080/",
     "height": 601
    },
    "id": "BTeTFZ4_GOCL",
    "outputId": "fcf7e156-5465-40cc-a26f-1b532c40cb39"
   },
   "outputs": [],
   "source": [
    "#Bar Plot: Cheese Category Frequency by Province\n",
    "plt.figure(figsize=(14, 6))\n",
    "sns.countplot(data=merged_df, x='province', hue='category_type', palette='Spectral')\n",
    "plt.title('Cheese Category Distribution by Province')\n",
    "plt.xlabel('Province')\n",
    "plt.ylabel('Cheese Count')\n",
    "plt.xticks(rotation=45)\n",
    "plt.legend(title='Cheese Category')\n",
    "plt.tight_layout()\n",
    "plt.show()\n"
   ]
  },
  {
   "cell_type": "markdown",
   "metadata": {
    "id": "o5ucKN3mG1Vp"
   },
   "source": [
    "###  Cheese Category Distribution by Province\n",
    "\n",
    "This grouped bar chart clearly shows that **Quebec dominates cheese production** in Canada, with high counts in nearly every category, especially **Firm, Semi-soft, and Soft cheeses**.\n",
    "\n",
    "Other provinces like **Ontario** and **British Columbia** contribute modestly with diverse categories, while provinces like **PEI and Alberta** show minimal representation.\n",
    "\n",
    "> **Takeaway**: Cheese production in Canada is geographically concentrated, with Quebec acting as the core hub. This likely reflects historical, cultural, and infrastructural factors that favor artisanal and industrial-scale cheese-making in the province.\n"
   ]
  },
  {
   "cell_type": "code",
   "execution_count": null,
   "metadata": {
    "colab": {
     "base_uri": "https://localhost:8080/",
     "height": 501
    },
    "id": "QkRru-JsGN-1",
    "outputId": "b6c6d69c-eef7-498f-98ed-b55a2e0ec43d"
   },
   "outputs": [],
   "source": [
    "#Temperature vs Number of Cheese Entries (Line Chart)\n",
    "# Count number of cheese entries per province\n",
    "cheese_counts = merged_df.groupby('province').size().reset_index(name='cheese_count')\n",
    "cheese_temp_counts = pd.merge(cheese_counts, weather_summary, on='province')\n",
    "\n",
    "# Plot\n",
    "plt.figure(figsize=(10, 5))\n",
    "sns.lineplot(data=cheese_temp_counts, x='avg_temperature_c', y='cheese_count', marker='o', color='darkblue')\n",
    "plt.title('Number of Cheese Types vs. Avg Provincial Temperature')\n",
    "plt.xlabel('Avg Temperature (°C)')\n",
    "plt.ylabel('Number of Cheese Entries')\n",
    "plt.grid(True, linestyle='--', alpha=0.5)\n",
    "plt.tight_layout()\n",
    "plt.show()\n"
   ]
  },
  {
   "cell_type": "markdown",
   "metadata": {
    "id": "omFgUoMUG8wO"
   },
   "source": [
    "###  Number of Cheese Types vs. Avg Provincial Temperature\n",
    "\n",
    "This line plot highlights a surprising trend — the **largest number of cheese varieties are produced in regions with an average temperature around 4°C**.\n",
    "\n",
    "Temperatures higher or lower than that tend to be associated with significantly **fewer cheese types**, suggesting an **optimal climatic range for cheese diversity**.\n",
    "\n",
    "> **Interpretation**: There may be a \"sweet spot\" for cheese innovation and production diversity around moderate climates, which balance environmental control with natural maturation conditions.\n"
   ]
  },
  {
   "cell_type": "code",
   "execution_count": null,
   "metadata": {
    "colab": {
     "base_uri": "https://localhost:8080/",
     "height": 601
    },
    "id": "75irAJfJGNcW",
    "outputId": "a1ccbaad-4b03-4ea3-ea7d-becc005cd096"
   },
   "outputs": [],
   "source": [
    "#  2D Scatter: Moisture vs Fat with Temp Color\n",
    "import matplotlib.cm as cm\n",
    "\n",
    "plt.figure(figsize=(10, 6))\n",
    "sc = plt.scatter(\n",
    "    merged_df['moisture_percent'],\n",
    "    merged_df['fat_level'].map({'lower fat': 0, 'higher fat': 1}),\n",
    "    c=merged_df['avg_temperature_c'],\n",
    "    cmap='coolwarm',\n",
    "    s=60,\n",
    "    edgecolor='k',\n",
    "    alpha=0.8\n",
    ")\n",
    "plt.colorbar(sc, label='Avg Temperature (°C)')\n",
    "plt.title('Moisture vs. Fat Level (Colored by Temperature)')\n",
    "plt.xlabel('Moisture (%)')\n",
    "plt.ylabel('Fat Level (0 = lower fat, 1 = higher fat)')\n",
    "plt.grid(True)\n",
    "plt.tight_layout()\n",
    "plt.show()\n"
   ]
  },
  {
   "cell_type": "markdown",
   "metadata": {
    "id": "gNsfS4VOHAKo"
   },
   "source": [
    "###  Moisture vs. Fat Level (Colored by Temperature)\n",
    "\n",
    "This multivariate scatter plot reveals:\n",
    "\n",
    "- **Higher moisture cheeses** are found across all temperatures but are more common in **warmer regions** (red-orange dots).\n",
    "- **Lower fat cheeses** appear across all moisture levels and temperatures, while **higher fat cheeses** tend to cluster slightly in mid-moisture zones.\n",
    "- There's **no obvious linear trend**, but the color gradient shows that warmer regions offer **greater variability** in cheese styles.\n",
    "\n",
    "> **Insight**: While fat level may be more recipe-driven, **moisture interacts subtly with climate**, affecting cheese texture, storage needs, and shelf stability.\n"
   ]
  },
  {
   "cell_type": "code",
   "execution_count": null,
   "metadata": {
    "id": "ii7RlXbuF0cn"
   },
   "outputs": [],
   "source": []
  },
  {
   "cell_type": "code",
   "execution_count": null,
   "metadata": {
    "id": "5gmNEY6rIiUL"
   },
   "outputs": [],
   "source": []
  },
  {
   "cell_type": "code",
   "execution_count": null,
   "metadata": {
    "id": "6KdDrrVDIiQ8"
   },
   "outputs": [],
   "source": []
  },
  {
   "cell_type": "markdown",
   "metadata": {
    "id": "OlTF97CZIi_l"
   },
   "source": [
    "# **For Bonus Points**"
   ]
  },
  {
   "cell_type": "code",
   "execution_count": null,
   "metadata": {
    "id": "iLKcjibNIiOV"
   },
   "outputs": [],
   "source": [
    "def clean_cheese_data(df, rename_map=None, drop_missing_thresh=0.3, required_fields=None):\n",
    "    \"\"\"\n",
    "    Cleans the Canadian Cheese dataset dynamically:\n",
    "    - Renames columns if rename_map is provided\n",
    "    - Drops columns with > drop_missing_thresh missing values\n",
    "    - Drops rows with nulls in required_fields (if provided)\n",
    "    - Normalizes 'fat_level' and 'province' if present\n",
    "    \"\"\"\n",
    "    df = df.copy()\n",
    "\n",
    "    # Rename columns\n",
    "    if rename_map:\n",
    "        valid_renames = {k: v for k, v in rename_map.items() if k in df.columns}\n",
    "        df.rename(columns=valid_renames, inplace=True)\n",
    "\n",
    "    #Drop high-missing columns\n",
    "    missing_ratio = df.isnull().mean()\n",
    "    high_missing_cols = missing_ratio[missing_ratio > drop_missing_thresh].index.tolist()\n",
    "    df.drop(columns=high_missing_cols, inplace=True, errors='ignore')\n",
    "\n",
    "    # Drop rows missing required fields\n",
    "    if required_fields:\n",
    "        existing = [col for col in required_fields if col in df.columns]\n",
    "        df.dropna(subset=existing, inplace=True)\n",
    "\n",
    "    # Normalize text fields\n",
    "    if 'fat_level' in df.columns:\n",
    "        df['fat_level'] = df['fat_level'].astype(str).str.strip().str.lower()\n",
    "    if 'province' in df.columns:\n",
    "        df['province'] = df['province'].astype(str).str.strip().str.title()\n",
    "\n",
    "    return df\n"
   ]
  },
  {
   "cell_type": "code",
   "execution_count": null,
   "metadata": {
    "id": "bknC9JR3IiLc"
   },
   "outputs": [],
   "source": [
    "# define renaming and required fields\n",
    "cheese_rename_map = {\n",
    "    'ManufacturerProvCode': 'province',\n",
    "    'MoisturePercent': 'moisture_percent',\n",
    "    'FatLevel': 'fat_level',\n",
    "    'CategoryTypeEn': 'category_type',\n",
    "    'MilkTypeEn': 'milk_type',\n",
    "    'FlavourEn': 'flavour',\n",
    "    'CheeseName': 'cheese_name',\n",
    "    'CharacteristicsEn': 'characteristics',\n",
    "    'MilkTreatmentTypeEn': 'milk_treatment',\n",
    "    'ManufacturingTypeEn': 'manufacturing_type'\n",
    "}\n",
    "\n",
    "required_fields = ['moisture_percent', 'category_type', 'milk_type']\n",
    "\n",
    "# Apply pipeline\n",
    "cheese_df_cleaned = clean_cheese_data(\n",
    "    df=cheese_df,\n",
    "    rename_map=cheese_rename_map,\n",
    "    drop_missing_thresh=0.3,\n",
    "    required_fields=required_fields\n",
    ")\n"
   ]
  },
  {
   "cell_type": "markdown",
   "metadata": {
    "id": "7S8Unl8bIswI"
   },
   "source": [
    "##  Bonus: Custom Data Cleaning Pipeline\n",
    "\n",
    "To demonstrate advanced skills in real-world data preparation, I implemented a **modular and reusable data cleaning pipeline** using a Python function.\n",
    "\n",
    "### Features of the Cleaning Function:\n",
    "- **Dynamic column renaming** (based on actual schema)\n",
    "- **Auto-detection of high-missing columns** with a threshold\n",
    "- **Safe null row removal** for required fields\n",
    "- **Text normalization** for consistency in categorical columns\n",
    "\n",
    "### Why This Matters:\n",
    "- Real data projects often deal with **inconsistent column names, schema drift, and missing data**.\n",
    "- This pipeline anticipates those issues and adapts accordingly.\n",
    "- It allows future cheese datasets (or any similar structured data) to be cleaned with **one line of reusable code**.\n",
    "\n",
    "> This isn't just functional — it's designed with **maintainability, readability, and reusability** in mind, which are hallmarks of professional data engineering.\n"
   ]
  },
  {
   "cell_type": "code",
   "execution_count": null,
   "metadata": {
    "id": "clKRF1SXIiIs"
   },
   "outputs": [],
   "source": []
  },
  {
   "cell_type": "code",
   "execution_count": null,
   "metadata": {
    "id": "ErSWQTNwIiGJ"
   },
   "outputs": [],
   "source": []
  },
  {
   "cell_type": "code",
   "execution_count": null,
   "metadata": {
    "id": "DynLNldfIiDX"
   },
   "outputs": [],
   "source": []
  }
 ],
 "metadata": {
  "colab": {
   "provenance": []
  },
  "kernelspec": {
   "display_name": "Python [conda env:base] *",
   "language": "python",
   "name": "conda-base-py"
  },
  "language_info": {
   "codemirror_mode": {
    "name": "ipython",
    "version": 3
   },
   "file_extension": ".py",
   "mimetype": "text/x-python",
   "name": "python",
   "nbconvert_exporter": "python",
   "pygments_lexer": "ipython3",
   "version": "3.12.7"
  }
 },
 "nbformat": 4,
 "nbformat_minor": 4
}

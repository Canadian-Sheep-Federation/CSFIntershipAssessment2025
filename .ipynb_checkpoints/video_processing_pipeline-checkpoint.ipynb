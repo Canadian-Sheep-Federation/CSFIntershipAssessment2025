{
 "cells": [
  {
   "cell_type": "code",
   "execution_count": null,
   "id": "6f861b7e",
   "metadata": {},
   "outputs": [],
   "source": [
    "import cv2\n",
    "import time\n",
    "import random\n",
    "\n",
    "def detect_carrots(frame):\n",
    "    # Simulates 10% chance of carrot detection per frame\n",
    "    return random.random() < 0.1\n",
    "\n",
    "cpt = cv2.VideoCapture(0)\n",
    "\n",
    "print(\"Starting video stream. Press 'q' to quit.\")\n",
    "while cpt.isOpened():\n",
    "    ret, frame = cpt.read()\n",
    "    if not ret:\n",
    "        break\n",
    "\n",
    "    if detect_carrots(frame):\n",
    "        print(f\" Carrot detected at {time.strftime('%H:%M:%S')}\")\n",
    "\n",
    "    # Display the video feed\n",
    "    cv2.imshow('Carrot Detector', frame)\n",
    "\n",
    "    if cv2.waitKey(1) & 0xFF == ord('q'):\n",
    "        break\n",
    "\n",
    "cpt.release()\n",
    "cv2.destroyAllWindows()\n"
   ]
  }
 ],
 "metadata": {
  "language_info": {
   "name": "python"
  }
 },
 "nbformat": 4,
 "nbformat_minor": 5
}

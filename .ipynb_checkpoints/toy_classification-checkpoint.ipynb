{
 "cells": [
  {
   "cell_type": "markdown",
   "id": "1347ecb4",
   "metadata": {},
   "source": [
    "# Toy Implementation Demo; Logistic Regression\n",
    "\n",
    "This notebook is a demonstration of a simple binary classification task using synthetic data.\n",
    "\n",
    "It covers the key fundamentals: data generation, training and testing split, model training, prediction, and visualization.\n"
   ]
  },
  {
   "cell_type": "code",
   "execution_count": null,
   "id": "0d19eee5",
   "metadata": {},
   "outputs": [],
   "source": [
    "from sklearn.datasets import make_classification\n",
    "from sklearn.linear_model import LogisticRegression\n",
    "from sklearn.model_selection import train_test_split\n",
    "from sklearn.metrics import accuracy_score\n",
    "import matplotlib.pyplot as plt\n",
    "\n",
    "# data generation\n",
    "X, y = make_classification(n_samples=300, n_features=2, n_informative=2,\n",
    "                           n_redundant=0, n_clusters_per_class=1,\n",
    "                           class_sep=1.5, random_state=42)\n",
    "\n",
    "# train/test split\n",
    "X_train, X_test, y_train, y_test = train_test_split(X, y, test_size=0.3, random_state=42)\n",
    "\n",
    "# Model\n",
    "model = LogisticRegression()\n",
    "model.fit(X_train, y_train)\n",
    "\n",
    "# prediction\n",
    "y_pred = model.predict(X_test)\n",
    "print(\"Accuracy:\", accuracy_score(y_test, y_pred))\n",
    "\n",
    "# visualization\n",
    "plt.figure(figsize=(8, 6))\n",
    "plt.title(\"Toy Classification Demo\")\n",
    "plt.scatter(X_test[:, 0], X_test[:, 1], c=y_pred, cmap=\"coolwarm\", edgecolor='k')\n",
    "plt.xlabel(\"Feature 1\")\n",
    "plt.ylabel(\"Feature 2\")\n",
    "plt.grid(True)\n",
    "plt.show()\n"
   ]
  }
 ],
 "metadata": {
  "language_info": {
   "name": "python"
  }
 },
 "nbformat": 4,
 "nbformat_minor": 5
}
